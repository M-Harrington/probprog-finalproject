{
 "cells": [
  {
   "cell_type": "code",
   "execution_count": null,
   "metadata": {},
   "outputs": [],
   "source": [
    "import numpy as np\n",
    "import seaborn as sns\n",
    "import matplotlib.pyplot as plt"
   ]
  },
  {
   "cell_type": "code",
   "execution_count": null,
   "metadata": {},
   "outputs": [],
   "source": [
    "%matplotlib inline"
   ]
  },
  {
   "cell_type": "markdown",
   "metadata": {},
   "source": [
    "## Generating Data"
   ]
  },
  {
   "cell_type": "code",
   "execution_count": null,
   "metadata": {},
   "outputs": [],
   "source": [
    "seed = 6343\n",
    "np.random.seed(seed)"
   ]
  },
  {
   "cell_type": "code",
   "execution_count": null,
   "metadata": {},
   "outputs": [],
   "source": [
    "n = 15\n",
    "m = 15"
   ]
  },
  {
   "cell_type": "code",
   "execution_count": null,
   "metadata": {},
   "outputs": [],
   "source": [
    "farm_clusters = (np.random.random((n, 2)) * 10).round(decimals=1)\n",
    "ranges = np.random.random((n, 2)) * 0.3"
   ]
  },
  {
   "cell_type": "code",
   "execution_count": null,
   "metadata": {},
   "outputs": [],
   "source": [
    "ranges = ranges.round(decimals=1)"
   ]
  },
  {
   "cell_type": "code",
   "execution_count": null,
   "metadata": {},
   "outputs": [],
   "source": [
    "farm_pixels = []\n",
    "for i in range(n):\n",
    "    xs = farm_clusters[i][0] - ranges[i][0]\n",
    "    xe = farm_clusters[i][0] + ranges[i][0]\n",
    "    \n",
    "    ys = farm_clusters[i][1] - ranges[i][1]\n",
    "    ye = farm_clusters[i][1] + ranges[i][1]\n",
    "    \n",
    "    for x in np.arange(xs, xe + 0.1, 0.1):\n",
    "        for y in np.arange(ys, ye + 0.1, 0.1):\n",
    "            farm_pixels.append([x, y])\n",
    "    \n",
    "farm_pixels = np.array(farm_pixels).round(decimals=1)\n",
    "\n",
    "farm_pixels = farm_pixels[~((farm_pixels[:, 0] < 0) | (farm_pixels[:, 1] < 0))]"
   ]
  },
  {
   "cell_type": "code",
   "execution_count": null,
   "metadata": {},
   "outputs": [],
   "source": [
    "wells = (np.random.random((m, 2)) * 10).round(decimals=1)"
   ]
  },
  {
   "cell_type": "code",
   "execution_count": null,
   "metadata": {},
   "outputs": [],
   "source": [
    "plt.clf()\n",
    "fig = plt.figure(figsize=(15, 15))\n",
    "plt.scatter(farm_pixels[:, 0], farm_pixels[:, 1], marker=\"s\", s=10, color=\"lightgreen\")\n",
    "plt.scatter(wells[:, 0], wells[:, 1], marker=\"s\", s=15, color=\"blue\")\n",
    "plt.show()"
   ]
  },
  {
   "cell_type": "code",
   "execution_count": null,
   "metadata": {},
   "outputs": [],
   "source": [
    "base_water_level = -np.random.randint(0, n)\n",
    "distance_weight = np.random.random()\n",
    "farm_factor = np.random.random()"
   ]
  },
  {
   "cell_type": "code",
   "execution_count": null,
   "metadata": {},
   "outputs": [],
   "source": [
    "def get_observations(wells, farms, farm_factor, distance_weight, base):\n",
    "    def pairwise_distances(x, y=None):\n",
    "        x_norm = (x ** 2).sum(1)[:, None]\n",
    "        y_norm = (y ** 2).sum(1)[None, :]\n",
    "        \n",
    "        dist = x_norm + y_norm - 2.0 * np.matmul(x, y.T)\n",
    "        \n",
    "        return dist\n",
    "    \n",
    "    obs = base - np.sum(np.exp(-pairwise_distances(wells, farms) / distance_weight), 1) * farm_factor\n",
    "    obs += np.random.randn(*obs.shape) * 0.5\n",
    "    \n",
    "    return obs"
   ]
  },
  {
   "cell_type": "code",
   "execution_count": null,
   "metadata": {},
   "outputs": [],
   "source": [
    "with open(\"data/sample_data2.csv\", \"w\") as f:\n",
    "    f.write(\"type,latitude,longitude,observation\\n\")\n",
    "    \n",
    "    f.writelines([\n",
    "        \"farm,{},{},1\\n\".format(x, y)\n",
    "        for x, y in farm_pixels\n",
    "    ])\n",
    "    \n",
    "    obs = get_observations(wells, farm_pixels, farm_factor, distance_weight, base_water_level)\n",
    "    f.writelines([\n",
    "        \"well,{},{},{}\\n\".format(x, y, o)\n",
    "        for (x, y), o in zip(wells, obs)\n",
    "    ])"
   ]
  },
  {
   "cell_type": "code",
   "execution_count": null,
   "metadata": {},
   "outputs": [],
   "source": [
    "base_water_level"
   ]
  },
  {
   "cell_type": "code",
   "execution_count": null,
   "metadata": {},
   "outputs": [],
   "source": [
    "distance_weight"
   ]
  },
  {
   "cell_type": "code",
   "execution_count": null,
   "metadata": {},
   "outputs": [],
   "source": [
    "farm_factor"
   ]
  }
 ],
 "metadata": {
  "kernelspec": {
   "display_name": "Python 3 (ML)",
   "language": "python",
   "name": "ml"
  },
  "language_info": {
   "codemirror_mode": {
    "name": "ipython",
    "version": 3
   },
   "file_extension": ".py",
   "mimetype": "text/x-python",
   "name": "python",
   "nbconvert_exporter": "python",
   "pygments_lexer": "ipython3",
   "version": "3.7.4"
  }
 },
 "nbformat": 4,
 "nbformat_minor": 2
}
