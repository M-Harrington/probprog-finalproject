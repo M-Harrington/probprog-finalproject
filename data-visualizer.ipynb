{
 "cells": [
  {
   "cell_type": "code",
   "execution_count": null,
   "metadata": {},
   "outputs": [],
   "source": [
    "import numpy as np\n",
    "import seaborn as sns\n",
    "import matplotlib.pyplot as plt\n",
    "from IPython.display import HTML\n",
    "import matplotlib.animation as animation"
   ]
  },
  {
   "cell_type": "code",
   "execution_count": null,
   "metadata": {},
   "outputs": [],
   "source": [
    "%matplotlib inline"
   ]
  },
  {
   "cell_type": "markdown",
   "metadata": {},
   "source": [
    "## Generating Data"
   ]
  },
  {
   "cell_type": "code",
   "execution_count": null,
   "metadata": {},
   "outputs": [],
   "source": [
    "seed = 6343\n",
    "np.random.seed(seed)"
   ]
  },
  {
   "cell_type": "code",
   "execution_count": null,
   "metadata": {},
   "outputs": [],
   "source": [
    "n = 15\n",
    "m = 15"
   ]
  },
  {
   "cell_type": "code",
   "execution_count": null,
   "metadata": {},
   "outputs": [],
   "source": [
    "farm_clusters = (np.random.random((n, 2)) * 10).round(decimals=1)\n",
    "ranges = np.random.random((n, 2)) * 0.3\n",
    "\n",
    "farm_pixels = []\n",
    "for i in range(n):\n",
    "    xs = farm_clusters[i][0] - ranges[i][0]\n",
    "    xe = farm_clusters[i][0] + ranges[i][0]\n",
    "\n",
    "    ys = farm_clusters[i][1] - ranges[i][1]\n",
    "    ye = farm_clusters[i][1] + ranges[i][1]\n",
    "\n",
    "    for x in np.arange(xs, xe + 0.1, 0.1):\n",
    "        for y in np.arange(ys, ye + 0.1, 0.1):\n",
    "            farm_pixels.append([x, y])\n",
    "\n",
    "farm_pixels = np.array(farm_pixels).round(decimals=1)\n",
    "farm_pixels = farm_pixels[~((farm_pixels[:, 0] < 0) | (farm_pixels[:, 1] < 0))]\n",
    "\n",
    "wells = (np.random.random((m, 2)) * 10).round(decimals=1)"
   ]
  },
  {
   "cell_type": "code",
   "execution_count": null,
   "metadata": {},
   "outputs": [],
   "source": [
    "seasonal_factor = [-1, -2, 3, 0]"
   ]
  },
  {
   "cell_type": "code",
   "execution_count": null,
   "metadata": {},
   "outputs": [],
   "source": [
    "base_water_level = -np.random.randint(0, n)\n",
    "distance_weight = np.random.random()\n",
    "farm_factor = np.random.random()"
   ]
  },
  {
   "cell_type": "code",
   "execution_count": null,
   "metadata": {},
   "outputs": [],
   "source": [
    "def get_observations(\n",
    "    wells, farms, farm_factor, distance_weight, base_water_level, seasonal_factor\n",
    "):\n",
    "    def pairwise_distances(x, y=None):\n",
    "        x_norm = (x ** 2).sum(1)[:, None]\n",
    "        y_norm = (y ** 2).sum(1)[None, :]\n",
    "\n",
    "        dist = x_norm + y_norm - 2.0 * np.matmul(x, y.T)\n",
    "\n",
    "        return dist\n",
    "\n",
    "    def get_observations_at_timestep(wells, farms, base):\n",
    "        obs = (\n",
    "            base\n",
    "            - np.sum(np.exp(-pairwise_distances(wells, farms) / distance_weight), 1)\n",
    "            * farm_factor\n",
    "        )\n",
    "        obs += np.random.randn(*obs.shape) * 0.5\n",
    "\n",
    "        return obs\n",
    "\n",
    "    base_water_levels = list()\n",
    "    for i in range(40):\n",
    "        base_water_level = min(\n",
    "            base_water_level\n",
    "            + seasonal_factor[i % 4]\n",
    "            + np.random.randn() / 5,\n",
    "            0,\n",
    "        )\n",
    "\n",
    "        base_water_levels.append(base_water_level)\n",
    "        \n",
    "    parameters = {\"mu_{}\".format(i): base_water_levels[i] for i in range(40)}\n",
    "    \n",
    "    parameters[\"delta\"] = farm_factor\n",
    "    parameters[\"theta_f\"] = distance_weight\n",
    "\n",
    "    return parameters, [\n",
    "        get_observations_at_timestep(wells, farms, base_water_levels[i])\n",
    "        for i in range(40)\n",
    "    ]"
   ]
  },
  {
   "cell_type": "code",
   "execution_count": null,
   "metadata": {},
   "outputs": [],
   "source": [
    "parameters, observations = get_observations(\n",
    "    wells, farm_pixels, farm_factor, distance_weight, base_water_level, seasonal_factor\n",
    ")\n",
    "\n",
    "with open(\"data/sample_data2.csv\", \"w\") as f:\n",
    "    f.write(\"timestep,type,latitude,longitude,observation\\n\")\n",
    "\n",
    "    f.writelines([\"0,farm,{},{},1\\n\".format(x, y) for x, y in farm_pixels])\n",
    "    \n",
    "    for t, observations_ in enumerate(observations):\n",
    "        f.writelines(\n",
    "            [\"{},well,{},{},{}\\n\".format(t, x, y, o) for (x, y), o in zip(wells, observations_)]\n",
    "        )"
   ]
  },
  {
   "cell_type": "code",
   "execution_count": null,
   "metadata": {},
   "outputs": [],
   "source": [
    "plt.clf()\n",
    "fig = plt.figure(figsize=(10, 10), dpi=100)\n",
    "\n",
    "plt.ion()\n",
    "\n",
    "plt.scatter(farm_pixels[:, 0], farm_pixels[:, 1], marker=\"s\", s=5, color=\"lightgreen\")\n",
    "\n",
    "scat = plt.scatter(wells[:, 0], wells[:, 1], marker=\"s\", s=5, c=[(0, 0, 0, 1)] * len(wells))\n",
    "label = plt.text(0, 0, '', fontsize=7)\n",
    "\n",
    "colors = []\n",
    "for observations_ in observations:\n",
    "    min_v = min(observations_)\n",
    "    max_v = max(observations_)\n",
    "#     colors.append([max((x - min_v) / (max_v - min_v), 0.1) for x in observations_])\n",
    "    colors.append([1 - abs(x) / 25 for x in observations_])\n",
    "    \n",
    "colors = np.array(colors)\n",
    "\n",
    "def update_plot(i, scat):\n",
    "    scat.set_array(colors[i])\n",
    "    label.set_text([\"Sp\", \"Su\", \"Fa\", \"Wi\"][i % 4])\n",
    "    return scat,\n",
    "\n",
    "ani = animation.FuncAnimation(fig, update_plot, frames=range(len(observations)), fargs=(scat,), interval=1000)\n",
    "\n",
    "plt.gray()\n",
    "plt.close();"
   ]
  },
  {
   "cell_type": "code",
   "execution_count": null,
   "metadata": {
    "scrolled": false
   },
   "outputs": [],
   "source": [
    "HTML(ani.to_html5_video())"
   ]
  },
  {
   "cell_type": "code",
   "execution_count": null,
   "metadata": {},
   "outputs": [],
   "source": [
    "with open(\"data/kr-samples.json\", \"r\") as f:\n",
    "    kr_samples = {k: np.array(v) for k, v in json.load(f).items()}"
   ]
  },
  {
   "cell_type": "code",
   "execution_count": null,
   "metadata": {},
   "outputs": [],
   "source": [
    "with open(\"data/gp-samples.json\", \"r\") as f:\n",
    "    gp_samples = {k: np.array(v) for k, v in json.load(f).items()}"
   ]
  },
  {
   "cell_type": "code",
   "execution_count": null,
   "metadata": {},
   "outputs": [],
   "source": [
    "keys = set(kr_samples.keys()).intersection(parameters.keys()).intersection(gp_samples.keys())"
   ]
  },
  {
   "cell_type": "code",
   "execution_count": null,
   "metadata": {},
   "outputs": [],
   "source": [
    "for k in sorted(list(keys)):\n",
    "    print(\"{0:7} | {1:6.3f} {2:7.3f} {3:7.3f}\".format(k, parameters[k], kr_samples[k].mean(0), gp_samples[k].mean(0)))"
   ]
  }
 ],
 "metadata": {
  "kernelspec": {
   "display_name": "Python 3 (ML)",
   "language": "python",
   "name": "ml"
  },
  "language_info": {
   "codemirror_mode": {
    "name": "ipython",
    "version": 3
   },
   "file_extension": ".py",
   "mimetype": "text/x-python",
   "name": "python",
   "nbconvert_exporter": "python",
   "pygments_lexer": "ipython3",
   "version": "3.7.4"
  }
 },
 "nbformat": 4,
 "nbformat_minor": 2
}
