{
 "cells": [
  {
   "cell_type": "markdown",
   "metadata": {},
   "source": [
    "# Well and EVI preprocessing\n",
    "Taking evi rasters and put them into one dataset, meanwhile compute distances between wells and pixels"
   ]
  },
  {
   "cell_type": "code",
   "execution_count": 1,
   "metadata": {},
   "outputs": [],
   "source": [
    "import xarray as xr\n",
    "import numpy as np\n",
    "import matplotlib.pyplot as plt\n",
    "import pandas as pd\n",
    "import datetime as dt\n",
    "\n",
    "import os\n",
    "from scipy.spatial.distance import cdist"
   ]
  },
  {
   "cell_type": "code",
   "execution_count": 2,
   "metadata": {},
   "outputs": [],
   "source": [
    "os.chdir(\"C:\\\\Users\\\\Matttt\\\\Documents\\\\Python Scripts\\\\ProbProg-ExtraScripts\")"
   ]
  },
  {
   "cell_type": "code",
   "execution_count": 3,
   "metadata": {},
   "outputs": [],
   "source": [
    "path=[]; evi_datasets = []\n",
    "# concatenate evi rasters\n",
    "for file_name in os.listdir(\"evi_layers/\"):\n",
    "    path = \"evi_layers/\"+file_name\n",
    "    \n",
    "    #open and parse names/dates\n",
    "    evi_tmp= xr.open_rasterio(path, parse_coordinates=None)\n",
    "    date= file_name.split('.')[0].split(\"k\")[1]\n",
    "    date=dt.datetime.strptime(date,'%Y-%m-%d')\n",
    "\n",
    "    evi_datasets.append(evi_tmp.assign_coords(date=date).sel(band=1))"
   ]
  },
  {
   "cell_type": "code",
   "execution_count": 4,
   "metadata": {},
   "outputs": [],
   "source": [
    "evi_dataset=xr.concat(evi_datasets,dim='date')"
   ]
  },
  {
   "cell_type": "code",
   "execution_count": 5,
   "metadata": {},
   "outputs": [],
   "source": [
    "xcoord= evi_dataset.isel(date=[0]).x.values  #optionally for testing x=[0,1,2,3],y=[0,1,2,3],\n",
    "ycoord= evi_dataset.isel(date=[0]).y.values\n",
    "\n",
    "\n",
    "c_list=[(a,b) for a in xcoord for b in ycoord]\n",
    "evi_coords = np.array(c_list)\n",
    "\n"
   ]
  },
  {
   "cell_type": "code",
   "execution_count": 6,
   "metadata": {},
   "outputs": [],
   "source": [
    "#load, remove nas\n",
    "wells= pd.read_csv(\"pp_well_data.csv\",index_col=0)\n",
    "wells= wells[wells['well.level'].notna()]\n",
    "wells['well.level'] = wells['well.level']*-1"
   ]
  },
  {
   "cell_type": "code",
   "execution_count": 7,
   "metadata": {},
   "outputs": [],
   "source": [
    "## calculate distances to particular set of wells,\n",
    "## might be worth making more efficient over x,y and also over wells_ids\n",
    "# cdist(wells[wells.time==1].loc[:,[\"lon\",\"lat\"]], evi_coords).shape"
   ]
  },
  {
   "cell_type": "code",
   "execution_count": 8,
   "metadata": {},
   "outputs": [],
   "source": [
    "#need wells to have same time dimensions as image files\n",
    "#pomk= 08-15,11-15; pomr= 11-15,01-15; prm= 01-15,05-15; mo= 05-15,08-15;\n",
    "\n",
    "def timefunc(well_time):\n",
    "    '''Well Time is a row from the wells matrix with season and year for simplicity\n",
    "    returns the translated time'''\n",
    "    if well_time['season'] == \"pomr\":\n",
    "        img_time = \"11-15\"\n",
    "    elif well_time['season'] == \"prm\":\n",
    "        img_time = \"01-15\"    \n",
    "    elif well_time['season'] == \"mo\":\n",
    "        img_time = \"05-15\"\n",
    "    else:\n",
    "        img_time= \"08-15\"\n",
    "        \n",
    "    img_time=dt.datetime.strptime(str(well_time['year_obs'])+\"-\"+img_time, '%Y-%m-%d')\n",
    "    return img_time\n",
    "    \n",
    "wells['time_long']= wells.apply(timefunc, axis=1)\n"
   ]
  },
  {
   "cell_type": "markdown",
   "metadata": {},
   "source": [
    "Note that the below should have been turned into a function, but time constraints got the best of me"
   ]
  },
  {
   "cell_type": "code",
   "execution_count": 16,
   "metadata": {},
   "outputs": [],
   "source": [
    "#Match up time dimensions\n",
    "wells=wells[wells.time_long.isin(evi_dataset.date.values)]\n",
    "wells_x=wells.loc[:,['lat','lon','time_long']]\n",
    "wells_y=wells.loc[:,['well.level','time_long']]\n",
    "\n",
    "#chop up dataframe into appropriate tensor shape (probably would have been better to just reshape using xarray)\n",
    "g = wells_x.groupby('time_long').cumcount()\n",
    "L = (wells_x.set_index(['time_long',g])\n",
    "       .unstack(fill_value=0)\n",
    "       .stack().groupby(level=0)\n",
    "       .apply(lambda x: x.values.tolist())\n",
    "       .tolist())\n",
    "\n",
    "#remove zero entries\n",
    "x_wells =[None]*len(L)\n",
    "for i in range(len(L)):\n",
    "    temp = []\n",
    "    for j in range(len(L[0])):\n",
    "        if L[i][j][0] != 0:\n",
    "            temp.append(L[i][j])\n",
    "    \n",
    "    x_wells[i]=temp \n",
    "    \n",
    "##Same thing for y_wells\n",
    "#chop up dataframe into appropriate tensor shape\n",
    "g = wells_y.groupby('time_long').cumcount()\n",
    "L = (wells_y.set_index(['time_long',g])\n",
    "       .unstack(fill_value=0)\n",
    "       .stack().groupby(level=0)\n",
    "       .apply(lambda x: x.values.tolist())\n",
    "       .tolist())\n",
    "\n",
    "#remove zero entries\n",
    "y_wells =[None]*len(L)\n",
    "for i in range(len(L)):\n",
    "    temp = []\n",
    "    for j in range(len(L[0])):\n",
    "        if L[i][j][0] != 0:\n",
    "            temp.append(L[i][j])\n",
    "    \n",
    "    y_wells[i]=temp \n",
    "\n"
   ]
  },
  {
   "cell_type": "code",
   "execution_count": 17,
   "metadata": {},
   "outputs": [
    {
     "data": {
      "text/plain": [
       "[[25.74583333, 71.66277778],\n",
       " [25.875, 71.54583333],\n",
       " [25.67777778, 71.22361111],\n",
       " [25.71666667, 71.25555556],\n",
       " [25.90833333, 71.24166667],\n",
       " [25.73611111, 71.39722222],\n",
       " [25.92638889, 71.75416667],\n",
       " [26.14166667, 71.58333333],\n",
       " [26.2, 71.825],\n",
       " [26.02916667, 71.77916667],\n",
       " [25.79166667, 71.6],\n",
       " [26.075, 71.625],\n",
       " [26.275, 71.30555556],\n",
       " [26.15833333, 71.35],\n",
       " [26.30833333, 71.5125],\n",
       " [26.19305556, 71.24305556],\n",
       " [26.24166667, 71.5125],\n",
       " [26.74583333, 71.50416667],\n",
       " [26.7625, 71.60416667],\n",
       " [26.63055556, 71.49166667],\n",
       " [26.37916667, 71.8125],\n",
       " [26.48888889, 71.80833333],\n",
       " [26.49166667, 71.4875],\n",
       " [26.55833333, 71.5],\n",
       " [26.67916667, 71.57083333],\n",
       " [26.71666667, 71.30833333],\n",
       " [26.725, 71.4325],\n",
       " [26.7, 71.33333333]]"
      ]
     },
     "execution_count": 17,
     "metadata": {},
     "output_type": "execute_result"
    }
   ],
   "source": [
    "x_wells[0]"
   ]
  },
  {
   "cell_type": "code",
   "execution_count": 18,
   "metadata": {},
   "outputs": [],
   "source": [
    "da_nans=evi_dataset.where(evi_dataset>0)\n",
    "\n",
    "#create coordinate database\n",
    "da_stacked=da_nans.stack(dim=['y','x','date'])\n",
    "nona_coords = da_stacked[da_stacked.notnull()].dim"
   ]
  },
  {
   "cell_type": "code",
   "execution_count": 19,
   "metadata": {},
   "outputs": [
    {
     "data": {
      "text/html": [
       "<div>\n",
       "<style scoped>\n",
       "    .dataframe tbody tr th:only-of-type {\n",
       "        vertical-align: middle;\n",
       "    }\n",
       "\n",
       "    .dataframe tbody tr th {\n",
       "        vertical-align: top;\n",
       "    }\n",
       "\n",
       "    .dataframe thead th {\n",
       "        text-align: right;\n",
       "    }\n",
       "</style>\n",
       "<table border=\"1\" class=\"dataframe\">\n",
       "  <thead>\n",
       "    <tr style=\"text-align: right;\">\n",
       "      <th></th>\n",
       "      <th>y</th>\n",
       "      <th>x</th>\n",
       "      <th>date</th>\n",
       "      <th>evi_value</th>\n",
       "    </tr>\n",
       "  </thead>\n",
       "  <tbody>\n",
       "    <tr>\n",
       "      <th>0</th>\n",
       "      <td>26.777656</td>\n",
       "      <td>71.186321</td>\n",
       "      <td>1996-08-15</td>\n",
       "      <td>170.0</td>\n",
       "    </tr>\n",
       "    <tr>\n",
       "      <th>1</th>\n",
       "      <td>26.777656</td>\n",
       "      <td>71.186321</td>\n",
       "      <td>1999-08-15</td>\n",
       "      <td>177.0</td>\n",
       "    </tr>\n",
       "    <tr>\n",
       "      <th>2</th>\n",
       "      <td>26.777656</td>\n",
       "      <td>71.187668</td>\n",
       "      <td>1999-08-15</td>\n",
       "      <td>164.0</td>\n",
       "    </tr>\n",
       "    <tr>\n",
       "      <th>3</th>\n",
       "      <td>26.777656</td>\n",
       "      <td>71.190363</td>\n",
       "      <td>1996-08-15</td>\n",
       "      <td>173.0</td>\n",
       "    </tr>\n",
       "    <tr>\n",
       "      <th>4</th>\n",
       "      <td>26.777656</td>\n",
       "      <td>71.190363</td>\n",
       "      <td>1999-08-15</td>\n",
       "      <td>169.0</td>\n",
       "    </tr>\n",
       "  </tbody>\n",
       "</table>\n",
       "</div>"
      ],
      "text/plain": [
       "           y          x       date  evi_value\n",
       "0  26.777656  71.186321 1996-08-15      170.0\n",
       "1  26.777656  71.186321 1999-08-15      177.0\n",
       "2  26.777656  71.187668 1999-08-15      164.0\n",
       "3  26.777656  71.190363 1996-08-15      173.0\n",
       "4  26.777656  71.190363 1999-08-15      169.0"
      ]
     },
     "execution_count": 19,
     "metadata": {},
     "output_type": "execute_result"
    }
   ],
   "source": [
    "#Change to pandas dataframe\n",
    "nona_coords_pd = pd.DataFrame(nona_coords.values)\n",
    "farm_coords = pd.DataFrame(nona_coords_pd.iloc[:,0].tolist())\n",
    "farm_coords.rename(columns={0:\"y\", 1:\"x\", 2:\"date\"}, inplace=True)\n",
    "\n",
    "farm_coords['evi_value'] = da_stacked[da_stacked.notnull()]\n",
    "farm_coords.head()"
   ]
  },
  {
   "cell_type": "code",
   "execution_count": 20,
   "metadata": {},
   "outputs": [],
   "source": [
    "### Farm dataset\n",
    "farm_x=farm_coords.loc[:,['y','x','date']]\n",
    "farm_y=farm_coords.loc[:,['evi_value','date']]\n",
    "\n",
    "#chop up dataframe into appropriate tensor shape \n",
    "g = farm_x.groupby('date').cumcount()\n",
    "L = (farm_x.set_index(['date',g])\n",
    "       .unstack(fill_value=0)\n",
    "       .stack().groupby(level=0)\n",
    "       .apply(lambda x: x.values.tolist())\n",
    "       .tolist())\n",
    "\n",
    "#remove zero entries\n",
    "x_farm =[None]*len(L)\n",
    "for i in range(len(L)):\n",
    "    temp = []\n",
    "    for j in range(len(L[0])):\n",
    "        if L[i][j][0] != 0:\n",
    "            temp.append(L[i][j])\n",
    "    \n",
    "    x_farm[i]=temp \n",
    "    \n",
    "##Same thing for y_wells\n",
    "#chop up dataframe into appropriate tensor shape\n",
    "g = farm_y.groupby('date').cumcount()\n",
    "L = (farm_y.set_index(['date',g])\n",
    "       .unstack(fill_value=0)\n",
    "       .stack().groupby(level=0)\n",
    "       .apply(lambda x: x.values.tolist())\n",
    "       .tolist())\n",
    "\n",
    "#remove zero entries\n",
    "y_farm =[None]*len(L)\n",
    "for i in range(len(L)):\n",
    "    temp = []\n",
    "    for j in range(len(L[0])):\n",
    "        if L[i][j][0] != 0:\n",
    "            temp.append(L[i][j])\n",
    "    \n",
    "    y_farm[i]=temp \n",
    "\n"
   ]
  },
  {
   "cell_type": "markdown",
   "metadata": {},
   "source": [
    "### Export to file using pickle\n",
    "Note the order of lists for unpacking"
   ]
  },
  {
   "cell_type": "code",
   "execution_count": 25,
   "metadata": {},
   "outputs": [],
   "source": [
    "import pickle\n",
    "os.chdir(\"C://Users/Matttt/Documents/probprog-finalproject/preprocessing\")\n",
    "\n",
    "#Save to file\n",
    "file = open('dataset.pkl','wb')\n",
    "\n",
    "pickle.dump(x_farm, file)\n",
    "pickle.dump(y_farm, file)\n",
    "pickle.dump(x_wells, file)\n",
    "pickle.dump(y_wells, file)\n",
    "\n",
    "file.close()\n"
   ]
  }
 ],
 "metadata": {
  "kernelspec": {
   "display_name": "Python 3",
   "language": "python",
   "name": "python3"
  },
  "language_info": {
   "codemirror_mode": {
    "name": "ipython",
    "version": 3
   },
   "file_extension": ".py",
   "mimetype": "text/x-python",
   "name": "python",
   "nbconvert_exporter": "python",
   "pygments_lexer": "ipython3",
   "version": "3.7.3"
  }
 },
 "nbformat": 4,
 "nbformat_minor": 4
}
