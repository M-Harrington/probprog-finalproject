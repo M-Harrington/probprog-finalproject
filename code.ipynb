{
 "cells": [
  {
   "cell_type": "code",
   "execution_count": 1,
   "metadata": {},
   "outputs": [],
   "source": [
    "from __future__ import absolute_import, division, print_function\n",
    "\n",
    "import os\n",
    "import json\n",
    "import pyro\n",
    "import torch\n",
    "import logging\n",
    "import numpy as np\n",
    "import pandas as pd\n",
    "import seaborn as sns\n",
    "import pyro.optim as optim\n",
    "import pyro.contrib.gp as gp\n",
    "import matplotlib.pyplot as plt\n",
    "import pyro.distributions as dist\n",
    "import matplotlib.animation as animation\n",
    "\n",
    "from torch.distributions import constraints\n",
    "\n",
    "from functools import partial\n",
    "from pyro.infer.mcmc import NUTS\n",
    "from IPython.display import Video\n",
    "from pyro.infer.mcmc.api import MCMC\n",
    "from mpl_toolkits.mplot3d import Axes3D\n",
    "from pyro.contrib.autoguide import AutoMultivariateNormal\n",
    "from pyro.infer import EmpiricalMarginal, SVI, Trace_ELBO, JitTrace_ELBO\n",
    "\n",
    "pyro.set_rng_seed(0)"
   ]
  },
  {
   "cell_type": "markdown",
   "metadata": {},
   "source": [
    "# Bayesian Kriging to Predict Ground Water Levels"
   ]
  },
  {
   "cell_type": "code",
   "execution_count": 2,
   "metadata": {},
   "outputs": [],
   "source": [
    "%matplotlib inline\n",
    "logging.basicConfig(format=\"%(message)s\", level=logging.INFO)\n",
    "\n",
    "# Enable validation checks\n",
    "pyro.enable_validation(True)\n",
    "smoke_test = \"CI\" in os.environ\n",
    "assert pyro.__version__.startswith(\"0.4.1\")"
   ]
  },
  {
   "cell_type": "code",
   "execution_count": 3,
   "metadata": {},
   "outputs": [],
   "source": [
    "pyro.set_rng_seed(1)"
   ]
  },
  {
   "cell_type": "code",
   "execution_count": 4,
   "metadata": {},
   "outputs": [],
   "source": [
    "if torch.cuda.is_available():\n",
    "    torch.set_default_tensor_type('torch.cuda.FloatTensor')"
   ]
  },
  {
   "cell_type": "markdown",
   "metadata": {},
   "source": [
    "### Helper Functions"
   ]
  },
  {
   "cell_type": "code",
   "execution_count": 5,
   "metadata": {},
   "outputs": [],
   "source": [
    "def pairwise_distances(x, y=None):\n",
    "    x_norm = (x**2).sum(1).view(-1, 1)\n",
    "    if y is not None:\n",
    "        y_t = torch.transpose(y, 0, 1)\n",
    "        y_norm = (y**2).sum(1).view(1, -1)\n",
    "    else:\n",
    "        y_t = torch.transpose(x, 0, 1)\n",
    "        y_norm = x_norm.view(1, -1)\n",
    "    \n",
    "    dist = x_norm + y_norm - 2.0 * torch.mm(x, y_t)\n",
    "    dist = torch.clamp(dist, 0.0, np.inf)\n",
    "    \n",
    "    return dist"
   ]
  },
  {
   "cell_type": "code",
   "execution_count": 6,
   "metadata": {},
   "outputs": [],
   "source": [
    "def summary(samples):\n",
    "    site_stats = {}\n",
    "    for site_name, values in samples.items():\n",
    "        marginal_site = pd.DataFrame(values)\n",
    "        describe = marginal_site.describe(percentiles=[.05, 0.25, 0.5, 0.75, 0.95]).transpose()\n",
    "        site_stats[site_name] = describe[[\"mean\", \"std\", \"5%\", \"25%\", \"50%\", \"75%\", \"95%\"]]\n",
    "    return site_stats"
   ]
  },
  {
   "cell_type": "code",
   "execution_count": 7,
   "metadata": {},
   "outputs": [],
   "source": [
    "def visualize_posterior(samples):\n",
    "    import math\n",
    "    \n",
    "    sites = list(samples.keys())\n",
    "    \n",
    "    r = int(math.ceil(math.sqrt(len(samples))))\n",
    "    fig, axs = plt.subplots(nrows=r, ncols=r, figsize=(15, 13))\n",
    "    fig.suptitle(\"Marginal Posterior Density\", fontsize=16)\n",
    "    \n",
    "    \n",
    "    for i, ax in enumerate(axs.reshape(-1)):\n",
    "        if i >= len(sites):\n",
    "            break\n",
    "        site = sites[i]\n",
    "        sns.distplot(samples[site], ax=ax)\n",
    "        ax.set_title(site)\n",
    "        \n",
    "    handles, labels = ax.get_legend_handles_labels()"
   ]
  },
  {
   "cell_type": "markdown",
   "metadata": {},
   "source": [
    "### Loading Data"
   ]
  },
  {
   "cell_type": "code",
   "execution_count": 8,
   "metadata": {},
   "outputs": [],
   "source": [
    "data = pd.read_csv(\"data/sample_data2.csv\", encoding=\"ISO-8859-1\")\n",
    "\n",
    "data_wells = data[data.type == \"well\"]\n",
    "data_farms = data[data.type == \"farm\"]\n",
    "\n",
    "XW, YW = [], []\n",
    "for t in data_wells[\"timestep\"].unique():\n",
    "    data_ = data_wells[data_wells[\"timestep\"] == t]\n",
    "\n",
    "    XW.append(data_[[\"latitude\", \"longitude\"]].values)\n",
    "    YW.append(data_[\"observation\"].values)\n",
    "    \n",
    "XW = XW[0]\n",
    "\n",
    "XF = data_farms[[\"latitude\", \"longitude\"]].values\n",
    "YF = data_farms[\"observation\"].values"
   ]
  },
  {
   "cell_type": "code",
   "execution_count": 9,
   "metadata": {},
   "outputs": [
    {
     "data": {
      "text/plain": [
       "<Figure size 432x288 with 0 Axes>"
      ]
     },
     "metadata": {},
     "output_type": "display_data"
    }
   ],
   "source": [
    "plt.clf()\n",
    "fig = plt.figure(figsize=(10, 10), dpi=100)\n",
    "\n",
    "plt.ion()\n",
    "\n",
    "plt.scatter(XF[:, 0], XF[:, 1], marker=\"s\", s=7, color=\"lightgreen\")\n",
    "\n",
    "scat = plt.scatter(XW[:, 0], XW[:, 1], marker=\"s\", s=20, c=[(0, 0, 0, 1)] * len(XW))\n",
    "label = plt.text(0, 0, '', fontsize=12)\n",
    "\n",
    "colors = []\n",
    "for obs in YW:\n",
    "#     min_v = min(obs)\n",
    "#     max_v = max(obs)\n",
    "#     colors.append([max((x - min_v) / (max_v - min_v), 0.1) for x in obs])\n",
    "    colors.append([min(1 - abs(x) / 15, 1) for x in obs])\n",
    "    \n",
    "colors = np.array(colors)\n",
    "\n",
    "def update_plot(i, scat):\n",
    "    scat.set_array(colors[i])\n",
    "    label.set_text([\"Sp\", \"Su\", \"Fa\", \"Wi\"][i % 4])\n",
    "    return scat,\n",
    "\n",
    "anim = animation.FuncAnimation(fig, update_plot, frames=range(len(XW)), fargs=(scat,), interval=1000)\n",
    "\n",
    "plt.gray()\n",
    "plt.close()"
   ]
  },
  {
   "cell_type": "code",
   "execution_count": 10,
   "metadata": {},
   "outputs": [
    {
     "name": "stderr",
     "output_type": "stream",
     "text": [
      "Animation.save using <class 'matplotlib.animation.FFMpegWriter'>\n",
      "MovieWriter.run: running command: ['ffmpeg', '-f', 'rawvideo', '-vcodec', 'rawvideo', '-s', '1000x1000', '-pix_fmt', 'rgba', '-r', '1', '-loglevel', 'error', '-i', 'pipe:', '-vcodec', 'h264', '-pix_fmt', 'yuv420p', '-y', 'includes/data-animation.mp4']\n"
     ]
    }
   ],
   "source": [
    "anim.save(\"includes/data-animation.mp4\", fps=1)"
   ]
  },
  {
   "cell_type": "code",
   "execution_count": 11,
   "metadata": {},
   "outputs": [
    {
     "data": {
      "text/html": [
       "<video src=\"includes/data-animation.mp4\" controls  >\n",
       "      Your browser does not support the <code>video</code> element.\n",
       "    </video>"
      ],
      "text/plain": [
       "<IPython.core.display.Video object>"
      ]
     },
     "execution_count": 11,
     "metadata": {},
     "output_type": "execute_result"
    }
   ],
   "source": [
    "Video(\"includes/data-animation.mp4\")"
   ]
  },
  {
   "cell_type": "code",
   "execution_count": 12,
   "metadata": {},
   "outputs": [],
   "source": [
    "XW = torch.tensor(XW)\n",
    "YW = torch.tensor(YW)\n",
    "\n",
    "XF = torch.tensor(XF)\n",
    "YF = torch.tensor(YF)"
   ]
  },
  {
   "cell_type": "markdown",
   "metadata": {
    "heading_collapsed": true
   },
   "source": [
    "# Bayesian Kernel Regression"
   ]
  },
  {
   "cell_type": "markdown",
   "metadata": {
    "heading_collapsed": true,
    "hidden": true
   },
   "source": [
    "## Defining the Model"
   ]
  },
  {
   "cell_type": "code",
   "execution_count": null,
   "metadata": {
    "hidden": true
   },
   "outputs": [],
   "source": [
    "def model_kr(XW, YW, use_cuda=False):\n",
    "    mu_delta = torch.Tensor([1.0]).type_as(XW)\n",
    "    mu_theta = torch.Tensor([0.0]).type_as(XW)\n",
    "\n",
    "    delta = pyro.sample(\"delta\", dist.LogNormal(mu_delta, 0.5))\n",
    "    theta = pyro.sample(\"theta\", dist.LogNormal(mu_theta, 0.5))\n",
    "\n",
    "    sigma_mu = torch.Tensor([2.0]).type_as(XW)\n",
    "    mu = pyro.sample(\"mu\", dist.Normal(0, sigma_mu))\n",
    "\n",
    "    a_sigma = torch.FloatTensor([1.0]).type_as(XW)\n",
    "    b_sigma = torch.FloatTensor([1.0]).type_as(XW)\n",
    "    sigma = pyro.sample(\"sigma\", dist.Gamma(a_sigma, b_sigma))\n",
    "    mean = (\n",
    "        mu\n",
    "        - (YF * torch.exp(-pairwise_distances(XW, XF) / theta)).sum(1) * delta\n",
    "    )\n",
    "\n",
    "    with pyro.plate(\"data\", len(YW)):\n",
    "        y = pyro.sample(\"obs\", dist.Normal(mean, sigma), obs=YW)\n",
    "\n",
    "    return y"
   ]
  },
  {
   "cell_type": "code",
   "execution_count": null,
   "metadata": {
    "hidden": true
   },
   "outputs": [],
   "source": [
    "def guide_kr(XW, YW):\n",
    "    mu_delta = pyro.param(\"mu_delta\", torch.ones(1).type_as(XW), constraint=constraints.positive)\n",
    "    mu_theta = pyro.param(\"mu_theta\", torch.zeros(1).type_as(XW), constraint=constraints.positive)\n",
    "    \n",
    "    sg_delta = pyro.param(\"sg_delta\", torch.ones(1).type_as(XW), constraint=constraints.positive)\n",
    "    sg_theta = pyro.param(\"sg_theta\", torch.ones(1).type_as(XW), constraint=constraints.positive)\n",
    "    \n",
    "    delta = pyro.sample(\"delta\", dist.Normal(mu_delta, sg_delta))\n",
    "    theta = pyro.sample(\"theta\", dist.Normal(mu_theta, sg_theta))\n",
    "    \n",
    "#     mu_sigma = pyro.param(\"mu_sigma\", torch.tensor(1.0).type_as(XW), constraint=constraints.positive)\n",
    "#     sigma = pyro.sample(\"sigma\", dist.Gamma(mu_sigma, torch.tensor(1.0).type_as(XW)))\n",
    "    \n",
    "    mu_mu = pyro.param(\"mu_mu\", torch.randn(1).type_as(XW))\n",
    "    sg_mu = pyro.param(\"sg_mu\", torch.ones(1).type_as(XW), constraint=constraints.positive)\n",
    "    mu = pyro.sample(\"mu\", dist.Normal(mu_mu, sg_mu))\n",
    "    \n",
    "    mean = mu - delta * (YF * torch.exp(-pairwise_distances(XW, XF) / theta)).sum(1)"
   ]
  },
  {
   "cell_type": "code",
   "execution_count": null,
   "metadata": {
    "hidden": true
   },
   "outputs": [],
   "source": [
    "def predict_kr(XW, posterior_samples):\n",
    "    ps = posterior_samples\n",
    "    samples = zip(ps[\"delta\"], ps[\"theta\"], ps[\"mu\"], ps[\"sigma\"])\n",
    "    \n",
    "    for delta, theta, mu, sigma in samples:\n",
    "        mean = mu - (YF * torch.exp(-pairwise_distances(XW, XF) / theta)).sum(1) * delta\n",
    "        yield dist.Normal(mean, sigma).sample()"
   ]
  },
  {
   "cell_type": "markdown",
   "metadata": {
    "heading_collapsed": true,
    "hidden": true
   },
   "source": [
    "## Inference"
   ]
  },
  {
   "cell_type": "markdown",
   "metadata": {
    "heading_collapsed": true,
    "hidden": true
   },
   "source": [
    "#### HMC"
   ]
  },
  {
   "cell_type": "code",
   "execution_count": null,
   "metadata": {
    "hidden": true
   },
   "outputs": [],
   "source": [
    "nuts_kernel = NUTS(partial(model_kr, use_cuda=use_cuda))\n",
    "\n",
    "mcmc = MCMC(nuts_kernel, num_samples=1000, warmup_steps=2000)\n",
    "mcmc_run = mcmc.run(XW, YW)\n",
    "\n",
    "hmc_samples = {k: v.detach().cpu().numpy() for k, v in mcmc.get_samples().items()}"
   ]
  },
  {
   "cell_type": "code",
   "execution_count": null,
   "metadata": {
    "hidden": true
   },
   "outputs": [],
   "source": [
    "for site, values in summary(hmc_samples).items():\n",
    "    print(\"Site: {}\".format(site))\n",
    "    print(values, \"\\n\")"
   ]
  },
  {
   "cell_type": "code",
   "execution_count": null,
   "metadata": {
    "hidden": true
   },
   "outputs": [],
   "source": [
    "visualize_posterior(hmc_samples)"
   ]
  },
  {
   "cell_type": "code",
   "execution_count": null,
   "metadata": {
    "hidden": true
   },
   "outputs": [],
   "source": [
    "svi = SVI(\n",
    "    partial(model_kr, use_cuda=use_cuda), guide_kr, optim.Adam({\"lr\": 0.005}), loss=JitTrace_ELBO(), num_samples=1000\n",
    ")\n",
    "\n",
    "pyro.clear_param_store()\n",
    "num_iters = 10000 if not smoke_test else 2\n",
    "for i in range(num_iters):\n",
    "    elbo = svi.step(XW, YW)\n",
    "    if i % 500 == 0:\n",
    "        logging.info(\"Elbo loss: {}\".format(elbo))"
   ]
  },
  {
   "cell_type": "markdown",
   "metadata": {
    "heading_collapsed": true,
    "hidden": true
   },
   "source": [
    "## Prediction"
   ]
  },
  {
   "cell_type": "code",
   "execution_count": null,
   "metadata": {
    "hidden": true
   },
   "outputs": [],
   "source": [
    "results = torch.stack(list(predict_kr(XW, hmc_samples)))"
   ]
  },
  {
   "cell_type": "code",
   "execution_count": null,
   "metadata": {
    "hidden": true
   },
   "outputs": [],
   "source": [
    "ax = plt.figure(figsize=(15, 15)).add_subplot(111, projection='3d')\n",
    "\n",
    "ax.scatter(XW[:, 0], XW[:, 1], YW, marker=\"x\")\n",
    "ax.scatter(XF[:, 0], XF[:, 1], YF, marker=\"^\")\n",
    "\n",
    "# for result in results[:100]:\n",
    "#     ax.scatter(XW[:, 0], XW[:, 1], result, marker=\".\", color=\"red\")\n",
    "    \n",
    "results_mean = results.mean(dim=0).numpy()\n",
    "results_std = results.std(dim=0).numpy()\n",
    "\n",
    "ax.scatter(XW[:, 0], XW[:, 1], results_mean, marker=\"o\", color=\"red\", s=15)\n",
    "\n",
    "ax.scatter(XW[:, 0], XW[:, 1], results_mean - results_std, marker=\"_\", color=\"green\", s=15)\n",
    "# for i, point in enumerate(XW.numpy().tolist()):\n",
    "#     ax.plot(point + [results_mean[i] + results_std[i]], point + [results_mean[i] - results_std[i]])\n",
    "ax.scatter(XW[:, 0], XW[:, 1], results_mean + results_std, marker=\"_\", color=\"green\", s=15)\n",
    "    \n",
    "plt.savefig(\"predictions.png\", dpi=240)\n",
    "plt.show()"
   ]
  },
  {
   "cell_type": "code",
   "execution_count": null,
   "metadata": {
    "hidden": true
   },
   "outputs": [],
   "source": [
    "results.mean(0)"
   ]
  },
  {
   "cell_type": "code",
   "execution_count": null,
   "metadata": {
    "hidden": true
   },
   "outputs": [],
   "source": [
    "YW"
   ]
  },
  {
   "cell_type": "markdown",
   "metadata": {},
   "source": [
    "# Gaussian Processes"
   ]
  },
  {
   "cell_type": "markdown",
   "metadata": {},
   "source": [
    "## Defining the Model"
   ]
  },
  {
   "cell_type": "code",
   "execution_count": 13,
   "metadata": {},
   "outputs": [],
   "source": [
    "def model_gp(XW, YW):\n",
    "    assert not torch._C._get_tracing_state()\n",
    "\n",
    "    delta = pyro.sample(\"delta\", dist.LogNormal(1.0, 0.5))\n",
    "\n",
    "    theta_f = pyro.sample(\"theta_f\", dist.LogNormal(0.0, 0.5))\n",
    "    theta_w = pyro.sample(\"theta_w\", dist.LogNormal(0.0, 0.5))\n",
    "\n",
    "    sigma = torch.exp(-pairwise_distances(XW, XW) / theta_w)\n",
    "\n",
    "    farm_factor = delta * (YF * torch.exp(-pairwise_distances(XW, XF) / theta_f)).sum(1)\n",
    "\n",
    "    sf = pyro.sample(\"sf\", dist.Normal(torch.zeros(4), 1))\n",
    "\n",
    "    data_plate = pyro.plate(\"data\", len(YW[0]))\n",
    "\n",
    "    mu = 0\n",
    "    for i in pyro.plate(\"sequence\", len(YW)):\n",
    "        mu = pyro.sample(\n",
    "            \"mu_{}\".format(i), dist.Normal(mu + sf[i % 4], 1.0)\n",
    "        )\n",
    "        \n",
    "        mean = mu - farm_factor\n",
    "        \n",
    "        with data_plate:\n",
    "            pyro.sample(\n",
    "                \"obs_{}\".format(i), dist.MultivariateNormal(mean, sigma), obs=YW[i]\n",
    "            )"
   ]
  },
  {
   "cell_type": "code",
   "execution_count": 14,
   "metadata": {},
   "outputs": [],
   "source": [
    "def predict_gp(XW, samples):\n",
    "    pdx = pairwise_distances(XW).cpu().numpy()\n",
    "    pdf = pairwise_distances(XW, XF).cpu().numpy()\n",
    "    \n",
    "    YF_ = YF.cpu().numpy()\n",
    "    \n",
    "    delta = samples[\"delta\"]\n",
    "    theta_w = samples[\"theta_w\"]\n",
    "    theta_f = samples[\"theta_f\"]\n",
    "    \n",
    "    mu = list(zip(*[samples[\"mu_{}\".format(i)] for i in range(len(YW))]))\n",
    "    mu = np.array(mu)\n",
    "    \n",
    "    for i in range(len(delta)):\n",
    "        sigma = np.exp(-pdx / theta_w[i])\n",
    "        \n",
    "        samples = []\n",
    "        for t in range(len(YW)):\n",
    "            mean = mu[i, t] - delta[i] * (YF_ * np.exp(-pdf / theta_f[i])).sum(1)\n",
    "            samples.append(np.random.multivariate_normal(mean, sigma))\n",
    "            \n",
    "        samples = np.array(samples)\n",
    "            \n",
    "        yield samples"
   ]
  },
  {
   "cell_type": "markdown",
   "metadata": {},
   "source": [
    "## Inference"
   ]
  },
  {
   "cell_type": "code",
   "execution_count": 15,
   "metadata": {},
   "outputs": [
    {
     "name": "stderr",
     "output_type": "stream",
     "text": [
      "sample: 100%|██████████| 500/500 [1:31:20<00:00, 10.96s/it, step size=1.64e-01, acc. prob=0.953]  \n"
     ]
    }
   ],
   "source": [
    "nuts_kernel = NUTS(model_gp)\n",
    "\n",
    "mcmc = MCMC(nuts_kernel, num_samples=100, warmup_steps=400)\n",
    "mcmc_run = mcmc.run(XW, YW)\n",
    "\n",
    "samples = {k: v.detach().cpu().numpy() for k, v in mcmc.get_samples().items()}"
   ]
  },
  {
   "cell_type": "code",
   "execution_count": null,
   "metadata": {},
   "outputs": [],
   "source": [
    "with open(\"data/gp-samples-t.json\", \"r\") as f:\n",
    "    samples = {k: np.array(v) for k, v in json.load(f).items()}"
   ]
  },
  {
   "cell_type": "code",
   "execution_count": 16,
   "metadata": {},
   "outputs": [],
   "source": [
    "samples_ = {k: v.tolist() for k, v in samples.items()}\n",
    "with open(\"data/gp-samples-t.json\", \"w\") as f:\n",
    "    json.dump(samples_, f)"
   ]
  },
  {
   "cell_type": "code",
   "execution_count": 17,
   "metadata": {},
   "outputs": [
    {
     "name": "stdout",
     "output_type": "stream",
     "text": [
      "Site: delta\n",
      "       mean       std        5%       25%       50%       75%       95%\n",
      "0  0.692805  0.001586  0.690411  0.691728  0.692649  0.693983  0.695122 \n",
      "\n",
      "Site: theta_f\n",
      "       mean       std        5%      25%       50%       75%      95%\n",
      "0  0.598171  0.001764  0.595412  0.59676  0.598262  0.599398  0.60101 \n",
      "\n",
      "Site: theta_w\n",
      "       mean       std        5%       25%       50%       75%       95%\n",
      "0  0.152789  0.067286  0.063652  0.094755  0.154158  0.195553  0.265829 \n",
      "\n",
      "Site: sf\n",
      "       mean       std        5%       25%       50%       75%       95%\n",
      "0 -1.321063  0.283218 -1.780389 -1.534763 -1.313897 -1.124225 -0.872526\n",
      "1 -1.766521  0.265141 -2.183513 -1.927145 -1.740401 -1.617529 -1.294940\n",
      "2  2.612201  0.352519  1.986230  2.407188  2.591702  2.830025  3.219515\n",
      "3  0.030239  0.331872 -0.546031 -0.144143  0.016157  0.237252  0.572623 \n",
      "\n",
      "Site: mu_0\n",
      "       mean       std        5%       25%       50%       75%       95%\n",
      "0 -5.287083  0.063655 -5.391328 -5.327527 -5.288778 -5.246262 -5.182242 \n",
      "\n",
      "Site: mu_1\n",
      "       mean       std        5%       25%       50%      75%      95%\n",
      "0 -7.090108  0.083185 -7.232273 -7.143312 -7.080097 -7.04456 -6.96588 \n",
      "\n",
      "Site: mu_2\n",
      "       mean       std        5%       25%       50%      75%      95%\n",
      "0 -4.335941  0.071429 -4.448312 -4.376569 -4.333033 -4.28973 -4.22358 \n",
      "\n",
      "Site: mu_3\n",
      "       mean       std        5%       25%      50%       75%      95%\n",
      "0 -4.361574  0.063847 -4.450664 -4.397234 -4.36523 -4.322974 -4.25313 \n",
      "\n",
      "Site: mu_4\n",
      "       mean       std       5%       25%       50%       75%       95%\n",
      "0 -5.442269  0.072562 -5.55562 -5.495601 -5.438796 -5.385206 -5.325083 \n",
      "\n",
      "Site: mu_5\n",
      "       mean       std       5%       25%       50%       75%       95%\n",
      "0 -7.161581  0.074606 -7.27688 -7.221873 -7.166443 -7.109557 -7.027054 \n",
      "\n",
      "Site: mu_6\n",
      "       mean       std        5%      25%      50%      75%       95%\n",
      "0 -4.472859  0.054617 -4.564176 -4.51001 -4.47311 -4.43723 -4.383102 \n",
      "\n",
      "Site: mu_7\n",
      "       mean       std        5%       25%       50%       75%       95%\n",
      "0 -4.548523  0.077699 -4.665383 -4.604241 -4.553739 -4.509291 -4.421138 \n",
      "\n",
      "Site: mu_8\n",
      "       mean       std        5%       25%       50%      75%       95%\n",
      "0 -5.708805  0.070419 -5.837039 -5.758479 -5.704234 -5.66124 -5.593931 \n",
      "\n",
      "Site: mu_9\n",
      "      mean       std        5%       25%       50%       75%       95%\n",
      "0 -7.85476  0.059948 -7.949151 -7.898161 -7.856884 -7.812898 -7.745561 \n",
      "\n",
      "Site: mu_10\n",
      "       mean       std        5%       25%       50%       75%      95%\n",
      "0 -4.824023  0.057419 -4.928121 -4.863093 -4.825076 -4.779991 -4.73553 \n",
      "\n",
      "Site: mu_11\n",
      "       mean       std        5%       25%       50%       75%      95%\n",
      "0 -5.167386  0.071712 -5.280146 -5.218461 -5.169955 -5.114955 -5.05911 \n",
      "\n",
      "Site: mu_12\n",
      "       mean       std        5%       25%      50%       75%       95%\n",
      "0 -6.239234  0.079237 -6.376133 -6.300302 -6.23337 -6.175797 -6.131061 \n",
      "\n",
      "Site: mu_13\n",
      "       mean       std       5%       25%       50%       75%       95%\n",
      "0 -8.193079  0.062548 -8.29432 -8.231258 -8.191802 -8.151548 -8.096301 \n",
      "\n",
      "Site: mu_14\n",
      "       mean       std        5%       25%       50%       75%      95%\n",
      "0 -5.113155  0.059192 -5.200362 -5.155577 -5.118026 -5.067129 -5.01165 \n",
      "\n",
      "Site: mu_15\n",
      "       mean       std        5%       25%       50%       75%       95%\n",
      "0 -4.644398  0.066572 -4.752785 -4.689535 -4.644582 -4.602883 -4.529008 \n",
      "\n",
      "Site: mu_16\n",
      "       mean       std        5%       25%       50%       75%       95%\n",
      "0 -5.318945  0.071046 -5.444262 -5.362114 -5.322979 -5.270719 -5.209655 \n",
      "\n",
      "Site: mu_17\n",
      "       mean       std        5%       25%       50%       75%       95%\n",
      "0 -7.395948  0.063782 -7.488895 -7.440419 -7.396651 -7.350931 -7.296136 \n",
      "\n",
      "Site: mu_18\n",
      "       mean       std        5%       25%       50%       75%       95%\n",
      "0 -4.568122  0.080847 -4.686145 -4.617564 -4.576651 -4.513856 -4.435614 \n",
      "\n",
      "Site: mu_19\n",
      "      mean       std        5%       25%       50%       75%       95%\n",
      "0 -4.29384  0.064276 -4.398625 -4.334115 -4.292837 -4.255028 -4.183576 \n",
      "\n",
      "Site: mu_20\n",
      "       mean       std        5%       25%       50%       75%       95%\n",
      "0 -5.674599  0.063369 -5.757595 -5.725254 -5.676422 -5.634927 -5.571025 \n",
      "\n",
      "Site: mu_21\n",
      "       mean       std        5%       25%       50%       75%       95%\n",
      "0 -7.779528  0.064449 -7.874254 -7.833183 -7.775063 -7.745265 -7.663802 \n",
      "\n",
      "Site: mu_22\n",
      "       mean      std        5%       25%       50%       75%       95%\n",
      "0 -4.493147  0.07552 -4.609551 -4.549746 -4.491605 -4.438872 -4.371575 \n",
      "\n",
      "Site: mu_23\n",
      "       mean       std        5%       25%       50%       75%       95%\n",
      "0 -4.922723  0.069387 -5.033663 -4.973401 -4.921682 -4.878985 -4.800951 \n",
      "\n",
      "Site: mu_24\n",
      "       mean       std        5%       25%       50%       75%       95%\n",
      "0 -5.647332  0.066679 -5.755098 -5.688779 -5.653086 -5.605444 -5.540868 \n",
      "\n",
      "Site: mu_25\n",
      "       mean       std        5%      25%       50%       75%       95%\n",
      "0 -7.761024  0.065735 -7.863984 -7.80177 -7.766975 -7.718621 -7.651478 \n",
      "\n",
      "Site: mu_26\n",
      "       mean       std        5%       25%       50%      75%       95%\n",
      "0 -4.702457  0.063484 -4.799335 -4.746143 -4.708657 -4.66272 -4.596388 \n",
      "\n",
      "Site: mu_27\n",
      "       mean       std        5%       25%       50%       75%       95%\n",
      "0 -4.839726  0.065028 -4.938123 -4.885931 -4.840302 -4.803697 -4.735978 \n",
      "\n",
      "Site: mu_28\n",
      "       mean       std       5%       25%       50%      75%       95%\n",
      "0 -5.891986  0.056932 -5.97677 -5.926246 -5.894042 -5.85713 -5.797738 \n",
      "\n",
      "Site: mu_29\n",
      "       mean       std        5%       25%       50%      75%       95%\n",
      "0 -7.841102  0.079193 -7.963367 -7.893827 -7.843627 -7.77906 -7.719976 \n",
      "\n",
      "Site: mu_30\n",
      "       mean       std        5%       25%       50%       75%       95%\n",
      "0 -5.174879  0.069445 -5.290672 -5.214919 -5.173337 -5.133364 -5.067111 \n",
      "\n",
      "Site: mu_31\n",
      "       mean       std        5%       25%       50%       75%       95%\n",
      "0 -5.154593  0.068665 -5.268501 -5.200712 -5.156946 -5.113408 -5.040158 \n",
      "\n",
      "Site: mu_32\n",
      "       mean       std        5%       25%       50%       75%       95%\n",
      "0 -5.999074  0.056007 -6.094758 -6.025783 -5.998158 -5.968722 -5.907724 \n",
      "\n",
      "Site: mu_33\n",
      "       mean       std        5%      25%       50%       75%       95%\n",
      "0 -7.872349  0.064634 -7.966057 -7.91787 -7.871808 -7.837057 -7.749272 \n",
      "\n",
      "Site: mu_34\n",
      "       mean       std        5%       25%       50%       75%       95%\n",
      "0 -5.228406  0.079349 -5.372093 -5.280195 -5.225724 -5.172862 -5.103207 \n",
      "\n",
      "Site: mu_35\n",
      "       mean       std        5%      25%       50%       75%       95%\n",
      "0 -5.121044  0.059673 -5.206707 -5.16472 -5.122802 -5.081313 -5.021762 \n",
      "\n",
      "Site: mu_36\n",
      "       mean       std        5%       25%       50%       75%       95%\n",
      "0 -6.483366  0.066155 -6.573111 -6.536459 -6.479607 -6.438682 -6.363031 \n",
      "\n",
      "Site: mu_37\n",
      "       mean       std        5%       25%       50%      75%       95%\n",
      "0 -8.284595  0.069521 -8.389839 -8.329909 -8.286446 -8.24632 -8.172663 \n",
      "\n",
      "Site: mu_38\n",
      "       mean       std        5%       25%       50%       75%       95%\n",
      "0 -5.651034  0.073629 -5.775955 -5.703102 -5.644331 -5.607474 -5.525878 \n",
      "\n",
      "Site: mu_39\n",
      "       mean       std        5%       25%       50%       75%       95%\n",
      "0 -5.556854  0.057971 -5.656131 -5.592711 -5.557175 -5.521323 -5.471162 \n",
      "\n"
     ]
    }
   ],
   "source": [
    "for site, values in summary(samples).items():\n",
    "    print(\"Site: {}\".format(site))\n",
    "    print(values, \"\\n\")"
   ]
  },
  {
   "cell_type": "code",
   "execution_count": 19,
   "metadata": {},
   "outputs": [],
   "source": [
    "results = np.array(list(predict_gp(XW, samples)))"
   ]
  },
  {
   "cell_type": "code",
   "execution_count": 20,
   "metadata": {},
   "outputs": [],
   "source": [
    "XW_ = XW.cpu().numpy()\n",
    "YW_ = YW.cpu().numpy()\n",
    "\n",
    "XF_ = XF.cpu().numpy()\n",
    "YF_ = YF.cpu().numpy()"
   ]
  },
  {
   "cell_type": "code",
   "execution_count": 21,
   "metadata": {},
   "outputs": [
    {
     "ename": "ValueError",
     "evalue": "shape mismatch: objects cannot be broadcast to a single shape",
     "output_type": "error",
     "traceback": [
      "\u001b[0;31m---------------------------------------------------------------------------\u001b[0m",
      "\u001b[0;31mValueError\u001b[0m                                Traceback (most recent call last)",
      "\u001b[0;32m<ipython-input-21-a28902fbf8b9>\u001b[0m in \u001b[0;36m<module>\u001b[0;34m\u001b[0m\n\u001b[1;32m      1\u001b[0m \u001b[0max\u001b[0m \u001b[0;34m=\u001b[0m \u001b[0mplt\u001b[0m\u001b[0;34m.\u001b[0m\u001b[0mfigure\u001b[0m\u001b[0;34m(\u001b[0m\u001b[0mfigsize\u001b[0m\u001b[0;34m=\u001b[0m\u001b[0;34m(\u001b[0m\u001b[0;36m15\u001b[0m\u001b[0;34m,\u001b[0m \u001b[0;36m15\u001b[0m\u001b[0;34m)\u001b[0m\u001b[0;34m)\u001b[0m\u001b[0;34m.\u001b[0m\u001b[0madd_subplot\u001b[0m\u001b[0;34m(\u001b[0m\u001b[0;36m111\u001b[0m\u001b[0;34m,\u001b[0m \u001b[0mprojection\u001b[0m\u001b[0;34m=\u001b[0m\u001b[0;34m'3d'\u001b[0m\u001b[0;34m)\u001b[0m\u001b[0;34m\u001b[0m\u001b[0;34m\u001b[0m\u001b[0m\n\u001b[1;32m      2\u001b[0m \u001b[0;34m\u001b[0m\u001b[0m\n\u001b[0;32m----> 3\u001b[0;31m \u001b[0max\u001b[0m\u001b[0;34m.\u001b[0m\u001b[0mscatter\u001b[0m\u001b[0;34m(\u001b[0m\u001b[0mXW_\u001b[0m\u001b[0;34m[\u001b[0m\u001b[0;34m:\u001b[0m\u001b[0;34m,\u001b[0m \u001b[0;36m0\u001b[0m\u001b[0;34m]\u001b[0m\u001b[0;34m,\u001b[0m \u001b[0mXW_\u001b[0m\u001b[0;34m[\u001b[0m\u001b[0;34m:\u001b[0m\u001b[0;34m,\u001b[0m \u001b[0;36m1\u001b[0m\u001b[0;34m]\u001b[0m\u001b[0;34m,\u001b[0m \u001b[0mYW_\u001b[0m\u001b[0;34m,\u001b[0m \u001b[0mmarker\u001b[0m\u001b[0;34m=\u001b[0m\u001b[0;34m\"x\"\u001b[0m\u001b[0;34m)\u001b[0m\u001b[0;34m\u001b[0m\u001b[0;34m\u001b[0m\u001b[0m\n\u001b[0m\u001b[1;32m      4\u001b[0m \u001b[0max\u001b[0m\u001b[0;34m.\u001b[0m\u001b[0mscatter\u001b[0m\u001b[0;34m(\u001b[0m\u001b[0mXF_\u001b[0m\u001b[0;34m[\u001b[0m\u001b[0;34m:\u001b[0m\u001b[0;34m,\u001b[0m \u001b[0;36m0\u001b[0m\u001b[0;34m]\u001b[0m\u001b[0;34m,\u001b[0m \u001b[0mXF_\u001b[0m\u001b[0;34m[\u001b[0m\u001b[0;34m:\u001b[0m\u001b[0;34m,\u001b[0m \u001b[0;36m1\u001b[0m\u001b[0;34m]\u001b[0m\u001b[0;34m,\u001b[0m \u001b[0mnp\u001b[0m\u001b[0;34m.\u001b[0m\u001b[0mzeros\u001b[0m\u001b[0;34m(\u001b[0m\u001b[0mYF\u001b[0m\u001b[0;34m.\u001b[0m\u001b[0mshape\u001b[0m\u001b[0;34m)\u001b[0m\u001b[0;34m,\u001b[0m \u001b[0mmarker\u001b[0m\u001b[0;34m=\u001b[0m\u001b[0;34m\"^\"\u001b[0m\u001b[0;34m)\u001b[0m\u001b[0;34m\u001b[0m\u001b[0;34m\u001b[0m\u001b[0m\n\u001b[1;32m      5\u001b[0m \u001b[0;34m\u001b[0m\u001b[0m\n",
      "\u001b[0;32m~/.local/lib/python3.7/site-packages/mpl_toolkits/mplot3d/axes3d.py\u001b[0m in \u001b[0;36mscatter\u001b[0;34m(self, xs, ys, zs, zdir, s, c, depthshade, *args, **kwargs)\u001b[0m\n\u001b[1;32m   2352\u001b[0m \u001b[0;34m\u001b[0m\u001b[0m\n\u001b[1;32m   2353\u001b[0m         xs, ys, zs = np.broadcast_arrays(\n\u001b[0;32m-> 2354\u001b[0;31m             *[np.ravel(np.ma.filled(t, np.nan)) for t in [xs, ys, zs]])\n\u001b[0m\u001b[1;32m   2355\u001b[0m         \u001b[0ms\u001b[0m \u001b[0;34m=\u001b[0m \u001b[0mnp\u001b[0m\u001b[0;34m.\u001b[0m\u001b[0mma\u001b[0m\u001b[0;34m.\u001b[0m\u001b[0mravel\u001b[0m\u001b[0;34m(\u001b[0m\u001b[0ms\u001b[0m\u001b[0;34m)\u001b[0m  \u001b[0;31m# This doesn't have to match x, y in size.\u001b[0m\u001b[0;34m\u001b[0m\u001b[0;34m\u001b[0m\u001b[0m\n\u001b[1;32m   2356\u001b[0m \u001b[0;34m\u001b[0m\u001b[0m\n",
      "\u001b[0;32m<__array_function__ internals>\u001b[0m in \u001b[0;36mbroadcast_arrays\u001b[0;34m(*args, **kwargs)\u001b[0m\n",
      "\u001b[0;32m~/.local/lib/python3.7/site-packages/numpy/lib/stride_tricks.py\u001b[0m in \u001b[0;36mbroadcast_arrays\u001b[0;34m(*args, **kwargs)\u001b[0m\n\u001b[1;32m    262\u001b[0m     \u001b[0margs\u001b[0m \u001b[0;34m=\u001b[0m \u001b[0;34m[\u001b[0m\u001b[0mnp\u001b[0m\u001b[0;34m.\u001b[0m\u001b[0marray\u001b[0m\u001b[0;34m(\u001b[0m\u001b[0m_m\u001b[0m\u001b[0;34m,\u001b[0m \u001b[0mcopy\u001b[0m\u001b[0;34m=\u001b[0m\u001b[0;32mFalse\u001b[0m\u001b[0;34m,\u001b[0m \u001b[0msubok\u001b[0m\u001b[0;34m=\u001b[0m\u001b[0msubok\u001b[0m\u001b[0;34m)\u001b[0m \u001b[0;32mfor\u001b[0m \u001b[0m_m\u001b[0m \u001b[0;32min\u001b[0m \u001b[0margs\u001b[0m\u001b[0;34m]\u001b[0m\u001b[0;34m\u001b[0m\u001b[0;34m\u001b[0m\u001b[0m\n\u001b[1;32m    263\u001b[0m \u001b[0;34m\u001b[0m\u001b[0m\n\u001b[0;32m--> 264\u001b[0;31m     \u001b[0mshape\u001b[0m \u001b[0;34m=\u001b[0m \u001b[0m_broadcast_shape\u001b[0m\u001b[0;34m(\u001b[0m\u001b[0;34m*\u001b[0m\u001b[0margs\u001b[0m\u001b[0;34m)\u001b[0m\u001b[0;34m\u001b[0m\u001b[0;34m\u001b[0m\u001b[0m\n\u001b[0m\u001b[1;32m    265\u001b[0m \u001b[0;34m\u001b[0m\u001b[0m\n\u001b[1;32m    266\u001b[0m     \u001b[0;32mif\u001b[0m \u001b[0mall\u001b[0m\u001b[0;34m(\u001b[0m\u001b[0marray\u001b[0m\u001b[0;34m.\u001b[0m\u001b[0mshape\u001b[0m \u001b[0;34m==\u001b[0m \u001b[0mshape\u001b[0m \u001b[0;32mfor\u001b[0m \u001b[0marray\u001b[0m \u001b[0;32min\u001b[0m \u001b[0margs\u001b[0m\u001b[0;34m)\u001b[0m\u001b[0;34m:\u001b[0m\u001b[0;34m\u001b[0m\u001b[0;34m\u001b[0m\u001b[0m\n",
      "\u001b[0;32m~/.local/lib/python3.7/site-packages/numpy/lib/stride_tricks.py\u001b[0m in \u001b[0;36m_broadcast_shape\u001b[0;34m(*args)\u001b[0m\n\u001b[1;32m    189\u001b[0m     \u001b[0;31m# use the old-iterator because np.nditer does not handle size 0 arrays\u001b[0m\u001b[0;34m\u001b[0m\u001b[0;34m\u001b[0m\u001b[0;34m\u001b[0m\u001b[0m\n\u001b[1;32m    190\u001b[0m     \u001b[0;31m# consistently\u001b[0m\u001b[0;34m\u001b[0m\u001b[0;34m\u001b[0m\u001b[0;34m\u001b[0m\u001b[0m\n\u001b[0;32m--> 191\u001b[0;31m     \u001b[0mb\u001b[0m \u001b[0;34m=\u001b[0m \u001b[0mnp\u001b[0m\u001b[0;34m.\u001b[0m\u001b[0mbroadcast\u001b[0m\u001b[0;34m(\u001b[0m\u001b[0;34m*\u001b[0m\u001b[0margs\u001b[0m\u001b[0;34m[\u001b[0m\u001b[0;34m:\u001b[0m\u001b[0;36m32\u001b[0m\u001b[0;34m]\u001b[0m\u001b[0;34m)\u001b[0m\u001b[0;34m\u001b[0m\u001b[0;34m\u001b[0m\u001b[0m\n\u001b[0m\u001b[1;32m    192\u001b[0m     \u001b[0;31m# unfortunately, it cannot handle 32 or more arguments directly\u001b[0m\u001b[0;34m\u001b[0m\u001b[0;34m\u001b[0m\u001b[0;34m\u001b[0m\u001b[0m\n\u001b[1;32m    193\u001b[0m     \u001b[0;32mfor\u001b[0m \u001b[0mpos\u001b[0m \u001b[0;32min\u001b[0m \u001b[0mrange\u001b[0m\u001b[0;34m(\u001b[0m\u001b[0;36m32\u001b[0m\u001b[0;34m,\u001b[0m \u001b[0mlen\u001b[0m\u001b[0;34m(\u001b[0m\u001b[0margs\u001b[0m\u001b[0;34m)\u001b[0m\u001b[0;34m,\u001b[0m \u001b[0;36m31\u001b[0m\u001b[0;34m)\u001b[0m\u001b[0;34m:\u001b[0m\u001b[0;34m\u001b[0m\u001b[0;34m\u001b[0m\u001b[0m\n",
      "\u001b[0;31mValueError\u001b[0m: shape mismatch: objects cannot be broadcast to a single shape"
     ]
    },
    {
     "data": {
      "image/png": "[encoded data removed]",
      "text/plain": [
       "<Figure size 1080x1080 with 1 Axes>"
      ]
     },
     "metadata": {
      "needs_background": "light"
     },
     "output_type": "display_data"
    }
   ],
   "source": [
    "ax = plt.figure(figsize=(15, 15)).add_subplot(111, projection='3d')\n",
    "\n",
    "ax.scatter(XW_[:, 0], XW_[:, 1], YW_, marker=\"x\")\n",
    "ax.scatter(XF_[:, 0], XF_[:, 1], np.zeros(YF.shape), marker=\"^\")\n",
    "\n",
    "# for result in results[:100]:\n",
    "#     ax.scatter(XW[:, 0], XW[:, 1], result, marker=\".\", color=\"red\")\n",
    "\n",
    "results_mean = results.mean(axis=0)\n",
    "results_std = results.std(axis=0)\n",
    "\n",
    "ax.scatter(XW_[:, 0], XW_[:, 1], results_mean, marker=\"o\", color=\"red\", s=15)\n",
    "\n",
    "ax.scatter(XW_[:, 0], XW_[:, 1], results_mean - results_std, marker=\"_\", color=\"green\", s=15)\n",
    "# for i, point in enumerate(XW.numpy().tolist()):\n",
    "#     ax.plot(point + [results_mean[i] + results_std[i]], point + [results_mean[i] - results_std[i]])\n",
    "ax.scatter(XW_[:, 0], XW_[:, 1], results_mean + results_std, marker=\"_\", color=\"green\", s=15)\n",
    "    \n",
    "plt.savefig(\"predictions.png\", dpi=240)\n",
    "plt.show()"
   ]
  },
  {
   "cell_type": "code",
   "execution_count": null,
   "metadata": {},
   "outputs": [],
   "source": [
    "plt.clf()\n",
    "fig = plt.figure(figsize=(15, 15))\n",
    "plt.scatter(XF_[:, 0], XF_[:, 1], marker=\"s\", s=10, color=\"lightgreen\")\n",
    "# plt.scatter(XW_[:, 0], XW_[:, 1], marker=\"s\", s=15, c=[(0, 0, 1, abs(x)/abs(min(YW_))) for x in YW_])\n",
    "\n",
    "min_v = abs(min(results_mean))\n",
    "colors = [(0, 0, 1, abs(x)/min_v) for x in results_mean]\n",
    "\n",
    "plt.scatter(XW_[:, 0], XW_[:, 1], marker=\"s\", s=15, c=colors)\n",
    "plt.show()"
   ]
  }
 ],
 "metadata": {
  "hide_input": false,
  "kernelspec": {
   "display_name": "Python 3 (ML)",
   "language": "python",
   "name": "ml"
  },
  "language_info": {
   "codemirror_mode": {
    "name": "ipython",
    "version": 3
   },
   "file_extension": ".py",
   "mimetype": "text/x-python",
   "name": "python",
   "nbconvert_exporter": "python",
   "pygments_lexer": "ipython3",
   "version": "3.7.4"
  },
  "toc": {
   "base_numbering": 1,
   "nav_menu": {},
   "number_sections": true,
   "sideBar": true,
   "skip_h1_title": false,
   "title_cell": "Table of Contents",
   "title_sidebar": "Contents",
   "toc_cell": false,
   "toc_position": {},
   "toc_section_display": true,
   "toc_window_display": false
  }
 },
 "nbformat": 4,
 "nbformat_minor": 4
}
