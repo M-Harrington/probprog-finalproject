{
 "cells": [
  {
   "cell_type": "markdown",
   "metadata": {},
   "source": [
    "# Predicting Ground Water Levels with Kernel Regression"
   ]
  },
  {
   "cell_type": "code",
   "execution_count": 1,
   "metadata": {},
   "outputs": [],
   "source": [
    "from __future__ import absolute_import, division, print_function\n",
    "\n",
    "import os\n",
    "import json\n",
    "import pyro\n",
    "import torch\n",
    "import pickle\n",
    "import logging\n",
    "import numpy as np\n",
    "import pandas as pd\n",
    "import seaborn as sns\n",
    "import pyro.optim as optim\n",
    "import pyro.contrib.gp as gp\n",
    "import matplotlib.pyplot as plt\n",
    "import pyro.distributions as dist\n",
    "import matplotlib.animation as animation\n",
    "\n",
    "from torch.distributions import constraints\n",
    "\n",
    "from functools import partial\n",
    "from pyro.infer.mcmc import NUTS\n",
    "from pyro.infer.mcmc.api import MCMC\n",
    "from mpl_toolkits.mplot3d import Axes3D\n",
    "from IPython.display import Image, Video\n",
    "from pyro.contrib.autoguide import AutoMultivariateNormal\n",
    "from pyro.infer import EmpiricalMarginal, SVI, Trace_ELBO, JitTrace_ELBO\n",
    "\n",
    "pyro.set_rng_seed(0)"
   ]
  },
  {
   "cell_type": "code",
   "execution_count": 2,
   "metadata": {},
   "outputs": [],
   "source": [
    "%matplotlib inline\n",
    "logging.basicConfig(format=\"%(message)s\", level=logging.INFO)\n",
    "\n",
    "# Enable validation checks\n",
    "pyro.enable_validation(True)\n",
    "smoke_test = \"CI\" in os.environ\n",
    "assert pyro.__version__.startswith(\"0.4.1\")"
   ]
  },
  {
   "cell_type": "code",
   "execution_count": 3,
   "metadata": {},
   "outputs": [],
   "source": [
    "pyro.set_rng_seed(1)"
   ]
  },
  {
   "cell_type": "code",
   "execution_count": 4,
   "metadata": {},
   "outputs": [],
   "source": [
    "if torch.cuda.is_available():\n",
    "    torch.set_default_tensor_type('torch.cuda.FloatTensor')"
   ]
  },
  {
   "cell_type": "markdown",
   "metadata": {},
   "source": [
    "## Helper Functions"
   ]
  },
  {
   "cell_type": "code",
   "execution_count": 5,
   "metadata": {},
   "outputs": [],
   "source": [
    "def pairwise_distances(x, y=None):\n",
    "    x_norm = (x**2).sum(1).view(-1, 1)\n",
    "    if y is not None:\n",
    "        y_t = torch.transpose(y, 0, 1)\n",
    "        y_norm = (y**2).sum(1).view(1, -1)\n",
    "    else:\n",
    "        y_t = torch.transpose(x, 0, 1)\n",
    "        y_norm = x_norm.view(1, -1)\n",
    "    \n",
    "    dist = x_norm + y_norm - 2.0 * torch.mm(x, y_t)\n",
    "    dist = torch.clamp(dist, 0.0, np.inf)\n",
    "    \n",
    "    return dist"
   ]
  },
  {
   "cell_type": "code",
   "execution_count": 6,
   "metadata": {},
   "outputs": [],
   "source": [
    "def summary(samples):\n",
    "    site_stats = {}\n",
    "    for site_name, values in samples.items():\n",
    "        marginal_site = pd.DataFrame(values)\n",
    "        describe = marginal_site.describe(percentiles=[.05, 0.25, 0.5, 0.75, 0.95]).transpose()\n",
    "        site_stats[site_name] = describe[[\"mean\", \"std\", \"5%\", \"25%\", \"50%\", \"75%\", \"95%\"]]\n",
    "    return site_stats"
   ]
  },
  {
   "cell_type": "code",
   "execution_count": 7,
   "metadata": {},
   "outputs": [],
   "source": [
    "def visualize_posterior(samples):\n",
    "    import math\n",
    "    \n",
    "    sites = list(samples.keys())\n",
    "    \n",
    "    r = int(math.ceil(math.sqrt(len(samples))))\n",
    "    fig, axs = plt.subplots(nrows=r, ncols=r, figsize=(15, 13))\n",
    "    fig.suptitle(\"Marginal Posterior Density\", fontsize=16)\n",
    "    \n",
    "    \n",
    "    for i, ax in enumerate(axs.reshape(-1)):\n",
    "        if i >= len(sites):\n",
    "            break\n",
    "        site = sites[i]\n",
    "        sns.distplot(samples[site], ax=ax)\n",
    "        ax.set_title(site)\n",
    "        \n",
    "    handles, labels = ax.get_legend_handles_labels()"
   ]
  },
  {
   "cell_type": "markdown",
   "metadata": {},
   "source": [
    "## Defining the Model"
   ]
  },
  {
   "cell_type": "markdown",
   "metadata": {},
   "source": [
    "### Generative Model\n",
    "---\n",
    "**Farm Factor**\n",
    "\\begin{align*}\n",
    "    \\ln(\\delta) \\sim \\mathcal{N}(1.0, 0.5)\n",
    "\\end{align*}\n",
    "\n",
    "**Distance Factors**\n",
    "\\begin{align*}\n",
    "    \\ln(\\theta_w) \\sim \\mathcal{N}(0.0, 0.5) \\\\\n",
    "    \\ln(\\theta_f) \\sim \\mathcal{N}(0.0, 0.5)\n",
    "\\end{align*}\n",
    "\n",
    "**Variance**\n",
    "\\begin{align*}\n",
    "    \\sigma^2 \\sim \\text{Gam}(1.0, 1.0)\n",
    "\\end{align*}\n",
    "\n",
    "**Seasonal Factors**\n",
    "For season $s \\in \\mathcal{S}$\n",
    "\\begin{align*}\n",
    "    \\gamma_s \\sim \\mathcal{N}(0.0, 1.0)\n",
    "\\end{align*}\n",
    "\n",
    "**Base Water Levels**\n",
    "\n",
    "The base water levels are modeled as a simple AR(1) process. The details of this are as follows\n",
    "\n",
    "\\begin{align*}\n",
    "    \\mu_0 \\sim \\mathcal{N}(\\gamma_{s_0}, 1.0) \\\\\n",
    "\\end{align*}\n",
    "For $t = 1 \\dots T$, we specify\n",
    "\\begin{align*}\n",
    "    \\mu_{t} \\sim \\mathcal{N}(\\mu_{t - 1} + \\gamma_{s_t}, 1.0)\n",
    "\\end{align*}\n",
    "\n",
    "**Likelihood**\n",
    "\n",
    "For $t = 0 \\dots T$, we specify\n",
    "\\begin{align*}\n",
    "    \\mathbf{y}_t \\sim \\mathcal{N}(\\mu_t - \\delta \\cdot K(X_{t,w}, X_{t,f})\\ /\\ \\theta_f, 1.0)\n",
    "\\end{align*}\n",
    "\n",
    "---\n",
    "\n",
    "<img src=\"includes/hmm-model.png\" alt=\"drawing\" width=\"600\"/>"
   ]
  },
  {
   "cell_type": "code",
   "execution_count": 8,
   "metadata": {},
   "outputs": [],
   "source": [
    "def model(XW, YW, YF, WF_distances, gp=False):\n",
    "    assert not torch._C._get_tracing_state()\n",
    "\n",
    "    delta = pyro.sample(\"delta\", dist.LogNormal(1.0, 0.5))\n",
    "\n",
    "    if gp:\n",
    "        theta_w = pyro.sample(\"theta_w\", dist.LogNormal(0.0, 0.5))    \n",
    "    else:\n",
    "        sigma = pyro.sample(\"sigma\", dist.Gamma(1.0, 1.0))\n",
    "    \n",
    "    theta_f = pyro.sample(\"theta_f\", dist.LogNormal(0.0, 0.5))\n",
    "    \n",
    "    n_seasons = 3\n",
    "    sf = pyro.sample(\"sf\", dist.Normal(torch.zeros(n_seasons), 1.0))\n",
    "\n",
    "    data_plate = pyro.plate(\"data\", len(YW[0]))\n",
    "        \n",
    "    mu = 0\n",
    "    for t in pyro.markov(range(len(YW))):\n",
    "        if gp:\n",
    "            sigma = torch.exp(-pairwise_distances(XW[t], XW[t]) / theta_w)\n",
    "                \n",
    "        mu = pyro.sample(\n",
    "            \"mu_{}\".format(t), dist.Normal(mu + sf[t % n_seasons], 1.0)\n",
    "        )\n",
    "        \n",
    "        mean = mu - delta * (YF[t] * torch.exp(-WF_distances[t] / theta_f)).sum(1)\n",
    "        \n",
    "        if gp:\n",
    "            pyro.sample(\n",
    "                \"obs_{}\".format(t), dist.MultivariateNormal(mean, sigma), obs=YW[t]\n",
    "            )\n",
    "        else:\n",
    "            with pyro.plate(\"data_{}\".format(t), len(YW[t])):\n",
    "#             with data_plate:\n",
    "                pyro.sample(\n",
    "                    \"obs_{}\".format(t), dist.Normal(mean, sigma), obs=YW[t]\n",
    "                )"
   ]
  },
  {
   "cell_type": "code",
   "execution_count": 9,
   "metadata": {},
   "outputs": [],
   "source": [
    "def predict(XW, XF, YF, samples, gp=False):\n",
    "    sigma = samples[\"sigma\"]\n",
    "    delta = samples[\"delta\"]\n",
    "    \n",
    "    if gp:\n",
    "        theta_w = samples[\"theta_w\"]\n",
    "        \n",
    "    theta_f = samples[\"theta_f\"]\n",
    "    \n",
    "    mu = list(zip(*[samples[\"mu_{}\".format(i)] for i in range(len(YF))]))\n",
    "    mu = np.array(mu)\n",
    "    \n",
    "    samples = []\n",
    "    for t in range(len(YF)):\n",
    "        YF_ = YF[t].cpu().numpy()\n",
    "        \n",
    "        if gp:\n",
    "            pdx = pairwise_distances(XW[t]).cpu().numpy()\n",
    "        pdf = pairwise_distances(XW[t], XF[t]).cpu().numpy()\n",
    "    \n",
    "        samples_ = []\n",
    "        for i in range(len(delta)):\n",
    "            if gp:\n",
    "                sg = np.exp(-pdx / theta_w[i])\n",
    "            else:\n",
    "                sg = sigma[i]\n",
    "                \n",
    "            mean = mu[i, t] - delta[i] * np.matmul(np.exp(-pdf / theta_f[i]), YF_)\n",
    "            samples_.append(np.random.normal(mean, sg))\n",
    "            \n",
    "        samples_ = np.array(samples_)\n",
    "        samples.append(samples_)\n",
    "        \n",
    "    return samples"
   ]
  },
  {
   "cell_type": "markdown",
   "metadata": {
    "heading_collapsed": true
   },
   "source": [
    "## Working with Sample Data"
   ]
  },
  {
   "cell_type": "code",
   "execution_count": 10,
   "metadata": {
    "hidden": true
   },
   "outputs": [],
   "source": [
    "data = pd.read_csv(\"data/sample-data/data.csv\", encoding=\"ISO-8859-1\")\n",
    "\n",
    "data_wells = data[data.type == \"well\"]\n",
    "data_farms = data[data.type == \"farm\"]\n",
    "\n",
    "XW, YW = [], []\n",
    "for t in data_wells[\"timestep\"].unique():\n",
    "    data_ = data_wells[data_wells[\"timestep\"] == t]\n",
    "\n",
    "    XW.append(data_[[\"latitude\", \"longitude\"]].values)\n",
    "    YW.append(data_[\"observation\"].values)\n",
    "    \n",
    "XW = XW[0]\n",
    "\n",
    "XF = data_farms[[\"latitude\", \"longitude\"]].values\n",
    "YF = data_farms[\"observation\"].values"
   ]
  },
  {
   "cell_type": "code",
   "execution_count": 11,
   "metadata": {
    "hidden": true
   },
   "outputs": [
    {
     "data": {
      "text/plain": [
       "<Figure size 432x288 with 0 Axes>"
      ]
     },
     "metadata": {},
     "output_type": "display_data"
    }
   ],
   "source": [
    "plt.clf()\n",
    "fig = plt.figure(figsize=(10, 10), dpi=100)\n",
    "\n",
    "plt.ion()\n",
    "\n",
    "plt.scatter(XF[:, 0], XF[:, 1], marker=\"s\", s=7, color=\"lightgreen\")\n",
    "\n",
    "scat = plt.scatter(XW[:, 0], XW[:, 1], marker=\"s\", s=20, c=[(0, 0, 0, 1)] * len(XW))\n",
    "label = plt.text(0, 0, '', fontsize=12)\n",
    "\n",
    "colors = []\n",
    "for obs in YW:\n",
    "    colors.append([min(1 - abs(x) / 15, 1) for x in obs])\n",
    "    \n",
    "colors = np.array(colors)\n",
    "\n",
    "def update_plot(i, scat):\n",
    "    scat.set_array(colors[i])\n",
    "    label.set_text([\"Sp\", \"Su\", \"Fa\", \"Wi\"][i % 4])\n",
    "    return scat,\n",
    "\n",
    "anim = animation.FuncAnimation(fig, update_plot, frames=range(len(XW)), fargs=(scat,), interval=1000)\n",
    "\n",
    "plt.gray()\n",
    "plt.close()"
   ]
  },
  {
   "cell_type": "code",
   "execution_count": 12,
   "metadata": {
    "hidden": true
   },
   "outputs": [
    {
     "name": "stderr",
     "output_type": "stream",
     "text": [
      "Animation.save using <class 'matplotlib.animation.FFMpegWriter'>\n",
      "MovieWriter.run: running command: ['ffmpeg', '-f', 'rawvideo', '-vcodec', 'rawvideo', '-s', '1000x1000', '-pix_fmt', 'rgba', '-r', '1', '-loglevel', 'error', '-i', 'pipe:', '-vcodec', 'h264', '-pix_fmt', 'yuv420p', '-y', 'includes/sample-data-animation.mp4']\n"
     ]
    }
   ],
   "source": [
    "anim.save(\"includes/sample-data-animation.mp4\", fps=1)"
   ]
  },
  {
   "cell_type": "code",
   "execution_count": 13,
   "metadata": {
    "hidden": true
   },
   "outputs": [
    {
     "data": {
      "text/html": [
       "<video src=\"includes/sample-data-animation.mp4\" controls  >\n",
       "      Your browser does not support the <code>video</code> element.\n",
       "    </video>"
      ],
      "text/plain": [
       "<IPython.core.display.Video object>"
      ]
     },
     "execution_count": 13,
     "metadata": {},
     "output_type": "execute_result"
    }
   ],
   "source": [
    "Video(\"includes/sample-data-animation.mp4\")"
   ]
  },
  {
   "cell_type": "code",
   "execution_count": 14,
   "metadata": {
    "hidden": true
   },
   "outputs": [],
   "source": [
    "XW = torch.tensor(XW)\n",
    "YW = torch.tensor(YW)[..., None]\n",
    "\n",
    "XF = torch.tensor(XF)\n",
    "YF = torch.tensor(YF)[..., None]"
   ]
  },
  {
   "cell_type": "code",
   "execution_count": 15,
   "metadata": {
    "hidden": true
   },
   "outputs": [],
   "source": [
    "timesteps = len(YW)\n",
    "\n",
    "XW = XW.repeat(timesteps, 1, 1)\n",
    "\n",
    "YF = YF.repeat(timesteps, 1, 1)\n",
    "XF = XF.repeat(timesteps, 1, 1)"
   ]
  },
  {
   "cell_type": "markdown",
   "metadata": {
    "heading_collapsed": true,
    "hidden": true
   },
   "source": [
    "### Inference"
   ]
  },
  {
   "cell_type": "code",
   "execution_count": 16,
   "metadata": {
    "hidden": true
   },
   "outputs": [],
   "source": [
    "train = False\n",
    "use_gp = False\n",
    "save_samples = False\n",
    "\n",
    "samples_file = \"data/sample-data/\" + (\"gp-samples\" if use_gp else \"kr-samples\") + \".json\""
   ]
  },
  {
   "cell_type": "code",
   "execution_count": 17,
   "metadata": {
    "hidden": true
   },
   "outputs": [],
   "source": [
    "try:\n",
    "    with open(samples_file, \"r\") as f:\n",
    "        samples = {k: np.array(v) for k, v in json.load(f).items()}\n",
    "except:\n",
    "    print(\"Failed to load samples file\")"
   ]
  },
  {
   "cell_type": "code",
   "execution_count": 18,
   "metadata": {
    "hidden": true
   },
   "outputs": [],
   "source": [
    "if train:\n",
    "    WF_distances = [pairwise_distances(XW[i], XF[i]) for i in range(len(YW))]\n",
    "\n",
    "    nuts_kernel = NUTS(partial(model, WF_distances=WF_distances, gp=use_gp))\n",
    "\n",
    "    mcmc = MCMC(nuts_kernel, num_samples=100, warmup_steps=400)\n",
    "    mcmc_run = mcmc.run(XW, YW, YF)\n",
    "\n",
    "    samples = {k: v.detach().cpu().numpy() for k, v in mcmc.get_samples().items()}"
   ]
  },
  {
   "cell_type": "code",
   "execution_count": 19,
   "metadata": {
    "hidden": true
   },
   "outputs": [],
   "source": [
    "if save_samples:\n",
    "    samples_ = {k: v.tolist() for k, v in samples.items()}\n",
    "    with open(samples_file, \"w\") as f:\n",
    "        json.dump(samples_, f)"
   ]
  },
  {
   "cell_type": "code",
   "execution_count": 20,
   "metadata": {
    "hidden": true
   },
   "outputs": [
    {
     "name": "stdout",
     "output_type": "stream",
     "text": [
      "Site: delta\n",
      "      mean      std        5%      25%      50%       75%       95%\n",
      "0  0.69229  0.00361  0.686609  0.68985  0.69248  0.694578  0.699596 \n",
      "\n",
      "Site: sigma\n",
      "       mean       std       5%       25%       50%       75%       95%\n",
      "0  0.494591  0.014084  0.47054  0.483666  0.496779  0.504777  0.517015 \n",
      "\n",
      "Site: theta_f\n",
      "     mean       std        5%       25%      50%       75%       95%\n",
      "0  0.5986  0.004159  0.592153  0.595778  0.59831  0.600883  0.606531 \n",
      "\n",
      "Site: sf\n",
      "       mean       std        5%       25%       50%       75%       95%\n",
      "0 -1.295759  0.267506 -1.680994 -1.476214 -1.338350 -1.100939 -0.870364\n",
      "1 -1.782890  0.310849 -2.361393 -1.945206 -1.780396 -1.576902 -1.285234\n",
      "2  2.591550  0.317839  2.090448  2.392160  2.572209  2.771738  3.226744\n",
      "3  0.001271  0.315721 -0.481662 -0.224385 -0.012434  0.206743  0.489497 \n",
      "\n",
      "Site: mu_0\n",
      "      mean       std        5%       25%       50%       75%       95%\n",
      "0 -5.23217  0.102741 -5.385782 -5.296615 -5.233654 -5.173446 -5.051048 \n",
      "\n",
      "Site: mu_1\n",
      "       mean       std       5%       25%       50%       75%       95%\n",
      "0 -7.102756  0.121041 -7.28518 -7.187757 -7.106878 -7.007271 -6.928028 \n",
      "\n",
      "Site: mu_2\n",
      "      mean       std        5%       25%       50%       75%       95%\n",
      "0 -4.32281  0.122766 -4.539714 -4.406452 -4.330522 -4.230799 -4.140409 \n",
      "\n",
      "Site: mu_3\n",
      "       mean       std        5%       25%       50%      75%       95%\n",
      "0 -4.341175  0.132693 -4.562487 -4.427048 -4.346319 -4.24258 -4.151725 \n",
      "\n",
      "Site: mu_4\n",
      "       mean       std        5%       25%       50%       75%       95%\n",
      "0 -5.429291  0.132874 -5.648971 -5.496876 -5.433668 -5.345684 -5.212771 \n",
      "\n",
      "Site: mu_5\n",
      "       mean       std        5%      25%       50%       75%       95%\n",
      "0 -7.146893  0.135676 -7.362454 -7.23991 -7.146699 -7.058895 -6.920835 \n",
      "\n",
      "Site: mu_6\n",
      "       mean       std        5%       25%       50%      75%       95%\n",
      "0 -4.469497  0.128975 -4.673978 -4.546571 -4.474823 -4.36939 -4.263389 \n",
      "\n",
      "Site: mu_7\n",
      "       mean       std        5%       25%       50%       75%      95%\n",
      "0 -4.537801  0.131501 -4.733228 -4.618147 -4.546262 -4.451695 -4.33009 \n",
      "\n",
      "Site: mu_8\n",
      "       mean       std        5%      25%       50%       75%       95%\n",
      "0 -5.739791  0.138111 -5.973899 -5.82998 -5.739515 -5.654228 -5.534764 \n",
      "\n",
      "Site: mu_9\n",
      "       mean      std        5%       25%       50%       75%       95%\n",
      "0 -7.851544  0.12228 -8.020626 -7.942415 -7.844803 -7.792006 -7.597179 \n",
      "\n",
      "Site: mu_10\n",
      "       mean       std        5%       25%       50%       75%       95%\n",
      "0 -4.828122  0.140748 -5.038981 -4.934884 -4.838472 -4.730031 -4.592358 \n",
      "\n",
      "Site: mu_11\n",
      "       mean       std        5%       25%       50%       75%       95%\n",
      "0 -5.153823  0.120746 -5.345927 -5.231476 -5.171229 -5.071339 -4.952601 \n",
      "\n",
      "Site: mu_12\n",
      "       mean      std        5%       25%       50%       75%       95%\n",
      "0 -6.270247  0.15561 -6.539054 -6.353313 -6.267657 -6.169779 -6.060803 \n",
      "\n",
      "Site: mu_13\n",
      "       mean       std        5%       25%       50%       75%       95%\n",
      "0 -8.175829  0.129549 -8.406915 -8.249127 -8.169145 -8.097964 -7.938531 \n",
      "\n",
      "Site: mu_14\n",
      "      mean       std        5%       25%       50%      75%       95%\n",
      "0 -5.11986  0.149508 -5.355407 -5.211994 -5.126672 -5.03659 -4.916692 \n",
      "\n",
      "Site: mu_15\n",
      "       mean       std        5%       25%       50%       75%      95%\n",
      "0 -4.625477  0.148686 -4.842604 -4.745973 -4.628543 -4.521402 -4.38638 \n",
      "\n",
      "Site: mu_16\n",
      "       mean       std        5%       25%       50%       75%       95%\n",
      "0 -5.301262  0.146865 -5.514735 -5.405569 -5.307266 -5.195707 -5.035567 \n",
      "\n",
      "Site: mu_17\n",
      "       mean      std        5%       25%       50%       75%      95%\n",
      "0 -7.374305  0.13686 -7.604782 -7.469634 -7.358803 -7.287761 -7.14887 \n",
      "\n",
      "Site: mu_18\n",
      "       mean       std        5%       25%       50%       75%       95%\n",
      "0 -4.571298  0.120165 -4.789184 -4.639885 -4.553825 -4.491367 -4.402985 \n",
      "\n",
      "Site: mu_19\n",
      "       mean       std        5%       25%       50%       75%       95%\n",
      "0 -4.305934  0.129266 -4.493619 -4.395159 -4.320397 -4.210388 -4.101063 \n",
      "\n",
      "Site: mu_20\n",
      "       mean       std        5%       25%      50%       75%       95%\n",
      "0 -5.655766  0.126519 -5.853221 -5.740219 -5.65617 -5.587665 -5.454465 \n",
      "\n",
      "Site: mu_21\n",
      "       mean       std        5%       25%       50%      75%       95%\n",
      "0 -7.750066  0.115415 -7.931042 -7.845191 -7.755809 -7.66649 -7.556933 \n",
      "\n",
      "Site: mu_22\n",
      "       mean       std        5%       25%       50%       75%       95%\n",
      "0 -4.500326  0.126463 -4.693191 -4.585559 -4.513461 -4.407693 -4.279512 \n",
      "\n",
      "Site: mu_23\n",
      "       mean       std       5%       25%       50%       75%       95%\n",
      "0 -4.891663  0.137629 -5.09624 -4.994689 -4.897304 -4.790973 -4.658604 \n",
      "\n",
      "Site: mu_24\n",
      "       mean       std        5%       25%       50%       75%       95%\n",
      "0 -5.653939  0.133754 -5.835332 -5.734353 -5.672253 -5.590106 -5.391253 \n",
      "\n",
      "Site: mu_25\n",
      "       mean       std        5%      25%       50%       75%       95%\n",
      "0 -7.770901  0.151198 -8.004041 -7.87765 -7.780434 -7.665277 -7.551624 \n",
      "\n",
      "Site: mu_26\n",
      "       mean       std        5%       25%       50%       75%       95%\n",
      "0 -4.695981  0.116816 -4.881442 -4.786898 -4.707632 -4.621287 -4.498758 \n",
      "\n",
      "Site: mu_27\n",
      "       mean      std        5%       25%       50%       75%      95%\n",
      "0 -4.845403  0.11696 -5.046449 -4.925944 -4.837666 -4.767001 -4.67501 \n",
      "\n",
      "Site: mu_28\n",
      "       mean       std        5%       25%       50%       75%       95%\n",
      "0 -5.892571  0.115735 -6.095039 -5.979699 -5.885565 -5.808307 -5.718595 \n",
      "\n",
      "Site: mu_29\n",
      "       mean       std       5%       25%       50%       75%       95%\n",
      "0 -7.830866  0.127536 -8.02248 -7.910374 -7.827527 -7.755028 -7.604342 \n",
      "\n",
      "Site: mu_30\n",
      "       mean       std        5%       25%       50%       75%       95%\n",
      "0 -5.211821  0.133576 -5.423789 -5.305746 -5.211996 -5.110987 -5.013408 \n",
      "\n",
      "Site: mu_31\n",
      "       mean       std        5%       25%       50%       75%       95%\n",
      "0 -5.139646  0.122269 -5.342795 -5.201957 -5.137636 -5.074237 -4.938601 \n",
      "\n",
      "Site: mu_32\n",
      "      mean       std        5%       25%       50%       75%       95%\n",
      "0 -5.98624  0.128351 -6.194293 -6.062855 -5.971961 -5.901766 -5.785852 \n",
      "\n",
      "Site: mu_33\n",
      "       mean      std        5%       25%       50%       75%       95%\n",
      "0 -7.888872  0.12208 -8.115118 -7.967813 -7.869992 -7.812159 -7.720718 \n",
      "\n",
      "Site: mu_34\n",
      "       mean       std        5%       25%      50%       75%      95%\n",
      "0 -5.234059  0.121732 -5.431451 -5.295957 -5.23017 -5.172981 -5.02716 \n",
      "\n",
      "Site: mu_35\n",
      "       mean       std        5%       25%    50%       75%      95%\n",
      "0 -5.144713  0.111695 -5.324914 -5.219996 -5.165 -5.059392 -4.96872 \n",
      "\n",
      "Site: mu_36\n",
      "      mean       std        5%       25%       50%       75%      95%\n",
      "0 -6.46977  0.112197 -6.652642 -6.551878 -6.462395 -6.400358 -6.26428 \n",
      "\n",
      "Site: mu_37\n",
      "       mean       std        5%       25%       50%       75%       95%\n",
      "0 -8.284207  0.116871 -8.452373 -8.377825 -8.279566 -8.205648 -8.092055 \n",
      "\n",
      "Site: mu_38\n",
      "       mean       std        5%       25%       50%      75%       95%\n",
      "0 -5.664551  0.120555 -5.856144 -5.748567 -5.677965 -5.57331 -5.455676 \n",
      "\n",
      "Site: mu_39\n",
      "       mean       std        5%       25%       50%       75%      95%\n",
      "0 -5.593008  0.121045 -5.783272 -5.671216 -5.603456 -5.495344 -5.40635 \n",
      "\n"
     ]
    }
   ],
   "source": [
    "for site, values in summary(samples).items():\n",
    "    print(\"Site: {}\".format(site))\n",
    "    print(values, \"\\n\")"
   ]
  },
  {
   "cell_type": "code",
   "execution_count": 21,
   "metadata": {
    "hidden": true
   },
   "outputs": [],
   "source": [
    "predictions = predict(XW, XF, YF, samples, use_gp)"
   ]
  },
  {
   "cell_type": "markdown",
   "metadata": {},
   "source": [
    "## Working with Real Data"
   ]
  },
  {
   "cell_type": "code",
   "execution_count": 22,
   "metadata": {},
   "outputs": [],
   "source": [
    "with open(\"data/dataset.pkl\", \"rb\") as f:\n",
    "    XF_r = [np.array(x) for x in pickle.load(f)]\n",
    "    YF_r = [np.array(x) for x in pickle.load(f)]\n",
    "                        \n",
    "    XW_r = [np.array(x) for x in pickle.load(f)]\n",
    "    YW_r = [np.array(x) for x in pickle.load(f)]"
   ]
  },
  {
   "cell_type": "code",
   "execution_count": 23,
   "metadata": {},
   "outputs": [
    {
     "data": {
      "text/plain": [
       "<Figure size 432x288 with 0 Axes>"
      ]
     },
     "metadata": {},
     "output_type": "display_data"
    }
   ],
   "source": [
    "plt.clf()\n",
    "fig = plt.figure(figsize=(10, 10), dpi=100)\n",
    "\n",
    "plt.ion()\n",
    "\n",
    "scat_f = plt.scatter(XF_r[0][:, 0], XF_r[0][:, 1], marker=\"s\", s=7, color=\"lightgreen\")\n",
    "\n",
    "scat_w = plt.scatter(XW_r[0][:, 0], XW_r[0][:, 1], marker=\"s\", s=20, c=[(0, 0, 0, 1)] * len(XW_r[0]))\n",
    "label = plt.text(0, 0, '', fontsize=12)\n",
    "\n",
    "def update_plot(i, scat_w, scat_f):\n",
    "    scat_w.set_offsets(XW_r[i])\n",
    "    scat_w.set_array(np.array([min(1 - abs(x[0]) / 50, 1) for x in YW_r[i]]))\n",
    "    \n",
    "    scat_f.set_offsets(XF_r[i])\n",
    "    return scat_w, scat_f\n",
    "\n",
    "anim = animation.FuncAnimation(fig, update_plot, frames=range(len(XW_r)), fargs=(scat_w, scat_f), interval=1000)\n",
    "\n",
    "plt.gray()\n",
    "plt.close()"
   ]
  },
  {
   "cell_type": "code",
   "execution_count": 24,
   "metadata": {},
   "outputs": [
    {
     "name": "stderr",
     "output_type": "stream",
     "text": [
      "Animation.save using <class 'matplotlib.animation.FFMpegWriter'>\n",
      "MovieWriter.run: running command: ['ffmpeg', '-f', 'rawvideo', '-vcodec', 'rawvideo', '-s', '1000x1000', '-pix_fmt', 'rgba', '-r', '1', '-loglevel', 'error', '-i', 'pipe:', '-vcodec', 'h264', '-pix_fmt', 'yuv420p', '-y', 'includes/data-animation.mp4']\n"
     ]
    }
   ],
   "source": [
    "anim.save(\"includes/data-animation.mp4\", fps=1)"
   ]
  },
  {
   "cell_type": "code",
   "execution_count": 25,
   "metadata": {},
   "outputs": [
    {
     "data": {
      "text/html": [
       "<video src=\"includes/data-animation.mp4\" controls  >\n",
       "      Your browser does not support the <code>video</code> element.\n",
       "    </video>"
      ],
      "text/plain": [
       "<IPython.core.display.Video object>"
      ]
     },
     "execution_count": 25,
     "metadata": {},
     "output_type": "execute_result"
    }
   ],
   "source": [
    "Video(\"includes/data-animation.mp4\")"
   ]
  },
  {
   "cell_type": "code",
   "execution_count": 26,
   "metadata": {},
   "outputs": [],
   "source": [
    "XF_r = [torch.tensor(x) for x in XF_r]\n",
    "YF_r = [torch.tensor(x) for x in YF_r]\n",
    "\n",
    "XW_r = [torch.tensor(x) for x in XW_r]\n",
    "YW_r = [torch.tensor(x) for x in YW_r]"
   ]
  },
  {
   "cell_type": "code",
   "execution_count": 27,
   "metadata": {},
   "outputs": [],
   "source": [
    "Xs = torch.cat(XW_r + XF_r)"
   ]
  },
  {
   "cell_type": "code",
   "execution_count": 28,
   "metadata": {},
   "outputs": [],
   "source": [
    "x_mean = Xs.mean(0)\n",
    "x_std = Xs.std(0)"
   ]
  },
  {
   "cell_type": "code",
   "execution_count": 29,
   "metadata": {},
   "outputs": [],
   "source": [
    "XW_r = [(x - x_mean) / x_std for x in XW_r]\n",
    "XF_r = [(x - x_mean) / x_std for x in XF_r]"
   ]
  },
  {
   "cell_type": "markdown",
   "metadata": {},
   "source": [
    "### Inference"
   ]
  },
  {
   "cell_type": "code",
   "execution_count": null,
   "metadata": {},
   "outputs": [],
   "source": [
    "train = True\n",
    "use_gp = False\n",
    "save_samples = True\n",
    "\n",
    "samples_file = \"data/real-data/\" + (\"gp-samples\" if use_gp else \"kr-samples\") + \".json\""
   ]
  },
  {
   "cell_type": "code",
   "execution_count": 31,
   "metadata": {},
   "outputs": [],
   "source": [
    "try:\n",
    "    with open(samples_file, \"r\") as f:\n",
    "        samples = {k: np.array(v) for k, v in json.load(f).items()}\n",
    "except:\n",
    "    print(\"Failed to load samples file\")"
   ]
  },
  {
   "cell_type": "code",
   "execution_count": 32,
   "metadata": {},
   "outputs": [],
   "source": [
    "if train:\n",
    "    WF_distances = [pairwise_distances(XW_r[i], XF_r[i]) for i in range(len(YW_r))]\n",
    "\n",
    "    nuts_kernel = NUTS(partial(model, WF_distances=WF_distances, gp=use_gp))\n",
    "\n",
    "    mcmc = MCMC(nuts_kernel, num_samples=100, warmup_steps=400)\n",
    "    mcmc_run = mcmc.run(XW_r, YW_r, YF_r)\n",
    "\n",
    "    samples = {k: v.detach().cpu().numpy() for k, v in mcmc.get_samples().items()}"
   ]
  },
  {
   "cell_type": "code",
   "execution_count": 33,
   "metadata": {},
   "outputs": [],
   "source": [
    "if save_samples:\n",
    "    samples_ = {k: v.tolist() for k, v in samples.items()}\n",
    "    with open(samples_file, \"w\") as f:\n",
    "        json.dump(samples_, f)"
   ]
  },
  {
   "cell_type": "code",
   "execution_count": 34,
   "metadata": {
    "scrolled": true
   },
   "outputs": [
    {
     "name": "stdout",
     "output_type": "stream",
     "text": [
      "Site: delta\n",
      "       mean       std        5%       25%       50%       75%       95%\n",
      "0  0.000219  0.000072  0.000126  0.000165  0.000201  0.000247  0.000356 \n",
      "\n",
      "Site: sigma\n",
      "        mean       std         5%        25%        50%        75%        95%\n",
      "0  23.180259  0.131626  22.958813  23.097648  23.183979  23.267464  23.403579 \n",
      "\n",
      "Site: theta_f\n",
      "       mean       std        5%       25%       50%       75%       95%\n",
      "0  0.000265  0.000086  0.000132  0.000203  0.000262  0.000314  0.000401 \n",
      "\n",
      "Site: sf\n",
      "       mean       std        5%       25%       50%       75%       95%\n",
      "0 -3.138915  0.499943 -4.043172 -3.460290 -3.067657 -2.799999 -2.419570\n",
      "1 -1.147099  0.480017 -2.015271 -1.437748 -1.138173 -0.858489 -0.361831\n",
      "2  1.178620  0.531882  0.373820  0.843479  1.159863  1.544441  1.960773 \n",
      "\n",
      "Site: mu_0\n",
      "        mean       std        5%        25%        50%        75%        95%\n",
      "0 -21.714631  0.541971 -22.63309 -22.088746 -21.655123 -21.364281 -20.847652 \n",
      "\n",
      "Site: mu_1\n",
      "        mean       std         5%        25%        50%       75%        95%\n",
      "0 -28.646124  0.591006 -29.633599 -29.023004 -28.630885 -28.27922 -27.632545 \n",
      "\n",
      "Site: mu_2\n",
      "        mean       std         5%        25%        50%        75%        95%\n",
      "0 -28.499884  0.661539 -29.635138 -29.044365 -28.464786 -27.936539 -27.468256 \n",
      "\n",
      "Site: mu_3\n",
      "        mean       std        5%        25%        50%       75%        95%\n",
      "0 -29.783194  0.565295 -30.71037 -30.144971 -29.786873 -29.40786 -28.873155 \n",
      "\n",
      "Site: mu_4\n",
      "        mean       std         5%        25%        50%        75%        95%\n",
      "0 -31.040136  0.623896 -32.117406 -31.464407 -31.027878 -30.615479 -29.967512 \n",
      "\n",
      "Site: mu_5\n",
      "        mean       std         5%        25%        50%        75%        95%\n",
      "0 -29.821158  0.672994 -30.913242 -30.269284 -29.833572 -29.379811 -28.683265 \n",
      "\n",
      "Site: mu_6\n",
      "        mean       std         5%        25%        50%        75%        95%\n",
      "0 -31.928276  0.632122 -32.833696 -32.426051 -31.985179 -31.560249 -30.897101 \n",
      "\n",
      "Site: mu_7\n",
      "        mean       std         5%       25%        50%        75%        95%\n",
      "0 -33.606402  0.532219 -34.423797 -34.03325 -33.630035 -33.306005 -32.657316 \n",
      "\n",
      "Site: mu_8\n",
      "        mean       std         5%        25%        50%        75%        95%\n",
      "0 -33.853215  0.559724 -34.770272 -34.224639 -33.903049 -33.421428 -32.991399 \n",
      "\n",
      "Site: mu_9\n",
      "        mean       std         5%       25%        50%        75%        95%\n",
      "0 -33.333716  0.565662 -34.299764 -33.69089 -33.362728 -33.029337 -32.416225 \n",
      "\n",
      "Site: mu_10\n",
      "        mean       std         5%        25%       50%        75%        95%\n",
      "0 -35.552689  0.504968 -36.357264 -35.904923 -35.53479 -35.209888 -34.732351 \n",
      "\n",
      "Site: mu_11\n",
      "        mean       std         5%        25%        50%        75%        95%\n",
      "0 -35.504731  0.606408 -36.494316 -35.952443 -35.471069 -35.037113 -34.569045 \n",
      "\n",
      "Site: mu_12\n",
      "        mean       std         5%        25%        50%        75%        95%\n",
      "0 -35.692922  0.546452 -36.540282 -36.059909 -35.731365 -35.302051 -34.818706 \n",
      "\n",
      "Site: mu_13\n",
      "        mean       std         5%        25%        50%        75%        95%\n",
      "0 -34.421213  0.615499 -35.382604 -34.893326 -34.442276 -34.003528 -33.376303 \n",
      "\n",
      "Site: mu_14\n",
      "        mean       std         5%        25%        50%        75%        95%\n",
      "0 -31.916091  0.740406 -33.027245 -32.326372 -31.979035 -31.477441 -30.659739 \n",
      "\n",
      "Site: mu_15\n",
      "        mean       std         5%       25%        50%        75%        95%\n",
      "0 -33.143873  0.630929 -34.232493 -33.53008 -33.119669 -32.746391 -32.258992 \n",
      "\n",
      "Site: mu_16\n",
      "        mean       std         5%        25%        50%       75%        95%\n",
      "0 -33.128191  0.662445 -34.301501 -33.542314 -33.118994 -32.59955 -32.242447 \n",
      "\n",
      "Site: mu_17\n",
      "        mean       std         5%        25%        50%        75%        95%\n",
      "0 -31.632156  0.629547 -32.829656 -31.979814 -31.590194 -31.153629 -30.691713 \n",
      "\n",
      "Site: mu_18\n",
      "        mean       std         5%        25%        50%        75%       95%\n",
      "0 -33.007283  0.727665 -34.067986 -33.475559 -33.048405 -32.624427 -31.73063 \n",
      "\n",
      "Site: mu_19\n",
      "        mean       std         5%        25%        50%       75%        95%\n",
      "0 -32.687191  0.670563 -33.761149 -33.081245 -32.764666 -32.30025 -31.558958 \n",
      "\n",
      "Site: mu_20\n",
      "        mean      std         5%        25%       50%        75%        95%\n",
      "0 -28.513347  0.88219 -29.784528 -29.159029 -28.54019 -27.958255 -27.023804 \n",
      "\n",
      "Site: mu_21\n",
      "        mean       std         5%        25%        50%        75%        95%\n",
      "0 -29.443782  0.841909 -30.730762 -29.986626 -29.555879 -28.967354 -28.219959 \n",
      "\n",
      "Site: mu_22\n",
      "        mean       std         5%        25%        50%        75%        95%\n",
      "0 -29.414339  0.936109 -31.151347 -30.089602 -29.187251 -28.744856 -28.079265 \n",
      "\n"
     ]
    }
   ],
   "source": [
    "for site, values in summary(samples).items():\n",
    "    print(\"Site: {}\".format(site))\n",
    "    print(values, \"\\n\")"
   ]
  },
  {
   "cell_type": "code",
   "execution_count": null,
   "metadata": {},
   "outputs": [],
   "source": [
    "predictions = predict(XW_r, XF_r, YF_r, samples, use_gp)"
   ]
  },
  {
   "cell_type": "code",
   "execution_count": null,
   "metadata": {},
   "outputs": [],
   "source": [
    "predictions"
   ]
  },
  {
   "cell_type": "code",
   "execution_count": null,
   "metadata": {},
   "outputs": [],
   "source": [
    "YW_r"
   ]
  }
 ],
 "metadata": {
  "hide_input": false,
  "kernelspec": {
   "display_name": "Python 3 (ML)",
   "language": "python",
   "name": "ml"
  },
  "language_info": {
   "codemirror_mode": {
    "name": "ipython",
    "version": 3
   },
   "file_extension": ".py",
   "mimetype": "text/x-python",
   "name": "python",
   "nbconvert_exporter": "python",
   "pygments_lexer": "ipython3",
   "version": "3.7.4"
  },
  "toc": {
   "base_numbering": 1,
   "nav_menu": {},
   "number_sections": true,
   "sideBar": true,
   "skip_h1_title": false,
   "title_cell": "Table of Contents",
   "title_sidebar": "Contents",
   "toc_cell": false,
   "toc_position": {},
   "toc_section_display": true,
   "toc_window_display": false
  }
 },
 "nbformat": 4,
 "nbformat_minor": 4
}
