{
 "cells": [
  {
   "cell_type": "markdown",
   "metadata": {},
   "source": [
    "# Predicting Ground Water Levels with Kernel Regression"
   ]
  },
  {
   "cell_type": "code",
   "execution_count": 21,
   "metadata": {},
   "outputs": [],
   "source": [
    "from __future__ import absolute_import, division, print_function\n",
    "\n",
    "import os\n",
    "import json\n",
    "import pyro\n",
    "import torch\n",
    "import logging\n",
    "import numpy as np\n",
    "import pandas as pd\n",
    "import seaborn as sns\n",
    "import pyro.optim as optim\n",
    "import pyro.contrib.gp as gp\n",
    "import matplotlib.pyplot as plt\n",
    "import pyro.distributions as dist\n",
    "import matplotlib.animation as animation\n",
    "\n",
    "from torch.distributions import constraints\n",
    "\n",
    "from functools import partial\n",
    "from pyro.infer.mcmc import NUTS\n",
    "from pyro.infer.mcmc.api import MCMC\n",
    "from mpl_toolkits.mplot3d import Axes3D\n",
    "from IPython.display import Image, Video\n",
    "from pyro.contrib.autoguide import AutoMultivariateNormal\n",
    "from pyro.infer import EmpiricalMarginal, SVI, Trace_ELBO, JitTrace_ELBO\n",
    "\n",
    "pyro.set_rng_seed(0)"
   ]
  },
  {
   "cell_type": "code",
   "execution_count": 2,
   "metadata": {},
   "outputs": [],
   "source": [
    "%matplotlib inline\n",
    "logging.basicConfig(format=\"%(message)s\", level=logging.INFO)\n",
    "\n",
    "# Enable validation checks\n",
    "pyro.enable_validation(True)\n",
    "smoke_test = \"CI\" in os.environ\n",
    "assert pyro.__version__.startswith(\"0.4.1\")"
   ]
  },
  {
   "cell_type": "code",
   "execution_count": 3,
   "metadata": {},
   "outputs": [],
   "source": [
    "pyro.set_rng_seed(1)"
   ]
  },
  {
   "cell_type": "code",
   "execution_count": 4,
   "metadata": {},
   "outputs": [],
   "source": [
    "if torch.cuda.is_available():\n",
    "    torch.set_default_tensor_type('torch.cuda.FloatTensor')"
   ]
  },
  {
   "cell_type": "markdown",
   "metadata": {
    "heading_collapsed": true
   },
   "source": [
    "## Helper Functions"
   ]
  },
  {
   "cell_type": "code",
   "execution_count": 5,
   "metadata": {
    "hidden": true
   },
   "outputs": [],
   "source": [
    "def pairwise_distances(x, y=None):\n",
    "    x_norm = (x**2).sum(1).view(-1, 1)\n",
    "    if y is not None:\n",
    "        y_t = torch.transpose(y, 0, 1)\n",
    "        y_norm = (y**2).sum(1).view(1, -1)\n",
    "    else:\n",
    "        y_t = torch.transpose(x, 0, 1)\n",
    "        y_norm = x_norm.view(1, -1)\n",
    "    \n",
    "    dist = x_norm + y_norm - 2.0 * torch.mm(x, y_t)\n",
    "    dist = torch.clamp(dist, 0.0, np.inf)\n",
    "    \n",
    "    return dist"
   ]
  },
  {
   "cell_type": "code",
   "execution_count": 6,
   "metadata": {
    "hidden": true
   },
   "outputs": [],
   "source": [
    "def summary(samples):\n",
    "    site_stats = {}\n",
    "    for site_name, values in samples.items():\n",
    "        marginal_site = pd.DataFrame(values)\n",
    "        describe = marginal_site.describe(percentiles=[.05, 0.25, 0.5, 0.75, 0.95]).transpose()\n",
    "        site_stats[site_name] = describe[[\"mean\", \"std\", \"5%\", \"25%\", \"50%\", \"75%\", \"95%\"]]\n",
    "    return site_stats"
   ]
  },
  {
   "cell_type": "code",
   "execution_count": 7,
   "metadata": {
    "hidden": true
   },
   "outputs": [],
   "source": [
    "def visualize_posterior(samples):\n",
    "    import math\n",
    "    \n",
    "    sites = list(samples.keys())\n",
    "    \n",
    "    r = int(math.ceil(math.sqrt(len(samples))))\n",
    "    fig, axs = plt.subplots(nrows=r, ncols=r, figsize=(15, 13))\n",
    "    fig.suptitle(\"Marginal Posterior Density\", fontsize=16)\n",
    "    \n",
    "    \n",
    "    for i, ax in enumerate(axs.reshape(-1)):\n",
    "        if i >= len(sites):\n",
    "            break\n",
    "        site = sites[i]\n",
    "        sns.distplot(samples[site], ax=ax)\n",
    "        ax.set_title(site)\n",
    "        \n",
    "    handles, labels = ax.get_legend_handles_labels()"
   ]
  },
  {
   "cell_type": "markdown",
   "metadata": {
    "heading_collapsed": true
   },
   "source": [
    "## Loading Data"
   ]
  },
  {
   "cell_type": "code",
   "execution_count": 8,
   "metadata": {
    "hidden": true
   },
   "outputs": [],
   "source": [
    "data = pd.read_csv(\"data/sample_data.csv\", encoding=\"ISO-8859-1\")\n",
    "\n",
    "data_wells = data[data.type == \"well\"]\n",
    "data_farms = data[data.type == \"farm\"]\n",
    "\n",
    "XW, YW = [], []\n",
    "for t in data_wells[\"timestep\"].unique():\n",
    "    data_ = data_wells[data_wells[\"timestep\"] == t]\n",
    "\n",
    "    XW.append(data_[[\"latitude\", \"longitude\"]].values)\n",
    "    YW.append(data_[\"observation\"].values)\n",
    "    \n",
    "XW = XW[0]\n",
    "\n",
    "XF = data_farms[[\"latitude\", \"longitude\"]].values\n",
    "YF = data_farms[\"observation\"].values"
   ]
  },
  {
   "cell_type": "code",
   "execution_count": 9,
   "metadata": {
    "hidden": true
   },
   "outputs": [
    {
     "data": {
      "text/plain": [
       "<Figure size 432x288 with 0 Axes>"
      ]
     },
     "metadata": {},
     "output_type": "display_data"
    }
   ],
   "source": [
    "plt.clf()\n",
    "fig = plt.figure(figsize=(10, 10), dpi=100)\n",
    "\n",
    "plt.ion()\n",
    "\n",
    "plt.scatter(XF[:, 0], XF[:, 1], marker=\"s\", s=7, color=\"lightgreen\")\n",
    "\n",
    "scat = plt.scatter(XW[:, 0], XW[:, 1], marker=\"s\", s=20, c=[(0, 0, 0, 1)] * len(XW))\n",
    "label = plt.text(0, 0, '', fontsize=12)\n",
    "\n",
    "colors = []\n",
    "for obs in YW:\n",
    "#     min_v = min(obs)\n",
    "#     max_v = max(obs)\n",
    "#     colors.append([max((x - min_v) / (max_v - min_v), 0.1) for x in obs])\n",
    "    colors.append([min(1 - abs(x) / 15, 1) for x in obs])\n",
    "    \n",
    "colors = np.array(colors)\n",
    "\n",
    "def update_plot(i, scat):\n",
    "    scat.set_array(colors[i])\n",
    "    label.set_text([\"Sp\", \"Su\", \"Fa\", \"Wi\"][i % 4])\n",
    "    return scat,\n",
    "\n",
    "anim = animation.FuncAnimation(fig, update_plot, frames=range(len(XW)), fargs=(scat,), interval=1000)\n",
    "\n",
    "plt.gray()\n",
    "plt.close()"
   ]
  },
  {
   "cell_type": "code",
   "execution_count": 10,
   "metadata": {
    "hidden": true
   },
   "outputs": [
    {
     "name": "stderr",
     "output_type": "stream",
     "text": [
      "Animation.save using <class 'matplotlib.animation.FFMpegWriter'>\n",
      "MovieWriter.run: running command: ['ffmpeg', '-f', 'rawvideo', '-vcodec', 'rawvideo', '-s', '1000x1000', '-pix_fmt', 'rgba', '-r', '1', '-loglevel', 'error', '-i', 'pipe:', '-vcodec', 'h264', '-pix_fmt', 'yuv420p', '-y', 'includes/data-animation.mp4']\n"
     ]
    }
   ],
   "source": [
    "anim.save(\"includes/data-animation.mp4\", fps=1)"
   ]
  },
  {
   "cell_type": "code",
   "execution_count": 11,
   "metadata": {
    "hidden": true
   },
   "outputs": [
    {
     "data": {
      "text/html": [
       "<video src=\"includes/data-animation.mp4\" controls  >\n",
       "      Your browser does not support the <code>video</code> element.\n",
       "    </video>"
      ],
      "text/plain": [
       "<IPython.core.display.Video object>"
      ]
     },
     "execution_count": 11,
     "metadata": {},
     "output_type": "execute_result"
    }
   ],
   "source": [
    "Video(\"includes/data-animation.mp4\")"
   ]
  },
  {
   "cell_type": "code",
   "execution_count": 20,
   "metadata": {
    "hidden": true
   },
   "outputs": [
    {
     "name": "stderr",
     "output_type": "stream",
     "text": [
      "/home/fat-fighter/.local/lib/python3.7/site-packages/ipykernel_launcher.py:1: UserWarning: To copy construct from a tensor, it is recommended to use sourceTensor.clone().detach() or sourceTensor.clone().detach().requires_grad_(True), rather than torch.tensor(sourceTensor).\n",
      "  \"\"\"Entry point for launching an IPython kernel.\n",
      "/home/fat-fighter/.local/lib/python3.7/site-packages/ipykernel_launcher.py:2: UserWarning: To copy construct from a tensor, it is recommended to use sourceTensor.clone().detach() or sourceTensor.clone().detach().requires_grad_(True), rather than torch.tensor(sourceTensor).\n",
      "  \n",
      "/home/fat-fighter/.local/lib/python3.7/site-packages/ipykernel_launcher.py:4: UserWarning: To copy construct from a tensor, it is recommended to use sourceTensor.clone().detach() or sourceTensor.clone().detach().requires_grad_(True), rather than torch.tensor(sourceTensor).\n",
      "  after removing the cwd from sys.path.\n",
      "/home/fat-fighter/.local/lib/python3.7/site-packages/ipykernel_launcher.py:5: UserWarning: To copy construct from a tensor, it is recommended to use sourceTensor.clone().detach() or sourceTensor.clone().detach().requires_grad_(True), rather than torch.tensor(sourceTensor).\n",
      "  \"\"\"\n"
     ]
    }
   ],
   "source": [
    "XW = torch.tensor(XW)\n",
    "YW = torch.tensor(YW)\n",
    "\n",
    "XF = torch.tensor(XF)\n",
    "YF = torch.tensor(YF)"
   ]
  },
  {
   "cell_type": "markdown",
   "metadata": {},
   "source": [
    "## Defining the Model"
   ]
  },
  {
   "cell_type": "markdown",
   "metadata": {},
   "source": [
    "### Generative Model\n",
    "---\n",
    "**Farm Factor**\n",
    "\\begin{align*}\n",
    "    \\ln(\\delta) \\sim \\mathcal{N}(1.0, 0.5)\n",
    "\\end{align*}\n",
    "\n",
    "**Distance Factors**\n",
    "\\begin{align*}\n",
    "    \\ln(\\theta_w) \\sim \\mathcal{N}(0.0, 0.5) \\\\\n",
    "    \\ln(\\theta_f) \\sim \\mathcal{N}(0.0, 0.5)\n",
    "\\end{align*}\n",
    "\n",
    "**Variance**\n",
    "\\begin{align*}\n",
    "    \\sigma^2 \\sim \\text{Gam}(1.0, 1.0)\n",
    "\\end{align*}\n",
    "\n",
    "**Seasonal Factors**\n",
    "For season $s \\in \\mathcal{S}$\n",
    "\\begin{align*}\n",
    "    \\gamma_s \\sim \\mathcal{N}(0.0, 1.0)\n",
    "\\end{align*}\n",
    "\n",
    "**Base Water Levels**\n",
    "\n",
    "The base water levels are modeled as a simple AR(1) process. The details of this are as follows\n",
    "\n",
    "\\begin{align*}\n",
    "    \\mu_0 \\sim \\mathcal{N}(\\gamma_{s_0}, 1.0) \\\\\n",
    "\\end{align*}\n",
    "For $t = 1 \\dots T$, we specify\n",
    "\\begin{align*}\n",
    "    \\mu_{t} \\sim \\mathcal{N}(\\mu_{t - 1} + \\gamma_{s_t}, 1.0)\n",
    "\\end{align*}\n",
    "\n",
    "**Likelihood**\n",
    "\n",
    "For $t = 0 \\dots T$, we specify\n",
    "\\begin{align*}\n",
    "    \\mathbf{y}_t \\sim \\mathcal{N}(\\mu_t - \\delta \\cdot K(X_{t,w}, X_{t,f})\\ /\\ \\theta_f, 1.0)\n",
    "\\end{align*}\n",
    "\n",
    "---\n",
    "\n",
    "<img src=\"includes/hmm-model.png\" alt=\"drawing\" width=\"600\"/>"
   ]
  },
  {
   "cell_type": "code",
   "execution_count": 13,
   "metadata": {},
   "outputs": [],
   "source": [
    "def model(XW, YW, gp=False):\n",
    "    assert not torch._C._get_tracing_state()\n",
    "\n",
    "    delta = pyro.sample(\"delta\", dist.LogNormal(1.0, 0.5))\n",
    "\n",
    "    if gp:\n",
    "        theta_w = pyro.sample(\"theta_w\", dist.LogNormal(0.0, 0.5))\n",
    "        sigma = torch.exp(-pairwise_distances(XW, XW) / theta_w)\n",
    "        \n",
    "    else:\n",
    "        sigma = pyro.sample(\"sigma\", dist.Gamma(1.0, 1.0))\n",
    "    \n",
    "    theta_f = pyro.sample(\"theta_f\", dist.LogNormal(0.0, 0.5))\n",
    "    \n",
    "\n",
    "    farm_factor = delta * (YF * torch.exp(-pairwise_distances(XW, XF) / theta_f)).sum(1)\n",
    "\n",
    "    sf = pyro.sample(\"sf\", dist.Normal(torch.zeros(4), 1.0))\n",
    "\n",
    "    data_plate = pyro.plate(\"data\", len(YW[0]))\n",
    "\n",
    "    mu = 0\n",
    "    for i in pyro.plate(\"sequence\", len(YW)):\n",
    "        mu = pyro.sample(\n",
    "            \"mu_{}\".format(i), dist.Normal(mu + sf[i % 4], 1.0)\n",
    "        )\n",
    "        \n",
    "        mean = mu - farm_factor\n",
    "        with data_plate:\n",
    "            if gp:\n",
    "                pyro.sample(\n",
    "                    \"obs_{}\".format(i), dist.MultivariateNormal(mean, sigma), obs=YW[i]\n",
    "                )"
   ]
  },
  {
   "cell_type": "code",
   "execution_count": 14,
   "metadata": {},
   "outputs": [],
   "source": [
    "def predict(XW, samples, gp=False):\n",
    "    if gp:\n",
    "        pdx = pairwise_distances(XW).cpu().numpy()\n",
    "    pdf = pairwise_distances(XW, XF).cpu().numpy()\n",
    "    \n",
    "    YF_ = YF.cpu().numpy()\n",
    "    \n",
    "    sigma = samples[\"sigma\"]\n",
    "    delta = samples[\"delta\"]\n",
    "    \n",
    "    if gp:\n",
    "        theta_w = samples[\"theta_w\"]\n",
    "        \n",
    "    theta_f = samples[\"theta_f\"]\n",
    "    \n",
    "    mu = list(zip(*[samples[\"mu_{}\".format(i)] for i in range(len(YW))]))\n",
    "    mu = np.array(mu)\n",
    "    \n",
    "    for i in range(len(delta)):\n",
    "        samples = []\n",
    "        for t in range(len(YW)):\n",
    "            if gp:\n",
    "                sg = np.exp(-pdx / theta_w[i])\n",
    "            else:\n",
    "                sg = sigma[i]\n",
    "                \n",
    "            mean = mu[i, t] - delta[i] * (YF_ * np.exp(-pdf / theta_f[i])).sum(1)\n",
    "            samples.append(np.random.multivariate_normal(mean, sg))\n",
    "            \n",
    "        samples = np.array(samples)\n",
    "            \n",
    "        yield samples"
   ]
  },
  {
   "cell_type": "markdown",
   "metadata": {},
   "source": [
    "### Inference"
   ]
  },
  {
   "cell_type": "code",
   "execution_count": 15,
   "metadata": {},
   "outputs": [],
   "source": [
    "use_gp = False"
   ]
  },
  {
   "cell_type": "code",
   "execution_count": 16,
   "metadata": {},
   "outputs": [],
   "source": [
    "samples_file = \"data/\" + (\"gp-samples\" if use_gp else \"kr-samples\") + \".json\""
   ]
  },
  {
   "cell_type": "code",
   "execution_count": 17,
   "metadata": {},
   "outputs": [],
   "source": [
    "try:\n",
    "    with open(samples_file, \"r\") as f:\n",
    "        samples = {k: np.array(v) for k, v in json.load(f).items()}\n",
    "    \n",
    "except:\n",
    "    nuts_kernel = NUTS(partial(model, gp=use_gp))\n",
    "\n",
    "    mcmc = MCMC(nuts_kernel, num_samples=100, warmup_steps=400)\n",
    "    mcmc_run = mcmc.run(XW, YW)\n",
    "\n",
    "    samples = {k: v.detach().cpu().numpy() for k, v in mcmc.get_samples().items()}"
   ]
  },
  {
   "cell_type": "code",
   "execution_count": 18,
   "metadata": {},
   "outputs": [],
   "source": [
    "samples_ = {k: v.tolist() for k, v in samples.items()}\n",
    "with open(\"data/kr-samples.json\", \"w\") as f:\n",
    "    json.dump(samples_, f)"
   ]
  },
  {
   "cell_type": "code",
   "execution_count": 19,
   "metadata": {},
   "outputs": [
    {
     "name": "stdout",
     "output_type": "stream",
     "text": [
      "Site: delta\n",
      "       mean       std        5%      25%       50%       75%       95%\n",
      "0  0.692065  0.002864  0.687882  0.68975  0.691992  0.693799  0.696731 \n",
      "\n",
      "Site: theta_f\n",
      "       mean       std        5%       25%       50%       75%       95%\n",
      "0  0.598756  0.003512  0.593951  0.596369  0.598588  0.600489  0.605166 \n",
      "\n",
      "Site: sigma\n",
      "       mean       std        5%      25%       50%       75%       95%\n",
      "0  0.491833  0.014983  0.469867  0.47993  0.492256  0.500444  0.518304 \n",
      "\n",
      "Site: sf\n",
      "       mean       std        5%       25%       50%       75%       95%\n",
      "0 -1.349452  0.297369 -1.853333 -1.539048 -1.346878 -1.126683 -0.915593\n",
      "1 -1.744000  0.284042 -2.154995 -1.951336 -1.748563 -1.583667 -1.215060\n",
      "2  2.565167  0.434421  1.815618  2.313591  2.557347  2.854837  3.225456\n",
      "3 -0.016686  0.283367 -0.450356 -0.234661 -0.037776  0.184439  0.441216 \n",
      "\n",
      "Site: mu_0\n",
      "       mean       std        5%       25%       50%       75%       95%\n",
      "0 -5.219291  0.126555 -5.423017 -5.312674 -5.208899 -5.134357 -5.017868 \n",
      "\n",
      "Site: mu_1\n",
      "       mean       std        5%       25%      50%       75%       95%\n",
      "0 -7.118367  0.133198 -7.311076 -7.207166 -7.11289 -7.028508 -6.901977 \n",
      "\n",
      "Site: mu_2\n",
      "       mean       std        5%       25%       50%       75%       95%\n",
      "0 -4.319137  0.116221 -4.509139 -4.395112 -4.325733 -4.226335 -4.127356 \n",
      "\n",
      "Site: mu_3\n",
      "      mean       std        5%       25%       50%       75%       95%\n",
      "0 -4.35244  0.138219 -4.541574 -4.444639 -4.352145 -4.268062 -4.158648 \n",
      "\n",
      "Site: mu_4\n",
      "       mean       std      5%      25%       50%       75%       95%\n",
      "0 -5.462559  0.137315 -5.6737 -5.56446 -5.468791 -5.374956 -5.215215 \n",
      "\n",
      "Site: mu_5\n",
      "      mean       std        5%       25%       50%       75%      95%\n",
      "0 -7.14419  0.116208 -7.316503 -7.227109 -7.159442 -7.052532 -6.97152 \n",
      "\n",
      "Site: mu_6\n",
      "       mean       std        5%       25%       50%       75%      95%\n",
      "0 -4.483096  0.116353 -4.662425 -4.557146 -4.471056 -4.404085 -4.29716 \n",
      "\n",
      "Site: mu_7\n",
      "       mean       std        5%       25%       50%       75%       95%\n",
      "0 -4.545292  0.117303 -4.740502 -4.623969 -4.533957 -4.468839 -4.351791 \n",
      "\n",
      "Site: mu_8\n",
      "       mean       std        5%       25%       50%       75%       95%\n",
      "0 -5.737922  0.121932 -5.913702 -5.833262 -5.759805 -5.638181 -5.539191 \n",
      "\n",
      "Site: mu_9\n",
      "       mean       std        5%       25%       50%       75%      95%\n",
      "0 -7.842082  0.113146 -8.021362 -7.917363 -7.854775 -7.753458 -7.66305 \n",
      "\n",
      "Site: mu_10\n",
      "       mean       std        5%       25%       50%       75%       95%\n",
      "0 -4.843941  0.115616 -5.030902 -4.915233 -4.855726 -4.771906 -4.626066 \n",
      "\n",
      "Site: mu_11\n",
      "      mean       std        5%      25%       50%       75%       95%\n",
      "0 -5.17105  0.106324 -5.345752 -5.23611 -5.167709 -5.119802 -4.989399 \n",
      "\n",
      "Site: mu_12\n",
      "       mean       std        5%       25%       50%       75%       95%\n",
      "0 -6.262163  0.128305 -6.453148 -6.365448 -6.258358 -6.167637 -6.057089 \n",
      "\n",
      "Site: mu_13\n",
      "       mean       std        5%       25%      50%       75%       95%\n",
      "0 -8.176709  0.128068 -8.398289 -8.258027 -8.17245 -8.096731 -7.957421 \n",
      "\n",
      "Site: mu_14\n",
      "       mean       std        5%       25%       50%       75%       95%\n",
      "0 -5.144768  0.150347 -5.406567 -5.242455 -5.146651 -5.034277 -4.925549 \n",
      "\n",
      "Site: mu_15\n",
      "       mean       std        5%       25%       50%       75%       95%\n",
      "0 -4.637324  0.131397 -4.841071 -4.729846 -4.631049 -4.559574 -4.401791 \n",
      "\n",
      "Site: mu_16\n",
      "       mean       std       5%       25%      50%       75%       95%\n",
      "0 -5.344207  0.141897 -5.55064 -5.432312 -5.34652 -5.271148 -5.095016 \n",
      "\n",
      "Site: mu_17\n",
      "       mean       std        5%       25%       50%       75%       95%\n",
      "0 -7.399668  0.130826 -7.586149 -7.499877 -7.387429 -7.309917 -7.207789 \n",
      "\n",
      "Site: mu_18\n",
      "       mean       std        5%       25%       50%       75%       95%\n",
      "0 -4.575145  0.113484 -4.766623 -4.658213 -4.578249 -4.496813 -4.411216 \n",
      "\n",
      "Site: mu_19\n",
      "      mean       std        5%       25%      50%       75%       95%\n",
      "0 -4.31866  0.131498 -4.531077 -4.389276 -4.31551 -4.246017 -4.116099 \n",
      "\n",
      "Site: mu_20\n",
      "       mean       std        5%       25%       50%       75%       95%\n",
      "0 -5.666412  0.158586 -5.908129 -5.770383 -5.675175 -5.552407 -5.389674 \n",
      "\n",
      "Site: mu_21\n",
      "       mean       std        5%       25%       50%      75%       95%\n",
      "0 -7.767437  0.129484 -7.951304 -7.855739 -7.778743 -7.68179 -7.566897 \n",
      "\n",
      "Site: mu_22\n",
      "       mean       std        5%       25%       50%       75%       95%\n",
      "0 -4.526309  0.124807 -4.741528 -4.594987 -4.521966 -4.447161 -4.359862 \n",
      "\n",
      "Site: mu_23\n",
      "       mean       std        5%       25%      50%       75%       95%\n",
      "0 -4.917995  0.131734 -5.136127 -4.990231 -4.91335 -4.828732 -4.720051 \n",
      "\n",
      "Site: mu_24\n",
      "      mean       std        5%       25%      50%       75%       95%\n",
      "0 -5.67373  0.115394 -5.867257 -5.743108 -5.67462 -5.594543 -5.469702 \n",
      "\n",
      "Site: mu_25\n",
      "       mean       std        5%       25%       50%      75%       95%\n",
      "0 -7.748424  0.119732 -7.939334 -7.845595 -7.745165 -7.65718 -7.557779 \n",
      "\n",
      "Site: mu_26\n",
      "      mean       std        5%       25%       50%       75%       95%\n",
      "0 -4.68231  0.148764 -4.908221 -4.782313 -4.678568 -4.574463 -4.463253 \n",
      "\n",
      "Site: mu_27\n",
      "       mean       std        5%       25%       50%       75%       95%\n",
      "0 -4.851078  0.133304 -5.081678 -4.932948 -4.836905 -4.768883 -4.641911 \n",
      "\n",
      "Site: mu_28\n",
      "       mean       std        5%      25%       50%       75%       95%\n",
      "0 -5.908566  0.161419 -6.158749 -6.00296 -5.877533 -5.790779 -5.690083 \n",
      "\n",
      "Site: mu_29\n",
      "       mean       std        5%       25%       50%       75%      95%\n",
      "0 -7.843643  0.140765 -8.057856 -7.937797 -7.842494 -7.744434 -7.63163 \n",
      "\n",
      "Site: mu_30\n",
      "       mean       std        5%       25%       50%       75%       95%\n",
      "0 -5.193318  0.137134 -5.395169 -5.278161 -5.218042 -5.111564 -4.952116 \n",
      "\n",
      "Site: mu_31\n",
      "       mean       std        5%       25%      50%       75%       95%\n",
      "0 -5.161095  0.106886 -5.327552 -5.231629 -5.15878 -5.093064 -4.990436 \n",
      "\n",
      "Site: mu_32\n",
      "       mean       std        5%       25%       50%       75%       95%\n",
      "0 -6.016023  0.112148 -6.192228 -6.105258 -6.010895 -5.927443 -5.851122 \n",
      "\n",
      "Site: mu_33\n",
      "       mean       std        5%      25%       50%      75%      95%\n",
      "0 -7.905649  0.126971 -8.104448 -7.98092 -7.918358 -7.81741 -7.67913 \n",
      "\n",
      "Site: mu_34\n",
      "       mean       std        5%       25%      50%       75%       95%\n",
      "0 -5.250395  0.108743 -5.434013 -5.324589 -5.25061 -5.192075 -5.069751 \n",
      "\n",
      "Site: mu_35\n",
      "       mean       std        5%       25%       50%       75%       95%\n",
      "0 -5.112787  0.132902 -5.334751 -5.207968 -5.111082 -5.017601 -4.904674 \n",
      "\n",
      "Site: mu_36\n",
      "       mean       std        5%       25%       50%       75%       95%\n",
      "0 -6.472723  0.120838 -6.686997 -6.553663 -6.472223 -6.385826 -6.285758 \n",
      "\n",
      "Site: mu_37\n",
      "       mean       std        5%       25%       50%       75%       95%\n",
      "0 -8.275565  0.118002 -8.482987 -8.355415 -8.265814 -8.186708 -8.104136 \n",
      "\n",
      "Site: mu_38\n",
      "       mean      std        5%       25%       50%       75%       95%\n",
      "0 -5.668558  0.15037 -5.910195 -5.765758 -5.673408 -5.564502 -5.455718 \n",
      "\n",
      "Site: mu_39\n",
      "       mean       std        5%       25%       50%    75%       95%\n",
      "0 -5.575212  0.124464 -5.774464 -5.665991 -5.577483 -5.485 -5.379701 \n",
      "\n"
     ]
    }
   ],
   "source": [
    "for site, values in summary(samples).items():\n",
    "    print(\"Site: {}\".format(site))\n",
    "    print(values, \"\\n\")"
   ]
  }
 ],
 "metadata": {
  "hide_input": false,
  "kernelspec": {
   "display_name": "Python 3 (ML)",
   "language": "python",
   "name": "ml"
  },
  "language_info": {
   "codemirror_mode": {
    "name": "ipython",
    "version": 3
   },
   "file_extension": ".py",
   "mimetype": "text/x-python",
   "name": "python",
   "nbconvert_exporter": "python",
   "pygments_lexer": "ipython3",
   "version": "3.7.4"
  },
  "toc": {
   "base_numbering": 1,
   "nav_menu": {},
   "number_sections": true,
   "sideBar": true,
   "skip_h1_title": false,
   "title_cell": "Table of Contents",
   "title_sidebar": "Contents",
   "toc_cell": false,
   "toc_position": {},
   "toc_section_display": true,
   "toc_window_display": false
  }
 },
 "nbformat": 4,
 "nbformat_minor": 4
}
