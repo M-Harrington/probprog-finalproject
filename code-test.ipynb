{
 "cells": [
  {
   "cell_type": "markdown",
   "metadata": {
    "colab_type": "text",
    "id": "sqcssJvEob0P"
   },
   "source": [
    "# Predicting Ground Water Levels with Kernel Regression"
   ]
  },
  {
   "cell_type": "code",
   "execution_count": 1,
   "metadata": {
    "colab": {},
    "colab_type": "code",
    "id": "JiJrN0phob0R"
   },
   "outputs": [],
   "source": [
    "from __future__ import absolute_import, division, print_function\n",
    "\n",
    "import os\n",
    "import json\n",
    "import math\n",
    "import pyro\n",
    "import torch\n",
    "import pickle\n",
    "import logging\n",
    "import numpy as np\n",
    "import pandas as pd\n",
    "import seaborn as sns\n",
    "import matplotlib.pyplot as plt\n",
    "import pyro.distributions as dist\n",
    "import matplotlib.animation as animation\n",
    "\n",
    "from functools import partial\n",
    "from pyro.infer.mcmc import NUTS\n",
    "from pyro.infer.mcmc.api import MCMC\n",
    "from IPython.display import Video, HTML, Image, display\n",
    "from helper import pairwise_distances, summary, visualize_posterior,plot_sample_data\n",
    "\n",
    "pyro.set_rng_seed(0)"
   ]
  },
  {
   "cell_type": "code",
   "execution_count": 2,
   "metadata": {
    "colab": {},
    "colab_type": "code",
    "id": "_1iaI75Pob0U"
   },
   "outputs": [],
   "source": [
    "%matplotlib inline\n",
    "logging.basicConfig(format=\"%(message)s\", level=logging.INFO)\n",
    "\n",
    "# Enable validation checks\n",
    "pyro.enable_validation(True)\n",
    "\n",
    "smoke_test = \"CI\" in os.environ\n",
    "smoke_test = False\n",
    "\n",
    "assert pyro.__version__.startswith(\"0.4.1\")"
   ]
  },
  {
   "cell_type": "code",
   "execution_count": 3,
   "metadata": {
    "colab": {},
    "colab_type": "code",
    "id": "havAdVEaob0X"
   },
   "outputs": [],
   "source": [
    "if torch.cuda.is_available():\n",
    "    torch.set_default_tensor_type('torch.cuda.FloatTensor')"
   ]
  },
  {
   "cell_type": "code",
   "execution_count": 4,
   "metadata": {},
   "outputs": [],
   "source": [
    "use_gp = False\n",
    "\n",
    "if smoke_test:\n",
    "    plot = True\n",
    "    train = True\n",
    "    save_samples = False\n",
    "    \n",
    "    num_samples = 1\n",
    "    warmup_steps = 1\n",
    "else:\n",
    "    plot = True\n",
    "    train = False\n",
    "    save_samples = False\n",
    "    \n",
    "    num_samples = 100\n",
    "    warmup_steps = 400"
   ]
  },
  {
   "cell_type": "markdown",
   "metadata": {
    "colab_type": "text",
    "id": "DLIJGP72vzOl"
   },
   "source": [
    "## Background\n",
    "\n",
    "Our area of interest was a small area (125 km x 69 km) in North Western India in the arid state Rajasthan.  Rajasthan is a state with very little rainfall and thus depends heavily on groundwater for irrigation for agriculture to exist.  The groundwater exists in ancient, extinct aquifers that no longer have very large meaningful inflows, so most extraction will permanantly remove water that could be used in the future.\n",
    "\n",
    "Therefore we posit that there could be certain farmers that are doing significantly more extraction than others, and we assume this pattern of usage can be inferred by the amount of water table decrease in the surrounding wells.\n",
    "\n",
    "We use a rough hydrological model to inform our predictions, that is that the rate of water extract decreases rapidly as the distance from the well that's extracting.\n",
    "\n",
    "**Figure 1:** Cone of depression created by extracting water from a well. The influence of that extraction on the water level at a given distance from the well decreases exponentially from the source of extraction.\n",
    "\n",
    "<img src=\"includes/depression_cone.png\" alt=\"drawing\" width=\"600\"/>\n",
    "\n",
    "Our model assumes roughly that there would be an extracting well at each visible pixel.  Here are two different wells that motivated our analysis.  You can see in these false color images (used to emphasize vegitation) that some wells have singificantly more surrounding vegitation than others.  The well on the left exhibts significantly more extraction over time than the well on the right with fewer farm pixels. \n",
    "\n",
    "**Figure 2a/b :** Two different wells with varying amounts of surrounding vegitation. Note the regular shape of farmland edges that are exploited using the edge detection feature\n",
    "![]() ![](/includes/Right_Well2.PNG)\n",
    "\n",
    "<img src=\"includes/Left_well.png\" alt=\"drawing\" width=\"600\"/> \n",
    "<img src=\"includes/Right_Well2.PNG\" alt=\"drawing\" width=\"600\"/>\n",
    "\n",
    "**Figure 3:** Time Series showing depth to well at two different highlighted wells\n",
    "\n",
    "<img src=\"includes/well_depth_plot.png\" alt=\"drawing\" width=\"600\"/>\n",
    "\n",
    "### Dataset\n",
    "The dataset is comprised of classifications of farmland pixels from  satellite imagery and point data of observation wells' depth to groundwater over time.  The satellite images were create in Google Earth Enigne `/earth-engine/` which is a cloud computing platform to allow researchers to access very large scale image datasets and perform operations quickly and efficiently.\n",
    "\n",
    "We use Landsat 5 and draw seasonal observations over the period 1996 to 2010. To create our classifier we use 4 important bands Near Infrared (NIR), Shortwave Infrared (SWIR), Visible Red, and a vegitation index that is a combination of the previous bands (EVI).  We then create features and hand-crafted convolutions on top of these layers using the Canny edge detection algorithm and various kernels on both the edge detection layers and the underlying bands.  \n",
    "\n",
    "**Figure 4:** Image of EVI band (left) and a layer of the same band (right) after using the Canny edge detection algorithm.\n",
    "![](/includes/evi.PNG) ![](/includes/evi_edge.PNG) \n",
    "\n",
    "We then create a dataset of training and testing pixels by using a combination of the false color images and Google Earth's very high resolution proprietary dataset ($\\approx1 \\> m$) per pixel to determine if the features seen in our false color image were indeed anthropogenic vegitation.  \n",
    "\n",
    "**Figure 5:** Real color high-resolution image from Google Earth Image, proprietary 2019.\n",
    "![](/includes/GoogleEarth_realcolor.PNG)\n",
    "\n",
    "We then use the above-mentioned features and the training and testing pixels (20% held out) to train a Random Forest classifier.  After some cross validation we report an overall testing accuracy of 91.61 with the following performance table:\n",
    "\n",
    "|                | Farm Testing | Not Farm Testing | \n",
    "|----------------|--------------|------------------|\n",
    "| **Farm Model**     | 209          | 20               | \n",
    "| **Not Farm Model** | 9            | 108              | \n",
    "\n",
    "We then use the random forest to classify our entire region of interest in all time steps. The end result of the classification of all pixels can be seen in the following video where wells are plotted as squares whose darkeness indicates the depth to the water table.  I.e. a deeper watertable is indicated by a darker pixel."
   ]
  },
  {
   "cell_type": "code",
   "execution_count": 5,
   "metadata": {
    "colab": {},
    "colab_type": "code",
    "id": "KtJlPL4v43va"
   },
   "outputs": [
    {
     "data": {
      "text/html": [
       "<video src=\"includes/real-data-animation.mp4\" controls  >\n",
       "      Your browser does not support the <code>video</code> element.\n",
       "    </video>"
      ],
      "text/plain": [
       "<IPython.core.display.Video object>"
      ]
     },
     "execution_count": 5,
     "metadata": {},
     "output_type": "execute_result"
    }
   ],
   "source": [
    "Video(\"includes/real-data-animation.mp4\")"
   ]
  },
  {
   "cell_type": "markdown",
   "metadata": {
    "colab_type": "text",
    "id": "bfrAbD-Fob0h"
   },
   "source": [
    "## Defining the Model"
   ]
  },
  {
   "cell_type": "markdown",
   "metadata": {
    "colab_type": "text",
    "id": "cktM5CF-ob0i"
   },
   "source": [
    "### Generative Model\n",
    "---\n",
    "**Farm Factor**\n",
    "\\begin{align*}\n",
    "    \\ln(\\delta) \\sim \\mathcal{N}(1.0, 0.5)\n",
    "\\end{align*}\n",
    "\n",
    "**Distance Factors**\n",
    "\\begin{align*}\n",
    "    \\ln(\\theta_w) \\sim \\mathcal{N}(0.0, 0.5) \\\\\n",
    "    \\ln(\\theta_f) \\sim \\mathcal{N}(0.0, 0.5)\n",
    "\\end{align*}\n",
    "\n",
    "**Variance**\n",
    "\\begin{align*}\n",
    "    \\sigma^2 \\sim \\text{Gam}(1.0, 1.0)\n",
    "\\end{align*}\n",
    "\n",
    "**Seasonal Factors**\n",
    "For season $s \\in \\mathcal{S}$\n",
    "\\begin{align*}\n",
    "    \\gamma_s \\sim \\mathcal{N}(0.0, 1.0)\n",
    "\\end{align*}\n",
    "\n",
    "**Base Water Levels**\n",
    "\n",
    "The base water levels are modeled as a simple AR(1) process.\n",
    "The details of this are as follows\n",
    "\n",
    "\\begin{align*}\n",
    "    \\mu_0 \\sim \\mathcal{N}(\\gamma_{s_0}, 1.0) \\\\\n",
    "\\end{align*}\n",
    "For $t = 1 \\dots T$, we specify\n",
    "\\begin{align*}\n",
    "    \\mu_{t} \\sim \\mathcal{N}(\\mu_{t - 1} + \\gamma_{s_t}, 1.0)\n",
    "\\end{align*}\n",
    "\n",
    "**Likelihood**\n",
    "\n",
    "For $t = 0 \\dots T$, we specify\n",
    "\\begin{align*}\n",
    "    \\mathbf{y}_t \\sim \n",
    "    \\mathcal{N}(\\mu_t - \\delta \\cdot K(X_{t,w}, X_{t,f})\\ /\\ \\theta_f, 1.0)\n",
    "\\end{align*}\n",
    "\n",
    "---\n",
    "\n",
    "<img src=\"includes/hmm-model.png\" alt=\"drawing\" width=\"600\"/>"
   ]
  },
  {
   "cell_type": "code",
   "execution_count": 6,
   "metadata": {
    "colab": {},
    "colab_type": "code",
    "id": "MI8f9VSEob0l"
   },
   "outputs": [],
   "source": [
    "def model1(XW, YW, YF, WF_distances, n_seasons=4, seasons=None, gp=False):\n",
    "    assert not torch._C._get_tracing_state()\n",
    "\n",
    "    delta = pyro.sample(\"delta\", dist.LogNormal(1.0, 0.5))\n",
    "\n",
    "    if gp:\n",
    "        theta_w = pyro.sample(\"theta_w\", dist.LogNormal(0.0, 0.5))\n",
    "    else:\n",
    "        sigma = pyro.sample(\"sigma\", dist.Gamma(1.0, 1.0))\n",
    "\n",
    "    theta_f = pyro.sample(\"theta_f\", dist.LogNormal(0.0, 0.5))\n",
    "\n",
    "    sf = pyro.sample(\"sf\", dist.Normal(torch.zeros(n_seasons), 1.0))\n",
    "    if seasons is None:\n",
    "        seasons = np.tile(np.arange(n_seasons), int(len(YW) / n_seasons + 1))\n",
    "        seasons = seasons[:len(YW)]\n",
    "\n",
    "    mu = 0\n",
    "    for t in pyro.markov(range(len(YW))):\n",
    "        if gp:\n",
    "            sigma = torch.exp(-pairwise_distances(XW[t], XW[t]) / theta_w)\n",
    "\n",
    "        mu = pyro.sample(\n",
    "            \"mu_{}\".format(t), dist.Normal(mu + sf[seasons[t]], 1.0)\n",
    "        )\n",
    "\n",
    "        mean = mu - delta * torch.mm(\n",
    "            torch.exp(-WF_distances[t] / theta_f), YF[t]\n",
    "        )\n",
    "\n",
    "        if gp:\n",
    "            pyro.sample(\n",
    "                \"obs_{}\".format(t),\n",
    "                dist.MultivariateNormal(mean, sigma),\n",
    "                obs=YW[t]\n",
    "            )\n",
    "        else:\n",
    "            with pyro.plate(\"data_{}\".format(t), len(YW[t])):\n",
    "                pyro.sample(\n",
    "                    \"obs_{}\".format(t), dist.Normal(mean, sigma), obs=YW[t]\n",
    "                )"
   ]
  },
  {
   "cell_type": "code",
   "execution_count": 7,
   "metadata": {
    "colab": {},
    "colab_type": "code",
    "id": "gZMhxYj2ob0n"
   },
   "outputs": [],
   "source": [
    "def predict1(\n",
    "    XW, XF, YF, samples, n_seasons=4, seasons=None, gp=False, recon=False\n",
    "):\n",
    "    sigma = samples[\"sigma\"]\n",
    "    delta = samples[\"delta\"]\n",
    "\n",
    "    if gp:\n",
    "        theta_w = samples[\"theta_w\"]\n",
    "\n",
    "    theta_f = samples[\"theta_f\"]\n",
    "\n",
    "    sf = samples[\"sf\"]\n",
    "    if seasons is None:\n",
    "        seasons = np.tile(np.arange(n_seasons), int(len(YW) / n_seasons + 1))\n",
    "        seasons = seasons[:len(YW)]\n",
    "\n",
    "    mu = samples[\"mu\"]\n",
    "\n",
    "    samples = []\n",
    "    for t in range(len(YF)):\n",
    "        YF_ = YF[t].cpu().numpy()\n",
    "\n",
    "        if gp:\n",
    "            pdx = pairwise_distances(XW[t]).cpu().numpy()\n",
    "        pdf = pairwise_distances(XW[t], XF[t]).cpu().numpy()\n",
    "\n",
    "        samples_ = []\n",
    "        for i in range(len(delta)):\n",
    "            if gp:\n",
    "                sg = np.exp(-pdx / theta_w[i])\n",
    "            else:\n",
    "                sg = sigma[i]\n",
    "\n",
    "            mean = (\n",
    "                mu[i, t]\n",
    "                - delta[i] * np.matmul(np.exp(-pdf / theta_f[i]), YF_)\n",
    "                + sf[i][seasons[t]]\n",
    "            )\n",
    "            if recon:\n",
    "                samples_.append(mean)\n",
    "            else:\n",
    "                samples_.append(np.random.normal(mean, sg))\n",
    "\n",
    "        samples_ = np.array(samples_)\n",
    "        samples.append(samples_)\n",
    "\n",
    "    return samples"
   ]
  },
  {
   "cell_type": "markdown",
   "metadata": {
    "colab_type": "text",
    "id": "7fo084OPob0p"
   },
   "source": [
    "## Sanity Check - Working with Sample Data"
   ]
  },
  {
   "cell_type": "markdown",
   "metadata": {
    "colab_type": "text",
    "id": "xLUdDiQv6cxR"
   },
   "source": [
    "### Reading the Sample Data"
   ]
  },
  {
   "cell_type": "code",
   "execution_count": 8,
   "metadata": {
    "colab": {},
    "colab_type": "code",
    "id": "9keDQUwcob0q"
   },
   "outputs": [],
   "source": [
    "data = pd.read_csv(\"data/test-data.csv\", encoding=\"ISO-8859-1\")\n",
    "\n",
    "data_wells = data[data.type == \"well\"]\n",
    "data_farms = data[data.type == \"farm\"]\n",
    "\n",
    "XW, YW = [], []\n",
    "for t in data_wells[\"timestep\"].unique():\n",
    "    data_ = data_wells[data_wells[\"timestep\"] == t]\n",
    "\n",
    "    XW.append(data_[[\"latitude\", \"longitude\"]].values)\n",
    "    YW.append(data_[\"observation\"].values)\n",
    "\n",
    "XW = XW[0]\n",
    "\n",
    "XF = data_farms[[\"latitude\", \"longitude\"]].values\n",
    "YF = data_farms[\"observation\"].values"
   ]
  },
  {
   "cell_type": "code",
   "execution_count": 10,
   "metadata": {
    "colab": {},
    "colab_type": "code",
    "id": "7WyP0yI2ob0s"
   },
   "outputs": [
    {
     "name": "stderr",
     "output_type": "stream",
     "text": [
      "MovieWriter ffmpeg unavailable; trying to use <class 'matplotlib.animation.PillowWriter'> instead.\n",
      "Animation.save using <class 'matplotlib.animation.PillowWriter'>\n"
     ]
    },
    {
     "name": "stdout",
     "output_type": "stream",
     "text": [
      "The above command requires ffmpeg to be installed on the system\n"
     ]
    },
    {
     "data": {
      "text/plain": [
       "<Figure size 432x288 with 0 Axes>"
      ]
     },
     "metadata": {},
     "output_type": "display_data"
    },
    {
     "data": {
      "image/png": "[encoded data removed]",
      "text/plain": [
       "<Figure size 1000x1000 with 1 Axes>"
      ]
     },
     "metadata": {
      "needs_background": "light"
     },
     "output_type": "display_data"
    }
   ],
   "source": [
    "if plot:\n",
    "    try: \n",
    "        plot_sample_data(XF,XW,YW)\n",
    "    except ValueError:\n",
    "        print(\"The above command requires ffmpeg to be installed on the system\")\n",
    "        \n"
   ]
  },
  {
   "cell_type": "code",
   "execution_count": 10,
   "metadata": {
    "colab": {},
    "colab_type": "code",
    "id": "7doTbLrqob0v"
   },
   "outputs": [
    {
     "data": {
      "text/html": [
       "<video src=\"includes/sample-data-animation.mp4\" controls  >\n",
       "      Your browser does not support the <code>video</code> element.\n",
       "    </video>"
      ],
      "text/plain": [
       "<IPython.core.display.Video object>"
      ]
     },
     "execution_count": 10,
     "metadata": {},
     "output_type": "execute_result"
    }
   ],
   "source": [
    "Video(\"includes/sample-data-animation.mp4\")"
   ]
  },
  {
   "cell_type": "code",
   "execution_count": 11,
   "metadata": {
    "colab": {},
    "colab_type": "code",
    "id": "v1Dq7V4uob00"
   },
   "outputs": [],
   "source": [
    "XW = torch.tensor(XW)\n",
    "YW = torch.tensor(YW)[..., None]\n",
    "\n",
    "XF = torch.tensor(XF)\n",
    "YF = torch.tensor(YF)[..., None]"
   ]
  },
  {
   "cell_type": "code",
   "execution_count": 12,
   "metadata": {
    "colab": {},
    "colab_type": "code",
    "id": "zfl8JaNfob01"
   },
   "outputs": [],
   "source": [
    "timesteps = len(YW)\n",
    "\n",
    "XW = XW.repeat(timesteps, 1, 1)\n",
    "\n",
    "YF = YF.repeat(timesteps, 1, 1)\n",
    "XF = XF.repeat(timesteps, 1, 1)"
   ]
  },
  {
   "cell_type": "markdown",
   "metadata": {
    "colab_type": "text",
    "id": "b2RgkpOLob03"
   },
   "source": [
    "### Inference (Sample Data - Model 1)"
   ]
  },
  {
   "cell_type": "code",
   "execution_count": 13,
   "metadata": {
    "colab": {},
    "colab_type": "code",
    "id": "96ypF4eoob04"
   },
   "outputs": [],
   "source": [
    "pyro.set_rng_seed(1)"
   ]
  },
  {
   "cell_type": "code",
   "execution_count": 14,
   "metadata": {
    "colab": {},
    "colab_type": "code",
    "id": "zE2LbnQzob06"
   },
   "outputs": [],
   "source": [
    "samples_file = \"models/model1/test-samples.json\""
   ]
  },
  {
   "cell_type": "code",
   "execution_count": 15,
   "metadata": {
    "colab": {},
    "colab_type": "code",
    "id": "OntcJ0HKob08"
   },
   "outputs": [],
   "source": [
    "try:\n",
    "    with open(samples_file, \"r\") as f:\n",
    "        samples = {k: np.array(v) for k, v in json.load(f).items()}\n",
    "except:\n",
    "    print(\"Failed to load samples file\")"
   ]
  },
  {
   "cell_type": "code",
   "execution_count": 16,
   "metadata": {
    "colab": {},
    "colab_type": "code",
    "id": "PeovKIzmob0_"
   },
   "outputs": [],
   "source": [
    "if train:\n",
    "    WF_distances = [pairwise_distances(XW[i], XF[i]) for i in range(len(YW))]\n",
    "\n",
    "    nuts_kernel = NUTS(\n",
    "        partial(model1, n_seasons=4, WF_distances=WF_distances, gp=use_gp)\n",
    "    )\n",
    "\n",
    "    mcmc = MCMC(nuts_kernel, num_samples=num_samples, warmup_steps=warmup_steps)\n",
    "    mcmc_run = mcmc.run(XW, YW, YF)\n",
    "\n",
    "    samples = {\n",
    "        k: v.detach().cpu().numpy() for k, v in mcmc.get_samples().items()\n",
    "    }"
   ]
  },
  {
   "cell_type": "code",
   "execution_count": 17,
   "metadata": {},
   "outputs": [],
   "source": [
    "mu_samples = []\n",
    "for k in list(samples.keys()):\n",
    "    if \"mu_\" in k:\n",
    "        mu_samples.append(samples[k][:, None])\n",
    "        del samples[k]\n",
    "\n",
    "samples[\"mu\"] = np.concatenate(mu_samples, axis=1)"
   ]
  },
  {
   "cell_type": "code",
   "execution_count": 18,
   "metadata": {
    "colab": {},
    "colab_type": "code",
    "id": "xKGh0LEpob1D"
   },
   "outputs": [],
   "source": [
    "if save_samples:\n",
    "    samples_ = {k: v.tolist() for k, v in samples.items()}\n",
    "    with open(samples_file, \"w\") as f:\n",
    "        json.dump(samples_, f)"
   ]
  },
  {
   "cell_type": "code",
   "execution_count": 19,
   "metadata": {
    "colab": {},
    "colab_type": "code",
    "id": "RC30GEY4ob1I",
    "scrolled": true
   },
   "outputs": [
    {
     "name": "stdout",
     "output_type": "stream",
     "text": [
      "Site: delta\n",
      "       mean       std        5%       25%       50%       75%       95%\n",
      "0  0.692136  0.000927  0.690626  0.691565  0.692088  0.692621  0.693916 \n",
      "\n",
      "Site: sigma\n",
      "       mean       std        5%      25%      50%       75%       95%\n",
      "0  0.477168  0.003306  0.471929  0.47485  0.47708  0.479625  0.481943 \n",
      "\n",
      "Site: theta_f\n",
      "       mean       std       5%       25%       50%       75%       95%\n",
      "0  0.598855  0.001004  0.59723  0.598261  0.598859  0.599406  0.600555 \n",
      "\n",
      "Site: sf\n",
      "       mean       std        5%       25%       50%       75%       95%\n",
      "0 -1.300341  0.341198 -1.871682 -1.511644 -1.271030 -1.050845 -0.800381\n",
      "1 -1.778845  0.268337 -2.252004 -1.916970 -1.799101 -1.639649 -1.328696\n",
      "2  2.628817  0.343962  2.018205  2.414313  2.612782  2.824041  3.197797\n",
      "3  0.017245  0.343971 -0.476871 -0.243713  0.013307  0.247328  0.583605 \n",
      "\n",
      "Site: mu\n",
      "        mean       std        5%       25%       50%       75%       95%\n",
      "0  -5.282558  0.030370 -5.332829 -5.300073 -5.287637 -5.264877 -5.235152\n",
      "1  -7.099356  0.031438 -7.147298 -7.123500 -7.097656 -7.075323 -7.051949\n",
      "2  -4.313828  0.029336 -4.358765 -4.330075 -4.318415 -4.296668 -4.264411\n",
      "3  -4.350574  0.033688 -4.398638 -4.375608 -4.349152 -4.327858 -4.297531\n",
      "4  -5.444234  0.037603 -5.497013 -5.468442 -5.449646 -5.416597 -5.380996\n",
      "5  -7.155137  0.033334 -7.218503 -7.174598 -7.155335 -7.135350 -7.104815\n",
      "6  -4.467102  0.029375 -4.514795 -4.486555 -4.466770 -4.445877 -4.426841\n",
      "7  -4.539152  0.032719 -4.598926 -4.558442 -4.540874 -4.514850 -4.489488\n",
      "8  -5.715242  0.030280 -5.766016 -5.736551 -5.715571 -5.698068 -5.663109\n",
      "9  -7.858410  0.031796 -7.904354 -7.880349 -7.858977 -7.836855 -7.806851\n",
      "10 -4.823658  0.031691 -4.872683 -4.847052 -4.820488 -4.801853 -4.778220\n",
      "11 -5.165004  0.031605 -5.219038 -5.188399 -5.162459 -5.143585 -5.114479\n",
      "12 -6.254564  0.033187 -6.301268 -6.275311 -6.260368 -6.233867 -6.188885\n",
      "13 -8.193218  0.035776 -8.247906 -8.218439 -8.193677 -8.167537 -8.132703\n",
      "14 -5.121825  0.034346 -5.178468 -5.140940 -5.121523 -5.100226 -5.069541\n",
      "15 -4.633577  0.033199 -4.684586 -4.656394 -4.635058 -4.610642 -4.578644\n",
      "16 -5.306383  0.026250 -5.345877 -5.322203 -5.306966 -5.290972 -5.261599\n",
      "17 -7.386879  0.037206 -7.445210 -7.413184 -7.386714 -7.361084 -7.331182\n",
      "18 -4.573985  0.033607 -4.631426 -4.595895 -4.573631 -4.555697 -4.516716\n",
      "19 -4.301737  0.034430 -4.359247 -4.327215 -4.301841 -4.277297 -4.246430\n",
      "20 -5.656581  0.033010 -5.720659 -5.671827 -5.657564 -5.633233 -5.609253\n",
      "21 -7.766273  0.034201 -7.821559 -7.786700 -7.767572 -7.743868 -7.710876\n",
      "22 -4.495976  0.030213 -4.544438 -4.516733 -4.497465 -4.475572 -4.445321\n",
      "23 -4.919305  0.030911 -4.970146 -4.941243 -4.920072 -4.901576 -4.865579\n",
      "24 -5.639784  0.031190 -5.686303 -5.659577 -5.642082 -5.618250 -5.585700\n",
      "25 -7.762982  0.033347 -7.809742 -7.791409 -7.760394 -7.738624 -7.705777\n",
      "26 -4.682938  0.030510 -4.730063 -4.704043 -4.683793 -4.665821 -4.632548\n",
      "27 -4.849457  0.038758 -4.907287 -4.878884 -4.846529 -4.829742 -4.778428\n",
      "28 -5.897686  0.036018 -5.957948 -5.924968 -5.898471 -5.873143 -5.847653\n",
      "29 -7.841146  0.033379 -7.891134 -7.863224 -7.846156 -7.817461 -7.785309\n",
      "30 -5.195691  0.027374 -5.238232 -5.214661 -5.194817 -5.180711 -5.149193\n",
      "31 -5.157702  0.031624 -5.200180 -5.177835 -5.158895 -5.135404 -5.111853\n",
      "32 -5.990278  0.039475 -6.055050 -6.017179 -5.991831 -5.960684 -5.929796\n",
      "33 -7.901891  0.041792 -7.964277 -7.932982 -7.900164 -7.876541 -7.827828\n",
      "34 -5.237466  0.039177 -5.300171 -5.268776 -5.235616 -5.210807 -5.173477\n",
      "35 -5.128080  0.030460 -5.169089 -5.150361 -5.126475 -5.111816 -5.082807\n",
      "36 -6.473381  0.032859 -6.523733 -6.491715 -6.469772 -6.453797 -6.429732\n",
      "37 -8.295473  0.035254 -8.352778 -8.323041 -8.297049 -8.270375 -8.241064\n",
      "38 -5.653155  0.031890 -5.705243 -5.674440 -5.652161 -5.633574 -5.600986\n",
      "39 -5.562814  0.035090 -5.626975 -5.588210 -5.559041 -5.534594 -5.511824 \n",
      "\n"
     ]
    }
   ],
   "source": [
    "for site, values in summary(samples).items():\n",
    "    print(\"Site: {}\".format(site))\n",
    "    print(values, \"\\n\")"
   ]
  },
  {
   "cell_type": "markdown",
   "metadata": {
    "colab_type": "text",
    "id": "m9709Mvqob1L"
   },
   "source": [
    "## Working with Real Data "
   ]
  },
  {
   "cell_type": "markdown",
   "metadata": {
    "colab_type": "text",
    "id": "rD398U1M7YB2"
   },
   "source": [
    "### Reading the Real Data"
   ]
  },
  {
   "cell_type": "code",
   "execution_count": 20,
   "metadata": {
    "colab": {},
    "colab_type": "code",
    "id": "6dLF-LoFob1M"
   },
   "outputs": [],
   "source": [
    "with open(\"data/real-data.pkl\", \"rb\") as f:\n",
    "    XF_r = [np.array(x) for x in pickle.load(f)]\n",
    "    YF_r = [np.array(x) for x in pickle.load(f)]\n",
    "\n",
    "    XW_r = [np.array(x) for x in pickle.load(f)]\n",
    "    YW_r = [np.array(x) for x in pickle.load(f)]\n",
    "\n",
    "    XS_r = pickle.load(f)"
   ]
  },
  {
   "cell_type": "code",
   "execution_count": 21,
   "metadata": {
    "colab": {},
    "colab_type": "code",
    "id": "U27Yvqmwob1O"
   },
   "outputs": [
    {
     "name": "stderr",
     "output_type": "stream",
     "text": [
      "Animation.save using <class 'matplotlib.animation.FFMpegWriter'>\n",
      "MovieWriter.run: running command: ['ffmpeg', '-f', 'rawvideo', '-vcodec', 'rawvideo', '-s', '1000x1000', '-pix_fmt', 'rgba', '-r', '1', '-loglevel', 'error', '-i', 'pipe:', '-vcodec', 'h264', '-pix_fmt', 'yuv420p', '-y', 'includes/real-data-animation.mp4']\n"
     ]
    },
    {
     "data": {
      "text/plain": [
       "<Figure size 432x288 with 0 Axes>"
      ]
     },
     "metadata": {},
     "output_type": "display_data"
    }
   ],
   "source": [
    "if plot:\n",
    "    plt.clf()\n",
    "    fig = plt.figure(figsize=(10, 10), dpi=100)\n",
    "\n",
    "    plt.ion()\n",
    "\n",
    "    scat_f = plt.scatter(\n",
    "        XF_r[0][:, 0], XF_r[0][:, 1], marker=\"s\", s=7, color=\"lightgreen\"\n",
    "    )\n",
    "\n",
    "    scat_w = plt.scatter(\n",
    "        XW_r[0][:, 0],\n",
    "        XW_r[0][:, 1], marker=\"s\", s=20, c=[(0, 0, 0, 1)] * len(XW_r[0])\n",
    "    )\n",
    "    label = plt.text(0, 0, '', fontsize=12)\n",
    "\n",
    "    def update_plot(i, scat_w, scat_f):\n",
    "        scat_w.set_offsets(XW_r[i])\n",
    "        scat_w.set_array(np.array([min(1 - abs(x[0]) / 50, 1) for x in YW_r[i]]))\n",
    "\n",
    "        scat_f.set_offsets(XF_r[i])\n",
    "        return scat_w, scat_f\n",
    "\n",
    "    anim = animation.FuncAnimation(\n",
    "        fig,\n",
    "        update_plot,\n",
    "        frames=range(len(XW_r)),\n",
    "        fargs=(scat_w, scat_f),\n",
    "        interval=1000\n",
    "    )\n",
    "\n",
    "    plt.gray()\n",
    "    \n",
    "    anim.save(\"includes/real-data-animation.mp4\", fps=1)\n",
    "\n",
    "    plt.close()"
   ]
  },
  {
   "cell_type": "code",
   "execution_count": 22,
   "metadata": {
    "colab": {},
    "colab_type": "code",
    "id": "N73MpRN9ob1U"
   },
   "outputs": [],
   "source": [
    "XF_r = [torch.tensor(x) for x in XF_r]\n",
    "YF_r = [torch.tensor(x) for x in YF_r]\n",
    "\n",
    "XW_r = [torch.tensor(x) for x in XW_r]\n",
    "YW_r = [torch.tensor(x) for x in YW_r]\n",
    "\n",
    "XS_r = torch.tensor(XS_r) - 1"
   ]
  },
  {
   "cell_type": "code",
   "execution_count": 23,
   "metadata": {
    "colab": {},
    "colab_type": "code",
    "id": "irBMRxcUob1W"
   },
   "outputs": [],
   "source": [
    "Xs = torch.cat(XW_r + XF_r)"
   ]
  },
  {
   "cell_type": "code",
   "execution_count": 24,
   "metadata": {
    "colab": {},
    "colab_type": "code",
    "id": "RY-f6wTaob1Y"
   },
   "outputs": [],
   "source": [
    "x_mean = Xs.mean(0)\n",
    "x_std = Xs.std(0)"
   ]
  },
  {
   "cell_type": "code",
   "execution_count": 25,
   "metadata": {
    "colab": {},
    "colab_type": "code",
    "id": "pOQX6GEXob1a"
   },
   "outputs": [],
   "source": [
    "XW_r = [(x - x_mean) / x_std for x in XW_r]\n",
    "XF_r = [(x - x_mean) / x_std for x in XF_r]"
   ]
  },
  {
   "cell_type": "markdown",
   "metadata": {
    "colab_type": "text",
    "id": "XYveNdUqob1c"
   },
   "source": [
    "### Inference (Real Data - Model 1)"
   ]
  },
  {
   "cell_type": "code",
   "execution_count": 26,
   "metadata": {
    "colab": {},
    "colab_type": "code",
    "id": "rl_WcI8iob1d"
   },
   "outputs": [],
   "source": [
    "pyro.set_rng_seed(1)"
   ]
  },
  {
   "cell_type": "code",
   "execution_count": 27,
   "metadata": {
    "colab": {},
    "colab_type": "code",
    "id": "Nad98EjEob1g"
   },
   "outputs": [],
   "source": [
    "samples_file = \"models/model1/real-samples.json\""
   ]
  },
  {
   "cell_type": "code",
   "execution_count": 28,
   "metadata": {
    "colab": {},
    "colab_type": "code",
    "id": "U2BZRimaob1j"
   },
   "outputs": [],
   "source": [
    "try:\n",
    "    with open(samples_file, \"r\") as f:\n",
    "        samples = {k: np.array(v) for k, v in json.load(f).items()}\n",
    "except:\n",
    "    print(\"Failed to load samples file\")"
   ]
  },
  {
   "cell_type": "code",
   "execution_count": 29,
   "metadata": {
    "colab": {},
    "colab_type": "code",
    "id": "YnTOgsbgob1k"
   },
   "outputs": [],
   "source": [
    "if train:\n",
    "    WF_distances = [\n",
    "        pairwise_distances(XW_r[i], XF_r[i]) for i in range(len(YW_r))\n",
    "    ]\n",
    "\n",
    "    nuts_kernel = NUTS(\n",
    "        partial(\n",
    "            model1,\n",
    "            n_seasons=3,\n",
    "            seasons=XS_r,\n",
    "            WF_distances=WF_distances,\n",
    "            gp=use_gp\n",
    "        )\n",
    "    )\n",
    "\n",
    "    mcmc = MCMC(nuts_kernel, num_samples=num_samples, warmup_steps=warmup_steps)\n",
    "    mcmc_run = mcmc.run(XW_r, YW_r, YF_r)\n",
    "\n",
    "    samples = {\n",
    "        k: v.detach().cpu().numpy() for k, v in mcmc.get_samples().items()\n",
    "    }"
   ]
  },
  {
   "cell_type": "code",
   "execution_count": 30,
   "metadata": {
    "colab": {},
    "colab_type": "code",
    "id": "GQ4OeMqsob1Q"
   },
   "outputs": [],
   "source": [
    "mu_samples = []\n",
    "for k in list(samples.keys()):\n",
    "    if \"mu_\" in k:\n",
    "        mu_samples.append(samples[k][:, None])\n",
    "        del samples[k]\n",
    "\n",
    "samples[\"mu\"] = np.concatenate(mu_samples, axis=1)"
   ]
  },
  {
   "cell_type": "code",
   "execution_count": 31,
   "metadata": {
    "colab": {},
    "colab_type": "code",
    "id": "YVxgaI88ob1m"
   },
   "outputs": [],
   "source": [
    "if save_samples:\n",
    "    samples_ = {k: v.tolist() for k, v in samples.items()}\n",
    "    with open(samples_file, \"w\") as f:\n",
    "        json.dump(samples_, f)"
   ]
  },
  {
   "cell_type": "code",
   "execution_count": 32,
   "metadata": {
    "colab": {},
    "colab_type": "code",
    "id": "wtwNf9Lqob1o",
    "scrolled": true
   },
   "outputs": [
    {
     "name": "stdout",
     "output_type": "stream",
     "text": [
      "Site: delta\n",
      "       mean       std        5%       25%       50%       75%       95%\n",
      "0  0.000082  0.000008  0.000071  0.000076  0.000081  0.000087  0.000094 \n",
      "\n",
      "Site: sigma\n",
      "        mean       std         5%        25%        50%       75%        95%\n",
      "0  22.628821  0.119883  22.456537  22.535894  22.607881  22.71427  22.830021 \n",
      "\n",
      "Site: theta_f\n",
      "       mean       std        5%       25%       50%       75%       95%\n",
      "0  0.049288  0.004775  0.041594  0.046395  0.049497  0.052175  0.057354 \n",
      "\n",
      "Site: sf\n",
      "       mean       std        5%       25%       50%       75%       95%\n",
      "0 -5.227908  0.413404 -5.923225 -5.496590 -5.253325 -4.937624 -4.516511\n",
      "1 -1.309093  0.378630 -1.879215 -1.572286 -1.290800 -1.030404 -0.749622\n",
      "2  3.737078  0.476756  2.915486  3.464752  3.733816  4.017878  4.546121 \n",
      "\n",
      "Site: mu\n",
      "         mean       std         5%        25%        50%        75%        95%\n",
      "0  -22.033146  0.554700 -22.950399 -22.388257 -22.051940 -21.664929 -21.143717\n",
      "1  -27.803892  0.614792 -28.686788 -28.207294 -27.780044 -27.365483 -26.904818\n",
      "2  -22.437384  0.649872 -23.462040 -22.949270 -22.363915 -21.923639 -21.446239\n",
      "3  -28.255015  0.544200 -29.346899 -28.573559 -28.267242 -27.978977 -27.340214\n",
      "4  -30.575520  0.596755 -31.656314 -30.983540 -30.555192 -30.174891 -29.575201\n",
      "5  -27.461473  0.562884 -28.309029 -27.886699 -27.428663 -27.078100 -26.509112\n",
      "6  -31.249678  0.586189 -32.227337 -31.625955 -31.299886 -30.860118 -30.233908\n",
      "7  -32.723799  0.567530 -33.626696 -33.056692 -32.686205 -32.360173 -31.811584\n",
      "8  -29.740394  0.577852 -30.596690 -30.070594 -29.814140 -29.344804 -28.746246\n",
      "9  -31.888338  0.635408 -32.845945 -32.318983 -31.902142 -31.415302 -30.952549\n",
      "10 -34.739823  0.558348 -35.502582 -35.066429 -34.768023 -34.371611 -33.824514\n",
      "11 -31.859214  0.568072 -32.846272 -32.270798 -31.832334 -31.444004 -31.047032\n",
      "12 -34.266003  0.475957 -34.986832 -34.602535 -34.256674 -33.964411 -33.474360\n",
      "13 -32.743237  0.432207 -33.441549 -33.036115 -32.734802 -32.409075 -32.127481\n",
      "14 -25.353417  0.666923 -26.386464 -25.798464 -25.296574 -24.879973 -24.352599\n",
      "15 -29.719399  0.587476 -30.582169 -30.093364 -29.716785 -29.264583 -28.759419\n",
      "16 -24.835229  0.768443 -25.916673 -25.423034 -24.880162 -24.382913 -23.530849\n",
      "17 -30.198137  0.694662 -31.312248 -30.689507 -30.231007 -29.554440 -29.102403\n",
      "18 -26.508903  0.831562 -27.685327 -27.174111 -26.507354 -25.908710 -25.099720\n",
      "19 -30.071861  0.643249 -31.249939 -30.422511 -30.017756 -29.722028 -29.142338\n",
      "20 -26.891751  0.675706 -27.895570 -27.420328 -26.888238 -26.492316 -25.639636\n",
      "21 -28.942559  0.837372 -30.197672 -29.538023 -28.969893 -28.286476 -27.515287\n",
      "22 -28.481104  0.800988 -29.784441 -29.003850 -28.572168 -27.890540 -27.099154 \n",
      "\n"
     ]
    }
   ],
   "source": [
    "for site, values in summary(samples).items():\n",
    "    print(\"Site: {}\".format(site))\n",
    "    print(values, \"\\n\")"
   ]
  },
  {
   "cell_type": "markdown",
   "metadata": {
    "colab_type": "text",
    "id": "luW_bwi08CDm"
   },
   "source": [
    "### Posterior Visualizations (Real Data - Model 1)"
   ]
  },
  {
   "cell_type": "code",
   "execution_count": 33,
   "metadata": {
    "colab": {},
    "colab_type": "code",
    "id": "dwgiBV8b5JU0"
   },
   "outputs": [],
   "source": [
    "# 2d scatterplot (maximum ascent would be where theta= delta *distance )\n",
    "if plot:\n",
    "    plt.rcParams.update({\"font.size\": 15})\n",
    "    fig, ax = plt.subplots(figsize=(10, 6),)\n",
    "    ax.scatter(samples[\"delta\"], samples[\"theta_f\"])\n",
    "    ax.set(\n",
    "        xlabel=\"Value of Delta\",\n",
    "        ylabel=r\"Value of $\\theta_f$\",\n",
    "        title=\"Scatter Plot of Parameter Samples from Posterior Distribution\",\n",
    "    )\n",
    "    ax.set_xlim((0.00005, 0.0001))\n",
    "\n",
    "    plt.savefig(\"includes/model1/scatter_delta_theta_f.png\")\n",
    "    plt.close()\n",
    "\n",
    "    # pcolormesh\n",
    "    fig, ax = plt.subplots(figsize=(10, 6),)\n",
    "    hist_2d = ax.hist2d(\n",
    "        samples[\"delta\"], samples[\"theta_f\"], bins=(15, 15), cmap=plt.cm.jet\n",
    "    )\n",
    "    ax.set(\n",
    "        xlabel=\"Value of Delta\",\n",
    "        ylabel=r\"Value of $\\theta_f$\",\n",
    "        title=\"2d Histogram of Parameter Samples from Posterior Distribution\",\n",
    "    )\n",
    "    plt.colorbar(hist_2d[3], ax=ax)\n",
    "\n",
    "    plt.savefig(\"includes/model1/hist_delta_theta_f.png\")\n",
    "    plt.close()"
   ]
  },
  {
   "cell_type": "code",
   "execution_count": 34,
   "metadata": {},
   "outputs": [
    {
     "data": {
      "image/png": "[encoded data removed]",
      "text/plain": [
       "<IPython.core.display.Image object>"
      ]
     },
     "metadata": {},
     "output_type": "display_data"
    },
    {
     "data": {
      "image/png": "[encoded data removed]",
      "text/plain": [
       "<IPython.core.display.Image object>"
      ]
     },
     "metadata": {},
     "output_type": "display_data"
    }
   ],
   "source": [
    "display(\n",
    "    Image(\"includes/model1/scatter_delta_theta_f.png\"),\n",
    "    Image(\"includes/model1/hist_delta_theta_f.png\")\n",
    ")"
   ]
  },
  {
   "cell_type": "markdown",
   "metadata": {
    "colab_type": "text",
    "id": "xo-AAb4h5KUb"
   },
   "source": [
    "$\\theta_f$ implicitly determines the effective distance. At 23 latitutude, one degree of latitude is 110,758 m and one degree of longitude is 101,751 m.  Hence if we have a well that is $\\sqrt{(.001)^2 + (.001)^2}$ or $\\sqrt{110^2+101^2}\\approx 150 m$ away then \n",
    "$\\theta_f$ of 0.2 will give the importance of a single pixel at that distance as $\\delta \\times e^{(-.001/0.2)}\\times y_f$.  If we assume we have on the order of 400 classified pixels within that distance, we can calculate the total effect of the farms on a given well as $\\delta \\times e^{(0.001/2)}\\times y_f\\times 500$.   "
   ]
  },
  {
   "cell_type": "code",
   "execution_count": 35,
   "metadata": {
    "colab": {},
    "colab_type": "code",
    "id": "a7S82kp-51Fd"
   },
   "outputs": [],
   "source": [
    "if plot:\n",
    "    # Grab quantiles and medians and plot them\n",
    "    mu_post_list_med = np.median(samples[\"mu\"], 0)\n",
    "    mpl_quant = np.quantile(samples[\"mu\"], q=(0.025, 0.975), axis=0)\n",
    "\n",
    "    fig, ax = plt.subplots(figsize=(10, 6),)\n",
    "    ax.plot(mu_post_list_med)\n",
    "    ax.set(\n",
    "        ylabel=r\"Posteriror Values of $\\mu_t$\",\n",
    "        xlabel=r\"Time Period\",\n",
    "        title=r\"Scatter Plot of Median $\\mu$ Values\",\n",
    "    )\n",
    "\n",
    "    plotline, caplines, barlinecols = plt.errorbar(\n",
    "        list(range(len(mu_post_list_med))),\n",
    "        mu_post_list_med,\n",
    "        yerr=mpl_quant[1],\n",
    "        lolims=True,\n",
    "        label=\"uplims=True\",\n",
    "        color=\"orange\",\n",
    "    )\n",
    "    caplines[0].set_marker(\"_\")\n",
    "    caplines[0].set_markersize(10)\n",
    "\n",
    "    plotline2, caplines2, barlinecols2 = plt.errorbar(\n",
    "        list(range(len(mu_post_list_med))),\n",
    "        mu_post_list_med,\n",
    "        yerr=mpl_quant[0],\n",
    "        uplims=True,\n",
    "        label=\"uplims=True\",\n",
    "        color=\"orange\",\n",
    "    )\n",
    "    caplines2[0].set_marker(\"_\")\n",
    "    caplines2[0].set_markersize(10)\n",
    "\n",
    "    plt.savefig(\"includes/model1/mu.png\")\n",
    "    plt.close()"
   ]
  },
  {
   "cell_type": "code",
   "execution_count": 36,
   "metadata": {
    "colab": {},
    "colab_type": "code",
    "id": "ExibmWo48oYG"
   },
   "outputs": [
    {
     "data": {
      "image/png": "[encoded data removed]",
      "text/plain": [
       "<IPython.core.display.Image object>"
      ]
     },
     "execution_count": 36,
     "metadata": {},
     "output_type": "execute_result"
    }
   ],
   "source": [
    "Image(\"includes/model1/mu.png\")"
   ]
  },
  {
   "cell_type": "code",
   "execution_count": 37,
   "metadata": {
    "colab": {},
    "colab_type": "code",
    "id": "a7S82kp-51Fd"
   },
   "outputs": [],
   "source": [
    "if plot:\n",
    "    # Grab quantiles and medians and plot them\n",
    "    sf_post_list_med = np.median(samples[\"sf\"], 0)\n",
    "    mpl_quant = np.quantile(samples[\"sf\"], q=(0.025, 0.975), axis=0)\n",
    "\n",
    "    fig, ax = plt.subplots(figsize=(10, 6),)\n",
    "    ax.plot(sf_post_list_med)\n",
    "    ax.set(\n",
    "        ylabel=r\"Posteriror Values of $\\gamma_s$\",\n",
    "        xlabel=r\"Season\",\n",
    "        title=r\"Scatter Plot of Median $\\gamma$ Values\",\n",
    "    )\n",
    "    plt.xticks(np.arange(3), [\"Winter\", \"Spring\", \"Fall\"])\n",
    "\n",
    "    plotline, caplines, barlinecols = plt.errorbar(\n",
    "        list(range(len(sf_post_list_med))),\n",
    "        sf_post_list_med,\n",
    "        yerr=mpl_quant[1],\n",
    "        lolims=True,\n",
    "        label=\"uplims=True\",\n",
    "        color=\"orange\",\n",
    "    )\n",
    "    caplines[0].set_marker(\"_\")\n",
    "    caplines[0].set_markersize(10)\n",
    "\n",
    "    plotline2, caplines2, barlinecols2 = plt.errorbar(\n",
    "        list(range(len(sf_post_list_med))),\n",
    "        sf_post_list_med,\n",
    "        yerr=mpl_quant[0],\n",
    "        uplims=True,\n",
    "        label=\"uplims=True\",\n",
    "        color=\"orange\",\n",
    "    )\n",
    "    caplines2[0].set_marker(\"_\")\n",
    "    caplines2[0].set_markersize(10)\n",
    "\n",
    "    plt.savefig(\"includes/model1/sf.png\")\n",
    "    plt.close()"
   ]
  },
  {
   "cell_type": "code",
   "execution_count": 38,
   "metadata": {
    "colab": {},
    "colab_type": "code",
    "id": "ExibmWo48oYG"
   },
   "outputs": [
    {
     "data": {
      "image/png": "[encoded data removed]",
      "text/plain": [
       "<IPython.core.display.Image object>"
      ]
     },
     "execution_count": 38,
     "metadata": {},
     "output_type": "execute_result"
    }
   ],
   "source": [
    "Image(\"includes/model1/sf.png\")"
   ]
  },
  {
   "cell_type": "markdown",
   "metadata": {},
   "source": [
    "### Model Criticism"
   ]
  },
  {
   "cell_type": "code",
   "execution_count": 39,
   "metadata": {},
   "outputs": [],
   "source": [
    "if plot:\n",
    "    fig = plt.figure(figsize=(12, 10))\n",
    "    \n",
    "    preds = predict1(XW_r, XF_r, YF_r, samples, n_seasons=3, seasons=XS_r, recon=True)    \n",
    "    preds = [x.mean(0) for x in preds]\n",
    "    \n",
    "    Y = [x.cpu().numpy() for x in YW_r]\n",
    "    \n",
    "    for p, y in zip(preds, Y):\n",
    "        plt.scatter(y, p, s=40)\n",
    "        \n",
    "    plt.ylabel(\"Posterior Predictive - Water Level\")\n",
    "    plt.xlabel(\"Observations - Water Level\")\n",
    "    plt.title(\"Actual vs Predicted across Timesteps\")\n",
    "    \n",
    "    plt.savefig(\"includes/model1/predicted_actual.png\")\n",
    "    \n",
    "    plt.close()"
   ]
  },
  {
   "cell_type": "code",
   "execution_count": 40,
   "metadata": {},
   "outputs": [
    {
     "data": {
      "image/png": "[encoded data removed]",
      "text/plain": [
       "<IPython.core.display.Image object>"
      ]
     },
     "execution_count": 40,
     "metadata": {},
     "output_type": "execute_result"
    }
   ],
   "source": [
    "Image(\"includes/model1/predicted_actual.png\")"
   ]
  },
  {
   "cell_type": "markdown",
   "metadata": {
    "colab_type": "text",
    "id": "ooEZVy6wob1r"
   },
   "source": [
    "## Alternate Model"
   ]
  },
  {
   "cell_type": "markdown",
   "metadata": {
    "colab_type": "text",
    "id": "cktM5CF-ob0i"
   },
   "source": [
    "### Generative Model\n",
    "---\n",
    "**Farm Factor**\n",
    "\\begin{align*}\n",
    "    \\ln(\\delta) \\sim \\mathcal{N}(1.0, 0.5)\n",
    "\\end{align*}\n",
    "\n",
    "**Distance Factors**\n",
    "\\begin{align*}\n",
    "    \\ln(\\theta_w) \\sim \\mathcal{N}(0.0, 0.5) \\\\\n",
    "    \\ln(\\theta_f) \\sim \\mathcal{N}(0.0, 0.5)\n",
    "\\end{align*}\n",
    "\n",
    "**Variance**\n",
    "\\begin{align*}\n",
    "    \\sigma^2 \\sim \\text{Gam}(1.0, 1.0)\n",
    "\\end{align*}\n",
    "\n",
    "**Seasonal Factors**\n",
    "For season $s \\in \\mathcal{S}$\n",
    "\\begin{align*}\n",
    "    \\gamma_s \\sim \\mathcal{N}(0.0, 1.0)\n",
    "\\end{align*}\n",
    "\n",
    "**Base Water Levels**\n",
    "\n",
    "The base water levels are modeled as a simple AR(1) process.\n",
    "The details of this are as follows\n",
    "\n",
    "\\begin{align*}\n",
    "    \\mu_0 \\sim \\mathcal{N}(\\gamma_{s_0}, 1.0) \\\\\n",
    "\\end{align*}\n",
    "For $t = 1 \\dots T$, we specify\n",
    "\\begin{align*}\n",
    "    \\mu_{t} \\sim \\mathcal{N}(\\mu_{t - 1} + \\gamma_{s_t}, 1.0)\n",
    "\\end{align*}\n",
    "\n",
    "**Likelihood**\n",
    "\n",
    "For $t = 0 \\dots T$, we specify\n",
    "\\begin{align*}\n",
    "    \\mathbf{y}_t \\sim \n",
    "    \\mathcal{N}(\\mu_t - \\delta \\cdot K(X_{t,w}, X_{t,f})\\ /\\ \\theta_f, 1.0)\n",
    "\\end{align*}\n",
    "\n",
    "---\n",
    "\n",
    "<img src=\"includes/hmm-model.png\" alt=\"drawing\" width=\"600\"/>"
   ]
  },
  {
   "cell_type": "markdown",
   "metadata": {
    "colab_type": "text",
    "id": "RvexIqcX9TEH"
   },
   "source": [
    "### Defining the Model"
   ]
  },
  {
   "cell_type": "code",
   "execution_count": 41,
   "metadata": {
    "colab": {},
    "colab_type": "code",
    "id": "UkAQfL8Aob1s"
   },
   "outputs": [],
   "source": [
    "def model2(XW, YW, YF, WF_distances, n_seasons=3, seasons=None):\n",
    "    assert not torch._C._get_tracing_state()\n",
    "\n",
    "    delta_c = pyro.sample(\"delta_c\", dist.LogNormal(1.0, 0.5))\n",
    "    delta_p = pyro.sample(\"delta_p\", dist.LogNormal(1.0, 0.5))\n",
    "\n",
    "    sigma = pyro.sample(\"sigma\", dist.Gamma(1.0, 1.0))\n",
    "    theta_f = pyro.sample(\"theta_f\", dist.LogNormal(1.0, 0.5))\n",
    "\n",
    "    sf = pyro.sample(\"sf\", dist.Normal(torch.zeros(n_seasons), 1.0))\n",
    "    if seasons is None:\n",
    "        seasons = np.tile(np.arange(n_seasons), int(len(YW) / n_seasons + 1))\n",
    "        seasons = seasons[:len(YW)]\n",
    "\n",
    "    y = YW[0]\n",
    "    ff = torch.mm(torch.exp(-WF_distances[0] / theta_f), YF[0])\n",
    "\n",
    "    for t in pyro.markov(range(1, len(YW))):\n",
    "        with pyro.plate(\"data_{}\".format(t), len(YW[t])):\n",
    "            mean = y - delta_p * ff + sf[seasons[t]]\n",
    "            ff = torch.mm(torch.exp(-WF_distances[t] / theta_f), YF[t])\n",
    "\n",
    "            mean -= delta_c * ff\n",
    "\n",
    "            y = pyro.sample(\n",
    "                \"obs_{}\".format(t), dist.Normal(mean, sigma), obs=YW[t]\n",
    "            )"
   ]
  },
  {
   "cell_type": "code",
   "execution_count": 42,
   "metadata": {
    "colab": {},
    "colab_type": "code",
    "id": "lYAV_Ugjob1t"
   },
   "outputs": [],
   "source": [
    "def predict2(XW, XF, YF, samples, n_seasons=3, seasons=None, recon=False):\n",
    "    sigma = samples[\"sigma\"]\n",
    "    delta_c = samples[\"delta_c\"]\n",
    "    delta_p = samples[\"delta_p\"]\n",
    "\n",
    "    theta_f = samples[\"theta_f\"]\n",
    "\n",
    "    sf = samples[\"sf\"]\n",
    "    if seasons is None:\n",
    "        seasons = np.tile(np.arange(n_seasons), int(len(YW) / n_seasons + 1))\n",
    "        seasons = seasons[:len(YW)]\n",
    "\n",
    "    YF = [x.cpu().numpy() for x in YF]\n",
    "\n",
    "    samples = []\n",
    "    samples_ = [0] * len(sigma)\n",
    "    for t in range(1, len(YF)):\n",
    "        pdf_c = pairwise_distances(XW[t], XF[t]).cpu().numpy()\n",
    "        pdf_p = pairwise_distances(XW[t - 1], XF[t - 1]).cpu().numpy()\n",
    "\n",
    "        for i in range(len(sigma)):\n",
    "            sg = sigma[i]\n",
    "            mean = (\n",
    "                samples_[i]\n",
    "                - delta_c[i] * np.matmul(np.exp(-pdf_c / theta_f[i]), YF[t])\n",
    "                - delta_p[i] * np.matmul(np.exp(-pdf_p / theta_f[i]), YF[t-1])\n",
    "                + sf[i][seasons[t]]\n",
    "            )\n",
    "\n",
    "            if recon:\n",
    "                samples_[i] = mean\n",
    "            else:\n",
    "                samples_[i] = np.random.normal(mean, sg)\n",
    "\n",
    "        samples_ = np.array(samples_)\n",
    "        samples.append(samples_)\n",
    "\n",
    "    return samples"
   ]
  },
  {
   "cell_type": "markdown",
   "metadata": {
    "colab_type": "text",
    "id": "Vj1jLhL9ob1v"
   },
   "source": [
    "### Preparing the Real Data"
   ]
  },
  {
   "cell_type": "code",
   "execution_count": 43,
   "metadata": {
    "colab": {},
    "colab_type": "code",
    "id": "lA4ob30Oob1w"
   },
   "outputs": [],
   "source": [
    "intersection = XW_r[0]\n",
    "\n",
    "for arr in XW_r[1:]:\n",
    "    indices = torch.zeros(len(arr), dtype=torch.bool)\n",
    "    for elem in intersection:\n",
    "        indices = indices | (torch.abs(arr - elem).sum(1) < 1e-8)\n",
    "    intersection = arr[indices]\n",
    "\n",
    "for i in range(len(XW_r)):\n",
    "    indices = torch.zeros(len(XW_r[i]), dtype=torch.bool)\n",
    "    for elem in intersection:\n",
    "        indices = indices | (torch.abs(XW_r[i] - elem).sum(1) < 1e-8)\n",
    "\n",
    "    XW_r[i] = XW_r[i][indices]\n",
    "    YW_r[i] = YW_r[i][indices]"
   ]
  },
  {
   "cell_type": "markdown",
   "metadata": {
    "colab_type": "text",
    "id": "r8vgltcGob1y"
   },
   "source": [
    "### Inference (Real Data - Model 2)"
   ]
  },
  {
   "cell_type": "code",
   "execution_count": 44,
   "metadata": {
    "colab": {},
    "colab_type": "code",
    "id": "8p2_N5Kfob1z"
   },
   "outputs": [],
   "source": [
    "pyro.set_rng_seed(1)"
   ]
  },
  {
   "cell_type": "code",
   "execution_count": 45,
   "metadata": {
    "colab": {},
    "colab_type": "code",
    "id": "kcMBnpYVob11"
   },
   "outputs": [],
   "source": [
    "samples_file = \"models/model2/real-samples.json\""
   ]
  },
  {
   "cell_type": "code",
   "execution_count": 46,
   "metadata": {
    "colab": {},
    "colab_type": "code",
    "id": "jd_06HDFob15"
   },
   "outputs": [],
   "source": [
    "try:\n",
    "    with open(samples_file, \"r\") as f:\n",
    "        samples = {k: np.array(v) for k, v in json.load(f).items()}\n",
    "except:\n",
    "    print(\"Failed to load samples file\")"
   ]
  },
  {
   "cell_type": "code",
   "execution_count": 47,
   "metadata": {
    "colab": {},
    "colab_type": "code",
    "id": "-d4NLWyCob16"
   },
   "outputs": [],
   "source": [
    "if train:\n",
    "    WF_distances = [\n",
    "        pairwise_distances(XW_r[i], XF_r[i]) for i in range(len(YW_r))\n",
    "    ]\n",
    "\n",
    "    nuts_kernel = NUTS(\n",
    "        partial(model2, seasons=XS_r, WF_distances=WF_distances)\n",
    "        )\n",
    "\n",
    "    mcmc = MCMC(nuts_kernel, num_samples=num_samples, warmup_steps=warmup_steps)\n",
    "    mcmc_run = mcmc.run(XW_r, YW_r, YF_r)\n",
    "\n",
    "    samples = {\n",
    "        k: v.detach().cpu().numpy() for k, v in mcmc.get_samples().items()\n",
    "    }"
   ]
  },
  {
   "cell_type": "code",
   "execution_count": 48,
   "metadata": {
    "colab": {},
    "colab_type": "code",
    "id": "IBtyRuxUob1-"
   },
   "outputs": [],
   "source": [
    "if save_samples:\n",
    "    samples_ = {k: v.tolist() for k, v in samples.items()}\n",
    "    with open(samples_file, \"w\") as f:\n",
    "        json.dump(samples_, f)"
   ]
  },
  {
   "cell_type": "code",
   "execution_count": 49,
   "metadata": {
    "colab": {},
    "colab_type": "code",
    "id": "3HJdBCvwob2A",
    "scrolled": true
   },
   "outputs": [
    {
     "name": "stdout",
     "output_type": "stream",
     "text": [
      "Site: delta_c\n",
      "      mean       std        5%     25%       50%       75%       95%\n",
      "0  0.03395  0.007396  0.020659  0.0292  0.034532  0.038911  0.044599 \n",
      "\n",
      "Site: delta_p\n",
      "       mean       std        5%       25%       50%       75%       95%\n",
      "0  0.013508  0.003355  0.008386  0.011258  0.013171  0.015721  0.019617 \n",
      "\n",
      "Site: sigma\n",
      "       mean       std        5%       25%       50%       75%      95%\n",
      "0  3.049775  0.088181  2.917461  2.991533  3.045503  3.094855  3.21229 \n",
      "\n",
      "Site: theta_f\n",
      "      mean       std        5%       25%       50%      75%       95%\n",
      "0  0.00001  0.000002  0.000008  0.000009  0.000009  0.00001  0.000014 \n",
      "\n",
      "Site: sf\n",
      "       mean       std        5%       25%       50%       75%       95%\n",
      "0  1.361661  0.202846  1.012047  1.225183  1.367800  1.516373  1.711813\n",
      "1 -0.883618  0.191138 -1.176474 -1.023153 -0.898001 -0.761632 -0.545445\n",
      "2  0.682479  0.171281  0.409735  0.580201  0.682519  0.785730  0.977548 \n",
      "\n"
     ]
    }
   ],
   "source": [
    "for site, values in summary(samples).items():\n",
    "    print(\"Site: {}\".format(site))\n",
    "    print(values, \"\\n\")"
   ]
  },
  {
   "cell_type": "code",
   "execution_count": 50,
   "metadata": {
    "colab": {},
    "colab_type": "code",
    "id": "rARwDXc9ob2F"
   },
   "outputs": [],
   "source": [
    "preds = predict2(XW_r, XF_r, YF_r, samples, recon=True)\n",
    "preds = np.array(preds).mean(1)\n",
    "\n",
    "preds = [YW_r[0].cpu().numpy()] + list(preds)\n",
    "for i in range(1, len(preds)):\n",
    "    preds[i] = np.minimum(preds[i] + preds[i - 1], 0)\n",
    "\n",
    "preds = np.array(preds)"
   ]
  },
  {
   "cell_type": "code",
   "execution_count": 51,
   "metadata": {
    "colab": {},
    "colab_type": "code",
    "id": "9hs3JyZPob2H"
   },
   "outputs": [],
   "source": [
    "x = np.array([x.cpu().numpy() for x in YW_r])"
   ]
  },
  {
   "cell_type": "code",
   "execution_count": 52,
   "metadata": {
    "colab": {},
    "colab_type": "code",
    "collapsed": true,
    "id": "DR6-2JKRob2J",
    "jupyter": {
     "outputs_hidden": true
    }
   },
   "outputs": [
    {
     "data": {
      "text/plain": [
       "array([[[-1.09900000e+01, -1.09900000e+01],\n",
       "        [-1.93900000e+01, -1.93900000e+01],\n",
       "        [-2.43800000e+01, -2.43800000e+01],\n",
       "        [-1.99500000e+01, -1.99500000e+01],\n",
       "        [-3.12400000e+01, -3.12400000e+01],\n",
       "        [-4.47300000e+01, -4.47300000e+01]],\n",
       "\n",
       "       [[-1.37400000e+01, -1.11911395e+01],\n",
       "        [-2.49900000e+01, -1.98415004e+01],\n",
       "        [-2.50600000e+01, -2.45829027e+01],\n",
       "        [-1.70300000e+01, -2.01511438e+01],\n",
       "        [-3.40000000e+01, -3.14411419e+01],\n",
       "        [-4.53000000e+01, -4.89890996e+01]],\n",
       "\n",
       "       [[-1.50000000e+01, -1.00306177e+01],\n",
       "        [-2.38000000e+01, -1.89316922e+01],\n",
       "        [-2.21400000e+01, -2.34248382e+01],\n",
       "        [-1.82700000e+01, -1.89906284e+01],\n",
       "        [-3.12900000e+01, -3.02806257e+01],\n",
       "        [-4.53800000e+01, -5.35047305e+01]],\n",
       "\n",
       "       [[-1.22200000e+01, -9.75371408e+00],\n",
       "        [-1.90800000e+01, -1.89055025e+01],\n",
       "        [-2.31000000e+01, -2.31503919e+01],\n",
       "        [-2.31000000e+01, -1.87137314e+01],\n",
       "        [-3.18000000e+01, -3.04808724e+01],\n",
       "        [-4.32500000e+01, -5.89042700e+01]],\n",
       "\n",
       "       [[-1.57200000e+01, -8.79433173e+00],\n",
       "        [-2.45400000e+01, -1.84296009e+01],\n",
       "        [-2.30000000e+01, -2.21934668e+01],\n",
       "        [-2.03000000e+01, -1.77543557e+01],\n",
       "        [-3.20000000e+01, -3.06868506e+01],\n",
       "        [-4.30000000e+01, -6.36214441e+01]],\n",
       "\n",
       "       [[-1.50000000e+01, -6.47328804e+00],\n",
       "        [-2.38000000e+01, -1.68946843e+01],\n",
       "        [-2.30000000e+01, -1.98748804e+01],\n",
       "        [-2.05000000e+01, -1.54333186e+01],\n",
       "        [-3.28000000e+01, -2.97301826e+01],\n",
       "        [-5.22000000e+01, -6.69769569e+01]],\n",
       "\n",
       "       [[-1.51000000e+01, -5.03586261e+00],\n",
       "        [-2.58000000e+01, -1.63272693e+01],\n",
       "        [-2.06800000e+01, -1.84399123e+01],\n",
       "        [-1.92700000e+01, -1.77027203e+01],\n",
       "        [-3.40400000e+01, -2.96571717e+01],\n",
       "        [-4.54800000e+01, -7.12160879e+01]],\n",
       "\n",
       "       [[-1.76000000e+01, -2.91596881e+00],\n",
       "        [-2.51500000e+01, -1.52847961e+01],\n",
       "        [-2.36200000e+01, -1.63224654e+01],\n",
       "        [-2.06500000e+01, -2.07667368e+01],\n",
       "        [-3.11300000e+01, -2.89016844e+01],\n",
       "        [-4.51000000e+01, -7.47727402e+01]],\n",
       "\n",
       "       [[-1.80100000e+01,  0.00000000e+00],\n",
       "        [-2.92800000e+01, -1.31579921e+01],\n",
       "        [-2.31600000e+01, -1.28433572e+01],\n",
       "        [-1.56300000e+01, -2.25232734e+01],\n",
       "        [-3.13800000e+01, -2.67845367e+01],\n",
       "        [-4.34700000e+01, -7.69677311e+01]],\n",
       "\n",
       "       [[-1.68600000e+01,  0.00000000e+00],\n",
       "        [-2.71000000e+01, -1.19926057e+01],\n",
       "        [-2.30000000e+01, -1.02478673e+01],\n",
       "        [-2.05000000e+01, -2.51851387e+01],\n",
       "        [-3.29000000e+01, -2.55510095e+01],\n",
       "        [-4.32000000e+01, -8.00463403e+01]],\n",
       "\n",
       "       [[-1.92000000e+01,  0.00000000e+00],\n",
       "        [-2.85000000e+01, -1.02926464e+01],\n",
       "        [-2.35000000e+01, -6.97056669e+00],\n",
       "        [-2.06000000e+01, -2.71645296e+01],\n",
       "        [-3.40000000e+01, -2.36350044e+01],\n",
       "        [-4.24000000e+01, -8.24424708e+01]],\n",
       "\n",
       "       [[-1.94800000e+01,  0.00000000e+00],\n",
       "        [-2.94300000e+01, -1.09413029e+01],\n",
       "        [-2.37700000e+01, -2.33186609e+00],\n",
       "        [-2.04800000e+01, -2.77822606e+01],\n",
       "        [-3.20900000e+01, -2.08414894e+01],\n",
       "        [-4.38700000e+01, -8.34769399e+01]],\n",
       "\n",
       "       [[-1.84000000e+01,  0.00000000e+00],\n",
       "        [-2.89500000e+01, -1.39319614e+01],\n",
       "        [-2.59400000e+01,  0.00000000e+00],\n",
       "        [-2.14000000e+01, -2.92836099e+01],\n",
       "        [-3.13900000e+01, -1.91253143e+01],\n",
       "        [-4.19400000e+01, -8.53950272e+01]],\n",
       "\n",
       "       [[-2.10000000e+01,  0.00000000e+00],\n",
       "        [-3.04000000e+01, -1.64353906e+01],\n",
       "        [-2.35800000e+01,  0.00000000e+00],\n",
       "        [-2.09600000e+01, -3.01024805e+01],\n",
       "        [-3.21000000e+01, -1.67268041e+01],\n",
       "        [-4.20600000e+01, -9.05390053e+01]],\n",
       "\n",
       "       [[-1.92000000e+01,  0.00000000e+00],\n",
       "        [-3.03000000e+01, -1.76553580e+01],\n",
       "        [-1.72800000e+01,  0.00000000e+00],\n",
       "        [-2.06400000e+01, -2.95596897e+01],\n",
       "        [-3.17000000e+01, -1.29666729e+01],\n",
       "        [-4.51400000e+01, -9.58794307e+01]],\n",
       "\n",
       "       [[-1.85900000e+01,  0.00000000e+00],\n",
       "        [-3.20500000e+01, -2.02706026e+01],\n",
       "        [-2.04700000e+01,  0.00000000e+00],\n",
       "        [-1.94000000e+01, -2.99005172e+01],\n",
       "        [-3.05500000e+01, -1.05709235e+01],\n",
       "        [-4.93500000e+01, -1.02103474e+02]],\n",
       "\n",
       "       [[-1.46900000e+01,  0.00000000e+00],\n",
       "        [-2.83500000e+01, -2.41172865e+01],\n",
       "        [-2.01700000e+01,  0.00000000e+00],\n",
       "        [-1.87300000e+01, -2.95588659e+01],\n",
       "        [-3.10400000e+01, -7.68505798e+00],\n",
       "        [-3.99000000e+01, -1.07645039e+02]],\n",
       "\n",
       "       [[-1.11900000e+01,  0.00000000e+00],\n",
       "        [-2.66000000e+01, -2.76664212e+01],\n",
       "        [-2.07100000e+01,  0.00000000e+00],\n",
       "        [-1.84500000e+01, -2.78555532e+01],\n",
       "        [-3.23500000e+01, -3.92840753e+00],\n",
       "        [-4.04000000e+01, -1.11824943e+02]],\n",
       "\n",
       "       [[-1.77900000e+01,  0.00000000e+00],\n",
       "        [-2.62500000e+01, -3.60611923e+01],\n",
       "        [-2.04700000e+01,  0.00000000e+00],\n",
       "        [-1.88400000e+01, -2.70358589e+01],\n",
       "        [-3.20300000e+01, -3.10025820e+00],\n",
       "        [-3.98000000e+01, -1.16888465e+02]],\n",
       "\n",
       "       [[-1.46900000e+01,  0.00000000e+00],\n",
       "        [-2.83500000e+01, -4.71577128e+01],\n",
       "        [-2.06700000e+01,  0.00000000e+00],\n",
       "        [-1.88000000e+01, -2.55336857e+01],\n",
       "        [-3.14000000e+01, -4.12223482e+00],\n",
       "        [-4.04000000e+01, -1.21269508e+02]],\n",
       "\n",
       "       [[-1.91900000e+01,  0.00000000e+00],\n",
       "        [-2.97500000e+01, -5.79464917e+01],\n",
       "        [-2.88700000e+01,  0.00000000e+00],\n",
       "        [-2.92000000e+01, -2.26698512e+01],\n",
       "        [-3.21500000e+01, -4.49910026e+00],\n",
       "        [-3.97000000e+01, -1.24288890e+02]],\n",
       "\n",
       "       [[-1.91400000e+01,  0.00000000e+00],\n",
       "        [-1.92900000e+01, -7.31963411e+01],\n",
       "        [-2.13700000e+01, -9.84955226e-02],\n",
       "        [-1.89000000e+01, -2.06896350e+01],\n",
       "        [-3.24500000e+01, -5.75958397e+00],\n",
       "        [-3.98000000e+01, -1.28191890e+02]],\n",
       "\n",
       "       [[-1.55900000e+01,  0.00000000e+00],\n",
       "        [-2.97500000e+01, -8.84461905e+01],\n",
       "        [-2.06700000e+01, -1.96991045e-01],\n",
       "        [-2.08000000e+01, -1.87094188e+01],\n",
       "        [-3.28500000e+01, -7.02006769e+00],\n",
       "        [-3.97000000e+01, -1.32094890e+02]]])"
      ]
     },
     "execution_count": 52,
     "metadata": {},
     "output_type": "execute_result"
    }
   ],
   "source": [
    "np.concatenate((x, preds), axis=2)"
   ]
  },
  {
   "cell_type": "markdown",
   "metadata": {
    "colab_type": "text",
    "id": "FFjQmtlI9e38"
   },
   "source": [
    "### Posterior Visualizations (Real Data - Model 2)"
   ]
  },
  {
   "cell_type": "code",
   "execution_count": 53,
   "metadata": {
    "colab": {},
    "colab_type": "code",
    "id": "dwgiBV8b5JU0"
   },
   "outputs": [
    {
     "ename": "KeyError",
     "evalue": "'delta'",
     "output_type": "error",
     "traceback": [
      "\u001b[0;31m---------------------------------------------------------------------------\u001b[0m",
      "\u001b[0;31mKeyError\u001b[0m                                  Traceback (most recent call last)",
      "\u001b[0;32m<ipython-input-53-82582e8e9e60>\u001b[0m in \u001b[0;36m<module>\u001b[0;34m\u001b[0m\n\u001b[1;32m      3\u001b[0m     \u001b[0mplt\u001b[0m\u001b[0;34m.\u001b[0m\u001b[0mrcParams\u001b[0m\u001b[0;34m.\u001b[0m\u001b[0mupdate\u001b[0m\u001b[0;34m(\u001b[0m\u001b[0;34m{\u001b[0m\u001b[0;34m\"font.size\"\u001b[0m\u001b[0;34m:\u001b[0m \u001b[0;36m15\u001b[0m\u001b[0;34m}\u001b[0m\u001b[0;34m)\u001b[0m\u001b[0;34m\u001b[0m\u001b[0;34m\u001b[0m\u001b[0m\n\u001b[1;32m      4\u001b[0m     \u001b[0mfig\u001b[0m\u001b[0;34m,\u001b[0m \u001b[0max\u001b[0m \u001b[0;34m=\u001b[0m \u001b[0mplt\u001b[0m\u001b[0;34m.\u001b[0m\u001b[0msubplots\u001b[0m\u001b[0;34m(\u001b[0m\u001b[0mfigsize\u001b[0m\u001b[0;34m=\u001b[0m\u001b[0;34m(\u001b[0m\u001b[0;36m10\u001b[0m\u001b[0;34m,\u001b[0m \u001b[0;36m6\u001b[0m\u001b[0;34m)\u001b[0m\u001b[0;34m,\u001b[0m\u001b[0;34m)\u001b[0m\u001b[0;34m\u001b[0m\u001b[0;34m\u001b[0m\u001b[0m\n\u001b[0;32m----> 5\u001b[0;31m     \u001b[0max\u001b[0m\u001b[0;34m.\u001b[0m\u001b[0mscatter\u001b[0m\u001b[0;34m(\u001b[0m\u001b[0msamples\u001b[0m\u001b[0;34m[\u001b[0m\u001b[0;34m\"delta\"\u001b[0m\u001b[0;34m]\u001b[0m\u001b[0;34m,\u001b[0m \u001b[0msamples\u001b[0m\u001b[0;34m[\u001b[0m\u001b[0;34m\"theta_f\"\u001b[0m\u001b[0;34m]\u001b[0m\u001b[0;34m)\u001b[0m\u001b[0;34m\u001b[0m\u001b[0;34m\u001b[0m\u001b[0m\n\u001b[0m\u001b[1;32m      6\u001b[0m     ax.set(\n\u001b[1;32m      7\u001b[0m         \u001b[0mxlabel\u001b[0m\u001b[0;34m=\u001b[0m\u001b[0;34m\"Value of Delta\"\u001b[0m\u001b[0;34m,\u001b[0m\u001b[0;34m\u001b[0m\u001b[0;34m\u001b[0m\u001b[0m\n",
      "\u001b[0;31mKeyError\u001b[0m: 'delta'"
     ]
    },
    {
     "data": {
      "image/png": "[encoded data removed]",
      "text/plain": [
       "<Figure size 720x432 with 1 Axes>"
      ]
     },
     "metadata": {
      "needs_background": "light"
     },
     "output_type": "display_data"
    }
   ],
   "source": [
    "# 2d scatterplot (maximum ascent would be where theta= delta *distance )\n",
    "if plot:\n",
    "    plt.rcParams.update({\"font.size\": 15})\n",
    "    fig, ax = plt.subplots(figsize=(10, 6),)\n",
    "    ax.scatter(samples[\"delta\"], samples[\"theta_f\"])\n",
    "    ax.set(\n",
    "        xlabel=\"Value of Delta\",\n",
    "        ylabel=r\"Value of $\\theta_f$\",\n",
    "        title=\"Scatter Plot of Parameter Samples from Posterior Distribution\",\n",
    "    )\n",
    "    ax.set_xlim((0.00005, 0.0001))\n",
    "\n",
    "    plt.savefig(\"includes/model1/scatter_delta_theta_f.png\")\n",
    "    plt.close()\n",
    "\n",
    "    # pcolormesh\n",
    "    fig, ax = plt.subplots(figsize=(10, 6),)\n",
    "    hist_2d = ax.hist2d(\n",
    "        samples[\"delta\"], samples[\"theta_f\"], bins=(15, 15), cmap=plt.cm.jet\n",
    "    )\n",
    "    ax.set(\n",
    "        xlabel=\"Value of Delta\",\n",
    "        ylabel=r\"Value of $\\theta_f$\",\n",
    "        title=\"2d Histogram of Parameter Samples from Posterior Distribution\",\n",
    "    )\n",
    "    plt.colorbar(hist_2d[3], ax=ax)\n",
    "\n",
    "    plt.savefig(\"includes/model1/hist_delta_theta_f.png\")\n",
    "    plt.close()"
   ]
  },
  {
   "cell_type": "code",
   "execution_count": null,
   "metadata": {},
   "outputs": [],
   "source": [
    "display(\n",
    "    Image(\"includes/model1/scatter_delta_theta_f.png\"),\n",
    "    Image(\"includes/model1/hist_delta_theta_f.png\")\n",
    ")"
   ]
  },
  {
   "cell_type": "markdown",
   "metadata": {
    "colab_type": "text",
    "id": "JIut3qbi9oYU"
   },
   "source": [
    "$\\theta_f$ implicitly determines the effective distance. At 23 latitutude, one degree of latitude is 110,758 m and one degree of longitude is 101,751 m.  Hence if we have a well that is $\\sqrt{(.001)^2 + (.001)^2}$ or $\\sqrt{110^2+101^2}\\approx 150 m$ away then \n",
    "$\\theta_f$ of 0.2 will give the importance of a single pixel at that distance as $\\delta \\times e^{(-.001/0.2)}\\times y_f$.  If we assume we have on the order of 400 classified pixels within that distance, we can calculate the total effect of the farms on a given well as $\\delta \\times e^{(0.001/2)}\\times y_f\\times 500$.   "
   ]
  },
  {
   "cell_type": "code",
   "execution_count": null,
   "metadata": {
    "colab": {},
    "colab_type": "code",
    "id": "a7S82kp-51Fd"
   },
   "outputs": [],
   "source": [
    "if plot:\n",
    "    # Grab quantiles and medians and plot them\n",
    "    mu_post_list_med = np.median(samples[\"mu\"], 0)\n",
    "    mpl_quant = np.quantile(samples[\"mu\"], q=(0.025, 0.975), axis=0)\n",
    "\n",
    "    fig, ax = plt.subplots(figsize=(10, 6),)\n",
    "    ax.plot(mu_post_list_med)\n",
    "    ax.set(\n",
    "        ylabel=r\"Posteriror Values of $\\mu_t$\",\n",
    "        xlabel=r\"Time Period\",\n",
    "        title=r\"Scatter Plot of Median $\\mu$ Values\",\n",
    "    )\n",
    "\n",
    "    plotline, caplines, barlinecols = plt.errorbar(\n",
    "        list(range(len(mu_post_list_med))),\n",
    "        mu_post_list_med,\n",
    "        yerr=mpl_quant[1],\n",
    "        lolims=True,\n",
    "        label=\"uplims=True\",\n",
    "        color=\"orange\",\n",
    "    )\n",
    "    caplines[0].set_marker(\"_\")\n",
    "    caplines[0].set_markersize(10)\n",
    "\n",
    "    plotline2, caplines2, barlinecols2 = plt.errorbar(\n",
    "        list(range(len(mu_post_list_med))),\n",
    "        mu_post_list_med,\n",
    "        yerr=mpl_quant[0],\n",
    "        uplim`s=True,\n",
    "        label=\"uplims=True\",\n",
    "        color=\"orange\",\n",
    "    )\n",
    "    caplines2[0].set_marker(\"_\")\n",
    "    caplines2[0].set_markersize(10)\n",
    "\n",
    "    plt.savefig(\"includes/model1/mu.png\")\n",
    "    plt.close()"
   ]
  },
  {
   "cell_type": "code",
   "execution_count": null,
   "metadata": {
    "colab": {},
    "colab_type": "code",
    "id": "ExibmWo48oYG"
   },
   "outputs": [],
   "source": [
    "Image(\"includes/model1/mu.png\")"
   ]
  }
 ],
 "metadata": {
  "colab": {
   "collapsed_sections": [
    "xLUdDiQv6cxR",
    "b2RgkpOLob03"
   ],
   "name": "code.ipynb",
   "provenance": []
  },
  "hide_input": false,
  "kernelspec": {
   "display_name": "Python 3",
   "language": "python",
   "name": "python3"
  },
  "language_info": {
   "codemirror_mode": {
    "name": "ipython",
    "version": 3
   },
   "file_extension": ".py",
   "mimetype": "text/x-python",
   "name": "python",
   "nbconvert_exporter": "python",
   "pygments_lexer": "ipython3",
   "version": "3.7.3"
  },
  "toc": {
   "base_numbering": 1,
   "nav_menu": {},
   "number_sections": true,
   "sideBar": true,
   "skip_h1_title": false,
   "title_cell": "Table of Contents",
   "title_sidebar": "Contents",
   "toc_cell": false,
   "toc_position": {},
   "toc_section_display": true,
   "toc_window_display": false
  }
 },
 "nbformat": 4,
 "nbformat_minor": 4
}
